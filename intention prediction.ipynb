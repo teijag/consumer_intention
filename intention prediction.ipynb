{
 "cells": [
  {
   "cell_type": "code",
   "execution_count": 279,
   "metadata": {},
   "outputs": [],
   "source": [
    "import pandas as pd\n",
    "from matplotlib import pyplot as plt\n",
    "import seaborn as sns\n",
    "import numpy as np\n",
    "from sklearn.model_selection import train_test_split\n",
    "from sklearn.preprocessing import MinMaxScaler\n",
    "from sklearn.linear_model import LogisticRegressionCV\n",
    "from sklearn.metrics import precision_score, recall_score, accuracy_score, classification_report, confusion_matrix\n",
    "from sklearn.ensemble import RandomForestClassifier\n",
    "from sklearn.naive_bayes import GaussianNB\n",
    "from sklearn.svm import LinearSVC\n",
    "import itertools\n",
    "from statsmodels.stats.outliers_influence import variance_inflation_factor\n"
   ]
  },
  {
   "cell_type": "code",
   "execution_count": 280,
   "metadata": {},
   "outputs": [],
   "source": [
    "df = pd.read_csv(\"online_shoppers_intention.csv\")"
   ]
  },
  {
   "cell_type": "markdown",
   "metadata": {
    "heading_collapsed": true
   },
   "source": [
    "# 1. Data overview\n",
    "\n",
    "Let's first check the basics of the dataset - the rows, columns, datatypes and null values."
   ]
  },
  {
   "cell_type": "code",
   "execution_count": 281,
   "metadata": {
    "hidden": true
   },
   "outputs": [
    {
     "data": {
      "text/html": [
       "<div>\n",
       "<style scoped>\n",
       "    .dataframe tbody tr th:only-of-type {\n",
       "        vertical-align: middle;\n",
       "    }\n",
       "\n",
       "    .dataframe tbody tr th {\n",
       "        vertical-align: top;\n",
       "    }\n",
       "\n",
       "    .dataframe thead th {\n",
       "        text-align: right;\n",
       "    }\n",
       "</style>\n",
       "<table border=\"1\" class=\"dataframe\">\n",
       "  <thead>\n",
       "    <tr style=\"text-align: right;\">\n",
       "      <th></th>\n",
       "      <th>Administrative</th>\n",
       "      <th>Administrative_Duration</th>\n",
       "      <th>Informational</th>\n",
       "      <th>Informational_Duration</th>\n",
       "      <th>ProductRelated</th>\n",
       "      <th>ProductRelated_Duration</th>\n",
       "      <th>BounceRates</th>\n",
       "      <th>ExitRates</th>\n",
       "      <th>PageValues</th>\n",
       "      <th>SpecialDay</th>\n",
       "      <th>Month</th>\n",
       "      <th>OperatingSystems</th>\n",
       "      <th>Browser</th>\n",
       "      <th>Region</th>\n",
       "      <th>TrafficType</th>\n",
       "      <th>VisitorType</th>\n",
       "      <th>Weekend</th>\n",
       "      <th>Revenue</th>\n",
       "    </tr>\n",
       "  </thead>\n",
       "  <tbody>\n",
       "    <tr>\n",
       "      <th>0</th>\n",
       "      <td>0</td>\n",
       "      <td>0.0</td>\n",
       "      <td>0</td>\n",
       "      <td>0.0</td>\n",
       "      <td>1</td>\n",
       "      <td>0.000000</td>\n",
       "      <td>0.20</td>\n",
       "      <td>0.20</td>\n",
       "      <td>0.0</td>\n",
       "      <td>0.0</td>\n",
       "      <td>Feb</td>\n",
       "      <td>1</td>\n",
       "      <td>1</td>\n",
       "      <td>1</td>\n",
       "      <td>1</td>\n",
       "      <td>Returning_Visitor</td>\n",
       "      <td>False</td>\n",
       "      <td>False</td>\n",
       "    </tr>\n",
       "    <tr>\n",
       "      <th>1</th>\n",
       "      <td>0</td>\n",
       "      <td>0.0</td>\n",
       "      <td>0</td>\n",
       "      <td>0.0</td>\n",
       "      <td>2</td>\n",
       "      <td>64.000000</td>\n",
       "      <td>0.00</td>\n",
       "      <td>0.10</td>\n",
       "      <td>0.0</td>\n",
       "      <td>0.0</td>\n",
       "      <td>Feb</td>\n",
       "      <td>2</td>\n",
       "      <td>2</td>\n",
       "      <td>1</td>\n",
       "      <td>2</td>\n",
       "      <td>Returning_Visitor</td>\n",
       "      <td>False</td>\n",
       "      <td>False</td>\n",
       "    </tr>\n",
       "    <tr>\n",
       "      <th>2</th>\n",
       "      <td>0</td>\n",
       "      <td>0.0</td>\n",
       "      <td>0</td>\n",
       "      <td>0.0</td>\n",
       "      <td>1</td>\n",
       "      <td>0.000000</td>\n",
       "      <td>0.20</td>\n",
       "      <td>0.20</td>\n",
       "      <td>0.0</td>\n",
       "      <td>0.0</td>\n",
       "      <td>Feb</td>\n",
       "      <td>4</td>\n",
       "      <td>1</td>\n",
       "      <td>9</td>\n",
       "      <td>3</td>\n",
       "      <td>Returning_Visitor</td>\n",
       "      <td>False</td>\n",
       "      <td>False</td>\n",
       "    </tr>\n",
       "    <tr>\n",
       "      <th>3</th>\n",
       "      <td>0</td>\n",
       "      <td>0.0</td>\n",
       "      <td>0</td>\n",
       "      <td>0.0</td>\n",
       "      <td>2</td>\n",
       "      <td>2.666667</td>\n",
       "      <td>0.05</td>\n",
       "      <td>0.14</td>\n",
       "      <td>0.0</td>\n",
       "      <td>0.0</td>\n",
       "      <td>Feb</td>\n",
       "      <td>3</td>\n",
       "      <td>2</td>\n",
       "      <td>2</td>\n",
       "      <td>4</td>\n",
       "      <td>Returning_Visitor</td>\n",
       "      <td>False</td>\n",
       "      <td>False</td>\n",
       "    </tr>\n",
       "    <tr>\n",
       "      <th>4</th>\n",
       "      <td>0</td>\n",
       "      <td>0.0</td>\n",
       "      <td>0</td>\n",
       "      <td>0.0</td>\n",
       "      <td>10</td>\n",
       "      <td>627.500000</td>\n",
       "      <td>0.02</td>\n",
       "      <td>0.05</td>\n",
       "      <td>0.0</td>\n",
       "      <td>0.0</td>\n",
       "      <td>Feb</td>\n",
       "      <td>3</td>\n",
       "      <td>3</td>\n",
       "      <td>1</td>\n",
       "      <td>4</td>\n",
       "      <td>Returning_Visitor</td>\n",
       "      <td>True</td>\n",
       "      <td>False</td>\n",
       "    </tr>\n",
       "  </tbody>\n",
       "</table>\n",
       "</div>"
      ],
      "text/plain": [
       "   Administrative  Administrative_Duration  Informational  \\\n",
       "0               0                      0.0              0   \n",
       "1               0                      0.0              0   \n",
       "2               0                      0.0              0   \n",
       "3               0                      0.0              0   \n",
       "4               0                      0.0              0   \n",
       "\n",
       "   Informational_Duration  ProductRelated  ProductRelated_Duration  \\\n",
       "0                     0.0               1                 0.000000   \n",
       "1                     0.0               2                64.000000   \n",
       "2                     0.0               1                 0.000000   \n",
       "3                     0.0               2                 2.666667   \n",
       "4                     0.0              10               627.500000   \n",
       "\n",
       "   BounceRates  ExitRates  PageValues  SpecialDay Month  OperatingSystems  \\\n",
       "0         0.20       0.20         0.0         0.0   Feb                 1   \n",
       "1         0.00       0.10         0.0         0.0   Feb                 2   \n",
       "2         0.20       0.20         0.0         0.0   Feb                 4   \n",
       "3         0.05       0.14         0.0         0.0   Feb                 3   \n",
       "4         0.02       0.05         0.0         0.0   Feb                 3   \n",
       "\n",
       "   Browser  Region  TrafficType        VisitorType  Weekend  Revenue  \n",
       "0        1       1            1  Returning_Visitor    False    False  \n",
       "1        2       1            2  Returning_Visitor    False    False  \n",
       "2        1       9            3  Returning_Visitor    False    False  \n",
       "3        2       2            4  Returning_Visitor    False    False  \n",
       "4        3       1            4  Returning_Visitor     True    False  "
      ]
     },
     "execution_count": 281,
     "metadata": {},
     "output_type": "execute_result"
    }
   ],
   "source": [
    "df.head(5)"
   ]
  },
  {
   "cell_type": "code",
   "execution_count": 282,
   "metadata": {
    "hidden": true
   },
   "outputs": [
    {
     "name": "stdout",
     "output_type": "stream",
     "text": [
      "<class 'pandas.core.frame.DataFrame'>\n",
      "RangeIndex: 12330 entries, 0 to 12329\n",
      "Data columns (total 18 columns):\n",
      "Administrative             12330 non-null int64\n",
      "Administrative_Duration    12330 non-null float64\n",
      "Informational              12330 non-null int64\n",
      "Informational_Duration     12330 non-null float64\n",
      "ProductRelated             12330 non-null int64\n",
      "ProductRelated_Duration    12330 non-null float64\n",
      "BounceRates                12330 non-null float64\n",
      "ExitRates                  12330 non-null float64\n",
      "PageValues                 12330 non-null float64\n",
      "SpecialDay                 12330 non-null float64\n",
      "Month                      12330 non-null object\n",
      "OperatingSystems           12330 non-null int64\n",
      "Browser                    12330 non-null int64\n",
      "Region                     12330 non-null int64\n",
      "TrafficType                12330 non-null int64\n",
      "VisitorType                12330 non-null object\n",
      "Weekend                    12330 non-null bool\n",
      "Revenue                    12330 non-null bool\n",
      "dtypes: bool(2), float64(7), int64(7), object(2)\n",
      "memory usage: 1.5+ MB\n"
     ]
    }
   ],
   "source": [
    "df.info()"
   ]
  },
  {
   "cell_type": "code",
   "execution_count": 283,
   "metadata": {
    "hidden": true
   },
   "outputs": [
    {
     "data": {
      "text/html": [
       "<div>\n",
       "<style scoped>\n",
       "    .dataframe tbody tr th:only-of-type {\n",
       "        vertical-align: middle;\n",
       "    }\n",
       "\n",
       "    .dataframe tbody tr th {\n",
       "        vertical-align: top;\n",
       "    }\n",
       "\n",
       "    .dataframe thead th {\n",
       "        text-align: right;\n",
       "    }\n",
       "</style>\n",
       "<table border=\"1\" class=\"dataframe\">\n",
       "  <thead>\n",
       "    <tr style=\"text-align: right;\">\n",
       "      <th></th>\n",
       "      <th>Administrative</th>\n",
       "      <th>Administrative_Duration</th>\n",
       "      <th>Informational</th>\n",
       "      <th>Informational_Duration</th>\n",
       "      <th>ProductRelated</th>\n",
       "      <th>ProductRelated_Duration</th>\n",
       "      <th>BounceRates</th>\n",
       "      <th>ExitRates</th>\n",
       "      <th>PageValues</th>\n",
       "      <th>SpecialDay</th>\n",
       "      <th>OperatingSystems</th>\n",
       "      <th>Browser</th>\n",
       "      <th>Region</th>\n",
       "      <th>TrafficType</th>\n",
       "    </tr>\n",
       "  </thead>\n",
       "  <tbody>\n",
       "    <tr>\n",
       "      <th>count</th>\n",
       "      <td>12330.000000</td>\n",
       "      <td>12330.000000</td>\n",
       "      <td>12330.000000</td>\n",
       "      <td>12330.000000</td>\n",
       "      <td>12330.000000</td>\n",
       "      <td>12330.000000</td>\n",
       "      <td>12330.000000</td>\n",
       "      <td>12330.000000</td>\n",
       "      <td>12330.000000</td>\n",
       "      <td>12330.000000</td>\n",
       "      <td>12330.000000</td>\n",
       "      <td>12330.000000</td>\n",
       "      <td>12330.000000</td>\n",
       "      <td>12330.000000</td>\n",
       "    </tr>\n",
       "    <tr>\n",
       "      <th>mean</th>\n",
       "      <td>2.315166</td>\n",
       "      <td>80.818611</td>\n",
       "      <td>0.503569</td>\n",
       "      <td>34.472398</td>\n",
       "      <td>31.731468</td>\n",
       "      <td>1194.746220</td>\n",
       "      <td>0.022191</td>\n",
       "      <td>0.043073</td>\n",
       "      <td>5.889258</td>\n",
       "      <td>0.061427</td>\n",
       "      <td>2.124006</td>\n",
       "      <td>2.357097</td>\n",
       "      <td>3.147364</td>\n",
       "      <td>4.069586</td>\n",
       "    </tr>\n",
       "    <tr>\n",
       "      <th>std</th>\n",
       "      <td>3.321784</td>\n",
       "      <td>176.779107</td>\n",
       "      <td>1.270156</td>\n",
       "      <td>140.749294</td>\n",
       "      <td>44.475503</td>\n",
       "      <td>1913.669288</td>\n",
       "      <td>0.048488</td>\n",
       "      <td>0.048597</td>\n",
       "      <td>18.568437</td>\n",
       "      <td>0.198917</td>\n",
       "      <td>0.911325</td>\n",
       "      <td>1.717277</td>\n",
       "      <td>2.401591</td>\n",
       "      <td>4.025169</td>\n",
       "    </tr>\n",
       "    <tr>\n",
       "      <th>min</th>\n",
       "      <td>0.000000</td>\n",
       "      <td>0.000000</td>\n",
       "      <td>0.000000</td>\n",
       "      <td>0.000000</td>\n",
       "      <td>0.000000</td>\n",
       "      <td>0.000000</td>\n",
       "      <td>0.000000</td>\n",
       "      <td>0.000000</td>\n",
       "      <td>0.000000</td>\n",
       "      <td>0.000000</td>\n",
       "      <td>1.000000</td>\n",
       "      <td>1.000000</td>\n",
       "      <td>1.000000</td>\n",
       "      <td>1.000000</td>\n",
       "    </tr>\n",
       "    <tr>\n",
       "      <th>25%</th>\n",
       "      <td>0.000000</td>\n",
       "      <td>0.000000</td>\n",
       "      <td>0.000000</td>\n",
       "      <td>0.000000</td>\n",
       "      <td>7.000000</td>\n",
       "      <td>184.137500</td>\n",
       "      <td>0.000000</td>\n",
       "      <td>0.014286</td>\n",
       "      <td>0.000000</td>\n",
       "      <td>0.000000</td>\n",
       "      <td>2.000000</td>\n",
       "      <td>2.000000</td>\n",
       "      <td>1.000000</td>\n",
       "      <td>2.000000</td>\n",
       "    </tr>\n",
       "    <tr>\n",
       "      <th>50%</th>\n",
       "      <td>1.000000</td>\n",
       "      <td>7.500000</td>\n",
       "      <td>0.000000</td>\n",
       "      <td>0.000000</td>\n",
       "      <td>18.000000</td>\n",
       "      <td>598.936905</td>\n",
       "      <td>0.003112</td>\n",
       "      <td>0.025156</td>\n",
       "      <td>0.000000</td>\n",
       "      <td>0.000000</td>\n",
       "      <td>2.000000</td>\n",
       "      <td>2.000000</td>\n",
       "      <td>3.000000</td>\n",
       "      <td>2.000000</td>\n",
       "    </tr>\n",
       "    <tr>\n",
       "      <th>75%</th>\n",
       "      <td>4.000000</td>\n",
       "      <td>93.256250</td>\n",
       "      <td>0.000000</td>\n",
       "      <td>0.000000</td>\n",
       "      <td>38.000000</td>\n",
       "      <td>1464.157213</td>\n",
       "      <td>0.016813</td>\n",
       "      <td>0.050000</td>\n",
       "      <td>0.000000</td>\n",
       "      <td>0.000000</td>\n",
       "      <td>3.000000</td>\n",
       "      <td>2.000000</td>\n",
       "      <td>4.000000</td>\n",
       "      <td>4.000000</td>\n",
       "    </tr>\n",
       "    <tr>\n",
       "      <th>max</th>\n",
       "      <td>27.000000</td>\n",
       "      <td>3398.750000</td>\n",
       "      <td>24.000000</td>\n",
       "      <td>2549.375000</td>\n",
       "      <td>705.000000</td>\n",
       "      <td>63973.522230</td>\n",
       "      <td>0.200000</td>\n",
       "      <td>0.200000</td>\n",
       "      <td>361.763742</td>\n",
       "      <td>1.000000</td>\n",
       "      <td>8.000000</td>\n",
       "      <td>13.000000</td>\n",
       "      <td>9.000000</td>\n",
       "      <td>20.000000</td>\n",
       "    </tr>\n",
       "  </tbody>\n",
       "</table>\n",
       "</div>"
      ],
      "text/plain": [
       "       Administrative  Administrative_Duration  Informational  \\\n",
       "count    12330.000000             12330.000000   12330.000000   \n",
       "mean         2.315166                80.818611       0.503569   \n",
       "std          3.321784               176.779107       1.270156   \n",
       "min          0.000000                 0.000000       0.000000   \n",
       "25%          0.000000                 0.000000       0.000000   \n",
       "50%          1.000000                 7.500000       0.000000   \n",
       "75%          4.000000                93.256250       0.000000   \n",
       "max         27.000000              3398.750000      24.000000   \n",
       "\n",
       "       Informational_Duration  ProductRelated  ProductRelated_Duration  \\\n",
       "count            12330.000000    12330.000000             12330.000000   \n",
       "mean                34.472398       31.731468              1194.746220   \n",
       "std                140.749294       44.475503              1913.669288   \n",
       "min                  0.000000        0.000000                 0.000000   \n",
       "25%                  0.000000        7.000000               184.137500   \n",
       "50%                  0.000000       18.000000               598.936905   \n",
       "75%                  0.000000       38.000000              1464.157213   \n",
       "max               2549.375000      705.000000             63973.522230   \n",
       "\n",
       "        BounceRates     ExitRates    PageValues    SpecialDay  \\\n",
       "count  12330.000000  12330.000000  12330.000000  12330.000000   \n",
       "mean       0.022191      0.043073      5.889258      0.061427   \n",
       "std        0.048488      0.048597     18.568437      0.198917   \n",
       "min        0.000000      0.000000      0.000000      0.000000   \n",
       "25%        0.000000      0.014286      0.000000      0.000000   \n",
       "50%        0.003112      0.025156      0.000000      0.000000   \n",
       "75%        0.016813      0.050000      0.000000      0.000000   \n",
       "max        0.200000      0.200000    361.763742      1.000000   \n",
       "\n",
       "       OperatingSystems       Browser        Region   TrafficType  \n",
       "count      12330.000000  12330.000000  12330.000000  12330.000000  \n",
       "mean           2.124006      2.357097      3.147364      4.069586  \n",
       "std            0.911325      1.717277      2.401591      4.025169  \n",
       "min            1.000000      1.000000      1.000000      1.000000  \n",
       "25%            2.000000      2.000000      1.000000      2.000000  \n",
       "50%            2.000000      2.000000      3.000000      2.000000  \n",
       "75%            3.000000      2.000000      4.000000      4.000000  \n",
       "max            8.000000     13.000000      9.000000     20.000000  "
      ]
     },
     "execution_count": 283,
     "metadata": {},
     "output_type": "execute_result"
    }
   ],
   "source": [
    "df.describe()"
   ]
  },
  {
   "cell_type": "code",
   "execution_count": 284,
   "metadata": {
    "hidden": true,
    "scrolled": true
   },
   "outputs": [
    {
     "data": {
      "text/plain": [
       "Administrative             0\n",
       "Administrative_Duration    0\n",
       "Informational              0\n",
       "Informational_Duration     0\n",
       "ProductRelated             0\n",
       "ProductRelated_Duration    0\n",
       "BounceRates                0\n",
       "ExitRates                  0\n",
       "PageValues                 0\n",
       "SpecialDay                 0\n",
       "Month                      0\n",
       "OperatingSystems           0\n",
       "Browser                    0\n",
       "Region                     0\n",
       "TrafficType                0\n",
       "VisitorType                0\n",
       "Weekend                    0\n",
       "Revenue                    0\n",
       "dtype: int64"
      ]
     },
     "execution_count": 284,
     "metadata": {},
     "output_type": "execute_result"
    }
   ],
   "source": [
    "# check na values\n",
    "df.isna().sum()"
   ]
  },
  {
   "cell_type": "markdown",
   "metadata": {
    "hidden": true
   },
   "source": [
    "The dataset is pretty clean and ready for the next steps - let's see how each column is distributed."
   ]
  },
  {
   "cell_type": "code",
   "execution_count": 285,
   "metadata": {
    "hidden": true
   },
   "outputs": [
    {
     "name": "stdout",
     "output_type": "stream",
     "text": [
      "Administrative\n"
     ]
    },
    {
     "data": {
      "image/png": "[encoded data removed]",
      "text/plain": [
       "<Figure size 432x288 with 1 Axes>"
      ]
     },
     "metadata": {
      "needs_background": "light"
     },
     "output_type": "display_data"
    },
    {
     "name": "stdout",
     "output_type": "stream",
     "text": [
      "Administrative_Duration\n"
     ]
    },
    {
     "data": {
      "image/png": "[encoded data removed]",
      "text/plain": [
       "<Figure size 432x288 with 1 Axes>"
      ]
     },
     "metadata": {
      "needs_background": "light"
     },
     "output_type": "display_data"
    },
    {
     "name": "stdout",
     "output_type": "stream",
     "text": [
      "Informational\n"
     ]
    },
    {
     "data": {
      "image/png": "[encoded data removed]",
      "text/plain": [
       "<Figure size 432x288 with 1 Axes>"
      ]
     },
     "metadata": {
      "needs_background": "light"
     },
     "output_type": "display_data"
    },
    {
     "name": "stdout",
     "output_type": "stream",
     "text": [
      "Informational_Duration\n"
     ]
    },
    {
     "data": {
      "image/png": "[encoded data removed]",
      "text/plain": [
       "<Figure size 432x288 with 1 Axes>"
      ]
     },
     "metadata": {
      "needs_background": "light"
     },
     "output_type": "display_data"
    },
    {
     "name": "stdout",
     "output_type": "stream",
     "text": [
      "ProductRelated\n"
     ]
    },
    {
     "data": {
      "image/png": "[encoded data removed]",
      "text/plain": [
       "<Figure size 432x288 with 1 Axes>"
      ]
     },
     "metadata": {
      "needs_background": "light"
     },
     "output_type": "display_data"
    },
    {
     "name": "stdout",
     "output_type": "stream",
     "text": [
      "ProductRelated_Duration\n"
     ]
    },
    {
     "data": {
      "image/png": "[encoded data removed]",
      "text/plain": [
       "<Figure size 432x288 with 1 Axes>"
      ]
     },
     "metadata": {
      "needs_background": "light"
     },
     "output_type": "display_data"
    },
    {
     "name": "stdout",
     "output_type": "stream",
     "text": [
      "BounceRates\n"
     ]
    },
    {
     "data": {
      "image/png": "[encoded data removed]",
      "text/plain": [
       "<Figure size 432x288 with 1 Axes>"
      ]
     },
     "metadata": {
      "needs_background": "light"
     },
     "output_type": "display_data"
    },
    {
     "name": "stdout",
     "output_type": "stream",
     "text": [
      "ExitRates\n"
     ]
    },
    {
     "data": {
      "image/png": "[encoded data removed]",
      "text/plain": [
       "<Figure size 432x288 with 1 Axes>"
      ]
     },
     "metadata": {
      "needs_background": "light"
     },
     "output_type": "display_data"
    },
    {
     "name": "stdout",
     "output_type": "stream",
     "text": [
      "PageValues\n"
     ]
    },
    {
     "data": {
      "image/png": "[encoded data removed]",
      "text/plain": [
       "<Figure size 432x288 with 1 Axes>"
      ]
     },
     "metadata": {
      "needs_background": "light"
     },
     "output_type": "display_data"
    },
    {
     "name": "stdout",
     "output_type": "stream",
     "text": [
      "SpecialDay\n"
     ]
    },
    {
     "data": {
      "image/png": "[encoded data removed]",
      "text/plain": [
       "<Figure size 432x288 with 1 Axes>"
      ]
     },
     "metadata": {
      "needs_background": "light"
     },
     "output_type": "display_data"
    },
    {
     "name": "stdout",
     "output_type": "stream",
     "text": [
      "Month\n",
      "May     3364\n",
      "Nov     2998\n",
      "Mar     1907\n",
      "Dec     1727\n",
      "Oct      549\n",
      "Sep      448\n",
      "Aug      433\n",
      "Jul      432\n",
      "June     288\n",
      "Feb      184\n",
      "Name: Month, dtype: int64\n"
     ]
    },
    {
     "data": {
      "image/png": "[encoded data removed]",
      "text/plain": [
       "<Figure size 432x288 with 1 Axes>"
      ]
     },
     "metadata": {
      "needs_background": "light"
     },
     "output_type": "display_data"
    },
    {
     "name": "stdout",
     "output_type": "stream",
     "text": [
      "OperatingSystems\n",
      "2    6601\n",
      "1    2585\n",
      "3    2555\n",
      "4     478\n",
      "8      79\n",
      "6      19\n",
      "7       7\n",
      "5       6\n",
      "Name: OperatingSystems, dtype: int64\n"
     ]
    },
    {
     "data": {
      "image/png": "[encoded data removed]",
      "text/plain": [
       "<Figure size 432x288 with 1 Axes>"
      ]
     },
     "metadata": {
      "needs_background": "light"
     },
     "output_type": "display_data"
    },
    {
     "name": "stdout",
     "output_type": "stream",
     "text": [
      "Browser\n",
      "2     7961\n",
      "1     2462\n",
      "4      736\n",
      "5      467\n",
      "6      174\n",
      "10     163\n",
      "8      135\n",
      "3      105\n",
      "13      61\n",
      "7       49\n",
      "12      10\n",
      "11       6\n",
      "9        1\n",
      "Name: Browser, dtype: int64\n"
     ]
    },
    {
     "data": {
      "image/png": "[encoded data removed]",
      "text/plain": [
       "<Figure size 432x288 with 1 Axes>"
      ]
     },
     "metadata": {
      "needs_background": "light"
     },
     "output_type": "display_data"
    },
    {
     "name": "stdout",
     "output_type": "stream",
     "text": [
      "Region\n",
      "1    4780\n",
      "3    2403\n",
      "4    1182\n",
      "2    1136\n",
      "6     805\n",
      "7     761\n",
      "9     511\n",
      "8     434\n",
      "5     318\n",
      "Name: Region, dtype: int64\n"
     ]
    },
    {
     "data": {
      "image/png": "[encoded data removed]",
      "text/plain": [
       "<Figure size 432x288 with 1 Axes>"
      ]
     },
     "metadata": {
      "needs_background": "light"
     },
     "output_type": "display_data"
    },
    {
     "name": "stdout",
     "output_type": "stream",
     "text": [
      "TrafficType\n",
      "2     3913\n",
      "1     2451\n",
      "3     2052\n",
      "4     1069\n",
      "13     738\n",
      "10     450\n",
      "6      444\n",
      "8      343\n",
      "5      260\n",
      "11     247\n",
      "20     198\n",
      "9       42\n",
      "7       40\n",
      "15      38\n",
      "19      17\n",
      "14      13\n",
      "18      10\n",
      "16       3\n",
      "12       1\n",
      "17       1\n",
      "Name: TrafficType, dtype: int64\n"
     ]
    },
    {
     "data": {
      "image/png": "[encoded data removed]",
      "text/plain": [
       "<Figure size 432x288 with 1 Axes>"
      ]
     },
     "metadata": {
      "needs_background": "light"
     },
     "output_type": "display_data"
    },
    {
     "name": "stdout",
     "output_type": "stream",
     "text": [
      "VisitorType\n",
      "Returning_Visitor    10551\n",
      "New_Visitor           1694\n",
      "Other                   85\n",
      "Name: VisitorType, dtype: int64\n"
     ]
    },
    {
     "data": {
      "image/png": "[encoded data removed]",
      "text/plain": [
       "<Figure size 432x288 with 1 Axes>"
      ]
     },
     "metadata": {
      "needs_background": "light"
     },
     "output_type": "display_data"
    },
    {
     "name": "stdout",
     "output_type": "stream",
     "text": [
      "Weekend\n",
      "False    9462\n",
      "True     2868\n",
      "Name: Weekend, dtype: int64\n"
     ]
    },
    {
     "data": {
      "image/png": "[encoded data removed]",
      "text/plain": [
       "<Figure size 432x288 with 1 Axes>"
      ]
     },
     "metadata": {
      "needs_background": "light"
     },
     "output_type": "display_data"
    },
    {
     "name": "stdout",
     "output_type": "stream",
     "text": [
      "Revenue\n",
      "False    10422\n",
      "True      1908\n",
      "Name: Revenue, dtype: int64\n"
     ]
    },
    {
     "data": {
      "image/png": "[encoded data removed]",
      "text/plain": [
       "<Figure size 432x288 with 1 Axes>"
      ]
     },
     "metadata": {
      "needs_background": "light"
     },
     "output_type": "display_data"
    }
   ],
   "source": [
    "# type casting - bar charts for categorical columns, boxplots for numeric\n",
    "cat_col = df.columns[10:16]\n",
    "num_col = df.columns[0:10]\n",
    "bin_col = df.columns[16:18]\n",
    "for i in num_col:\n",
    "    print (i)\n",
    "    plt.boxplot(df[i])\n",
    "    plt.show()\n",
    "for i in cat_col:\n",
    "    df[i] = df[i].astype(\"category\")\n",
    "    print (i)\n",
    "    print (df[i].value_counts())\n",
    "    df[i].value_counts().plot.bar()\n",
    "    plt.show()\n",
    "for i in bin_col:\n",
    "    print (i)\n",
    "    print (df[i].value_counts())\n",
    "    df[i].value_counts().plot.bar()\n",
    "    plt.show()\n"
   ]
  },
  {
   "cell_type": "markdown",
   "metadata": {
    "hidden": true
   },
   "source": [
    "intersting findings: \n",
    "1. We see outliers existed in most numerical columns, especially those about page durations. It's unlikely that a person will have a session longer than hours, so we need to handle this outliers later.\n",
    "2. For most categorical variables, there're some main groups, and a small number of data spreaded out in other groups. To avoid a sparse dataset after one hot encoding, we can group the small categories into one.\n",
    "3. The positive class is about 15%. We may need to avoid using accuracy, over-sample the minority class or do something else to handle the class imblance issue."
   ]
  },
  {
   "cell_type": "code",
   "execution_count": 225,
   "metadata": {
    "hidden": true
   },
   "outputs": [
    {
     "data": {
      "text/plain": [
       "<matplotlib.axes._subplots.AxesSubplot at 0x1a1f902ef0>"
      ]
     },
     "execution_count": 225,
     "metadata": {},
     "output_type": "execute_result"
    },
    {
     "data": {
      "image/png": "[encoded data removed]",
      "text/plain": [
       "<Figure size 576x576 with 2 Axes>"
      ]
     },
     "metadata": {
      "needs_background": "light"
     },
     "output_type": "display_data"
    }
   ],
   "source": [
    "# check correlation\n",
    "plt.figure(figsize=(8,8))\n",
    "sns.heatmap(df.corr())"
   ]
  },
  {
   "cell_type": "code",
   "execution_count": 226,
   "metadata": {
    "hidden": true
   },
   "outputs": [
    {
     "data": {
      "text/plain": [
       "Administrative             0.138917\n",
       "Administrative_Duration    0.093587\n",
       "Informational              0.095200\n",
       "Informational_Duration     0.070345\n",
       "ProductRelated             0.158538\n",
       "ProductRelated_Duration    0.152373\n",
       "BounceRates               -0.150673\n",
       "ExitRates                 -0.207071\n",
       "PageValues                 0.492569\n",
       "SpecialDay                -0.082305\n",
       "Weekend                    0.029295\n",
       "Revenue                    1.000000\n",
       "Name: Revenue, dtype: float64"
      ]
     },
     "execution_count": 226,
     "metadata": {},
     "output_type": "execute_result"
    }
   ],
   "source": [
    "df.corr()['Revenue']"
   ]
  },
  {
   "cell_type": "markdown",
   "metadata": {
    "hidden": true
   },
   "source": [
    "We can see the correlation as a bivariate analysis. The heatmap shows us:\n",
    "\n",
    "1. the visited page types are correlated with the respective duration. The 3 sets of variables are all correlated among them. \n",
    "2. PageValues is the most positively correlated to the lable, Revenue. Bounce rate and Exit rate are the most negatively correlated factors."
   ]
  },
  {
   "cell_type": "markdown",
   "metadata": {},
   "source": [
    "# 2. Modelling\n",
    "\n",
    "## 2.1 outliers"
   ]
  },
  {
   "cell_type": "code",
   "execution_count": 286,
   "metadata": {},
   "outputs": [],
   "source": [
    "new_df = df.copy()\n",
    "# assign outliers to new values - q3+1.5*iqr\n",
    "for i in [\"Administrative\",\"Administrative_Duration\",\"ProductRelated\",\"ProductRelated_Duration\"]:\n",
    "    cap = df[i].quantile(0.75)+(df[i].quantile(0.75)-df[i].quantile(0.25))\n",
    "    new_df[i]=new_df[i].apply(lambda x: min(x, cap))\n",
    "# for information and its duration, the iqr is rather small, so we can set the cap according to the visualization\n",
    "new_df[\"Informational\"] = new_df[\"Informational\"].apply(lambda x: min(x, 20))\n",
    "new_df[\"Informational_Duration\"] = new_df[\"Informational_Duration\"].apply(lambda x: min(x, 2000))\n"
   ]
  },
  {
   "cell_type": "markdown",
   "metadata": {},
   "source": [
    "## 2.2  add new features"
   ]
  },
  {
   "cell_type": "code",
   "execution_count": 287,
   "metadata": {},
   "outputs": [],
   "source": [
    "new_df[\"total_pages\"] = new_df[\"Administrative\"]+ new_df[\"ProductRelated\"] + new_df[\"Informational\"]\n",
    "new_df[\"total_duration\"] = new_df[\"Administrative_Duration\"]+ new_df[\"ProductRelated_Duration\"] + new_df[\"Informational_Duration\"]"
   ]
  },
  {
   "cell_type": "code",
   "execution_count": 288,
   "metadata": {},
   "outputs": [],
   "source": [
    "new_df[\"SpecialOrNot\"] = np.where(new_df[\"SpecialDay\"]>0,1,0)"
   ]
  },
  {
   "cell_type": "code",
   "execution_count": 289,
   "metadata": {},
   "outputs": [
    {
     "data": {
      "text/html": [
       "<div>\n",
       "<style scoped>\n",
       "    .dataframe tbody tr th:only-of-type {\n",
       "        vertical-align: middle;\n",
       "    }\n",
       "\n",
       "    .dataframe tbody tr th {\n",
       "        vertical-align: top;\n",
       "    }\n",
       "\n",
       "    .dataframe thead th {\n",
       "        text-align: right;\n",
       "    }\n",
       "</style>\n",
       "<table border=\"1\" class=\"dataframe\">\n",
       "  <thead>\n",
       "    <tr style=\"text-align: right;\">\n",
       "      <th></th>\n",
       "      <th>Administrative</th>\n",
       "      <th>Administrative_Duration</th>\n",
       "      <th>Informational</th>\n",
       "      <th>Informational_Duration</th>\n",
       "      <th>ProductRelated</th>\n",
       "      <th>ProductRelated_Duration</th>\n",
       "      <th>BounceRates</th>\n",
       "      <th>ExitRates</th>\n",
       "      <th>PageValues</th>\n",
       "      <th>SpecialDay</th>\n",
       "      <th>...</th>\n",
       "      <th>OperatingSystems</th>\n",
       "      <th>Browser</th>\n",
       "      <th>Region</th>\n",
       "      <th>TrafficType</th>\n",
       "      <th>VisitorType</th>\n",
       "      <th>Weekend</th>\n",
       "      <th>Revenue</th>\n",
       "      <th>total_pages</th>\n",
       "      <th>total_duration</th>\n",
       "      <th>SpecialOrNot</th>\n",
       "    </tr>\n",
       "  </thead>\n",
       "  <tbody>\n",
       "    <tr>\n",
       "      <th>0</th>\n",
       "      <td>0.0</td>\n",
       "      <td>0.0</td>\n",
       "      <td>0</td>\n",
       "      <td>0.0</td>\n",
       "      <td>1.0</td>\n",
       "      <td>0.000000</td>\n",
       "      <td>0.200000</td>\n",
       "      <td>0.200000</td>\n",
       "      <td>0.0</td>\n",
       "      <td>0.0</td>\n",
       "      <td>...</td>\n",
       "      <td>1</td>\n",
       "      <td>1</td>\n",
       "      <td>1</td>\n",
       "      <td>1</td>\n",
       "      <td>Returning_Visitor</td>\n",
       "      <td>False</td>\n",
       "      <td>False</td>\n",
       "      <td>1.0</td>\n",
       "      <td>0.000000</td>\n",
       "      <td>0</td>\n",
       "    </tr>\n",
       "    <tr>\n",
       "      <th>1</th>\n",
       "      <td>0.0</td>\n",
       "      <td>0.0</td>\n",
       "      <td>0</td>\n",
       "      <td>0.0</td>\n",
       "      <td>2.0</td>\n",
       "      <td>64.000000</td>\n",
       "      <td>0.000000</td>\n",
       "      <td>0.100000</td>\n",
       "      <td>0.0</td>\n",
       "      <td>0.0</td>\n",
       "      <td>...</td>\n",
       "      <td>2</td>\n",
       "      <td>2</td>\n",
       "      <td>1</td>\n",
       "      <td>2</td>\n",
       "      <td>Returning_Visitor</td>\n",
       "      <td>False</td>\n",
       "      <td>False</td>\n",
       "      <td>2.0</td>\n",
       "      <td>64.000000</td>\n",
       "      <td>0</td>\n",
       "    </tr>\n",
       "    <tr>\n",
       "      <th>2</th>\n",
       "      <td>0.0</td>\n",
       "      <td>0.0</td>\n",
       "      <td>0</td>\n",
       "      <td>0.0</td>\n",
       "      <td>1.0</td>\n",
       "      <td>0.000000</td>\n",
       "      <td>0.200000</td>\n",
       "      <td>0.200000</td>\n",
       "      <td>0.0</td>\n",
       "      <td>0.0</td>\n",
       "      <td>...</td>\n",
       "      <td>4</td>\n",
       "      <td>1</td>\n",
       "      <td>9</td>\n",
       "      <td>3</td>\n",
       "      <td>Returning_Visitor</td>\n",
       "      <td>False</td>\n",
       "      <td>False</td>\n",
       "      <td>1.0</td>\n",
       "      <td>0.000000</td>\n",
       "      <td>0</td>\n",
       "    </tr>\n",
       "    <tr>\n",
       "      <th>3</th>\n",
       "      <td>0.0</td>\n",
       "      <td>0.0</td>\n",
       "      <td>0</td>\n",
       "      <td>0.0</td>\n",
       "      <td>2.0</td>\n",
       "      <td>2.666667</td>\n",
       "      <td>0.050000</td>\n",
       "      <td>0.140000</td>\n",
       "      <td>0.0</td>\n",
       "      <td>0.0</td>\n",
       "      <td>...</td>\n",
       "      <td>3</td>\n",
       "      <td>2</td>\n",
       "      <td>2</td>\n",
       "      <td>4</td>\n",
       "      <td>Returning_Visitor</td>\n",
       "      <td>False</td>\n",
       "      <td>False</td>\n",
       "      <td>2.0</td>\n",
       "      <td>2.666667</td>\n",
       "      <td>0</td>\n",
       "    </tr>\n",
       "    <tr>\n",
       "      <th>4</th>\n",
       "      <td>0.0</td>\n",
       "      <td>0.0</td>\n",
       "      <td>0</td>\n",
       "      <td>0.0</td>\n",
       "      <td>10.0</td>\n",
       "      <td>627.500000</td>\n",
       "      <td>0.020000</td>\n",
       "      <td>0.050000</td>\n",
       "      <td>0.0</td>\n",
       "      <td>0.0</td>\n",
       "      <td>...</td>\n",
       "      <td>3</td>\n",
       "      <td>3</td>\n",
       "      <td>1</td>\n",
       "      <td>4</td>\n",
       "      <td>Returning_Visitor</td>\n",
       "      <td>True</td>\n",
       "      <td>False</td>\n",
       "      <td>10.0</td>\n",
       "      <td>627.500000</td>\n",
       "      <td>0</td>\n",
       "    </tr>\n",
       "    <tr>\n",
       "      <th>5</th>\n",
       "      <td>0.0</td>\n",
       "      <td>0.0</td>\n",
       "      <td>0</td>\n",
       "      <td>0.0</td>\n",
       "      <td>19.0</td>\n",
       "      <td>154.216667</td>\n",
       "      <td>0.015789</td>\n",
       "      <td>0.024561</td>\n",
       "      <td>0.0</td>\n",
       "      <td>0.0</td>\n",
       "      <td>...</td>\n",
       "      <td>2</td>\n",
       "      <td>2</td>\n",
       "      <td>1</td>\n",
       "      <td>3</td>\n",
       "      <td>Returning_Visitor</td>\n",
       "      <td>False</td>\n",
       "      <td>False</td>\n",
       "      <td>19.0</td>\n",
       "      <td>154.216667</td>\n",
       "      <td>0</td>\n",
       "    </tr>\n",
       "    <tr>\n",
       "      <th>6</th>\n",
       "      <td>0.0</td>\n",
       "      <td>0.0</td>\n",
       "      <td>0</td>\n",
       "      <td>0.0</td>\n",
       "      <td>1.0</td>\n",
       "      <td>0.000000</td>\n",
       "      <td>0.200000</td>\n",
       "      <td>0.200000</td>\n",
       "      <td>0.0</td>\n",
       "      <td>0.4</td>\n",
       "      <td>...</td>\n",
       "      <td>2</td>\n",
       "      <td>4</td>\n",
       "      <td>3</td>\n",
       "      <td>3</td>\n",
       "      <td>Returning_Visitor</td>\n",
       "      <td>False</td>\n",
       "      <td>False</td>\n",
       "      <td>1.0</td>\n",
       "      <td>0.000000</td>\n",
       "      <td>1</td>\n",
       "    </tr>\n",
       "    <tr>\n",
       "      <th>7</th>\n",
       "      <td>1.0</td>\n",
       "      <td>0.0</td>\n",
       "      <td>0</td>\n",
       "      <td>0.0</td>\n",
       "      <td>0.0</td>\n",
       "      <td>0.000000</td>\n",
       "      <td>0.200000</td>\n",
       "      <td>0.200000</td>\n",
       "      <td>0.0</td>\n",
       "      <td>0.0</td>\n",
       "      <td>...</td>\n",
       "      <td>1</td>\n",
       "      <td>2</td>\n",
       "      <td>1</td>\n",
       "      <td>5</td>\n",
       "      <td>Returning_Visitor</td>\n",
       "      <td>True</td>\n",
       "      <td>False</td>\n",
       "      <td>1.0</td>\n",
       "      <td>0.000000</td>\n",
       "      <td>0</td>\n",
       "    </tr>\n",
       "    <tr>\n",
       "      <th>8</th>\n",
       "      <td>0.0</td>\n",
       "      <td>0.0</td>\n",
       "      <td>0</td>\n",
       "      <td>0.0</td>\n",
       "      <td>2.0</td>\n",
       "      <td>37.000000</td>\n",
       "      <td>0.000000</td>\n",
       "      <td>0.100000</td>\n",
       "      <td>0.0</td>\n",
       "      <td>0.8</td>\n",
       "      <td>...</td>\n",
       "      <td>2</td>\n",
       "      <td>2</td>\n",
       "      <td>2</td>\n",
       "      <td>3</td>\n",
       "      <td>Returning_Visitor</td>\n",
       "      <td>False</td>\n",
       "      <td>False</td>\n",
       "      <td>2.0</td>\n",
       "      <td>37.000000</td>\n",
       "      <td>1</td>\n",
       "    </tr>\n",
       "    <tr>\n",
       "      <th>9</th>\n",
       "      <td>0.0</td>\n",
       "      <td>0.0</td>\n",
       "      <td>0</td>\n",
       "      <td>0.0</td>\n",
       "      <td>3.0</td>\n",
       "      <td>738.000000</td>\n",
       "      <td>0.000000</td>\n",
       "      <td>0.022222</td>\n",
       "      <td>0.0</td>\n",
       "      <td>0.4</td>\n",
       "      <td>...</td>\n",
       "      <td>2</td>\n",
       "      <td>4</td>\n",
       "      <td>1</td>\n",
       "      <td>2</td>\n",
       "      <td>Returning_Visitor</td>\n",
       "      <td>False</td>\n",
       "      <td>False</td>\n",
       "      <td>3.0</td>\n",
       "      <td>738.000000</td>\n",
       "      <td>1</td>\n",
       "    </tr>\n",
       "  </tbody>\n",
       "</table>\n",
       "<p>10 rows × 21 columns</p>\n",
       "</div>"
      ],
      "text/plain": [
       "   Administrative  Administrative_Duration  Informational  \\\n",
       "0             0.0                      0.0              0   \n",
       "1             0.0                      0.0              0   \n",
       "2             0.0                      0.0              0   \n",
       "3             0.0                      0.0              0   \n",
       "4             0.0                      0.0              0   \n",
       "5             0.0                      0.0              0   \n",
       "6             0.0                      0.0              0   \n",
       "7             1.0                      0.0              0   \n",
       "8             0.0                      0.0              0   \n",
       "9             0.0                      0.0              0   \n",
       "\n",
       "   Informational_Duration  ProductRelated  ProductRelated_Duration  \\\n",
       "0                     0.0             1.0                 0.000000   \n",
       "1                     0.0             2.0                64.000000   \n",
       "2                     0.0             1.0                 0.000000   \n",
       "3                     0.0             2.0                 2.666667   \n",
       "4                     0.0            10.0               627.500000   \n",
       "5                     0.0            19.0               154.216667   \n",
       "6                     0.0             1.0                 0.000000   \n",
       "7                     0.0             0.0                 0.000000   \n",
       "8                     0.0             2.0                37.000000   \n",
       "9                     0.0             3.0               738.000000   \n",
       "\n",
       "   BounceRates  ExitRates  PageValues  SpecialDay  ... OperatingSystems  \\\n",
       "0     0.200000   0.200000         0.0         0.0  ...                1   \n",
       "1     0.000000   0.100000         0.0         0.0  ...                2   \n",
       "2     0.200000   0.200000         0.0         0.0  ...                4   \n",
       "3     0.050000   0.140000         0.0         0.0  ...                3   \n",
       "4     0.020000   0.050000         0.0         0.0  ...                3   \n",
       "5     0.015789   0.024561         0.0         0.0  ...                2   \n",
       "6     0.200000   0.200000         0.0         0.4  ...                2   \n",
       "7     0.200000   0.200000         0.0         0.0  ...                1   \n",
       "8     0.000000   0.100000         0.0         0.8  ...                2   \n",
       "9     0.000000   0.022222         0.0         0.4  ...                2   \n",
       "\n",
       "  Browser Region TrafficType        VisitorType Weekend  Revenue  total_pages  \\\n",
       "0       1      1           1  Returning_Visitor   False    False          1.0   \n",
       "1       2      1           2  Returning_Visitor   False    False          2.0   \n",
       "2       1      9           3  Returning_Visitor   False    False          1.0   \n",
       "3       2      2           4  Returning_Visitor   False    False          2.0   \n",
       "4       3      1           4  Returning_Visitor    True    False         10.0   \n",
       "5       2      1           3  Returning_Visitor   False    False         19.0   \n",
       "6       4      3           3  Returning_Visitor   False    False          1.0   \n",
       "7       2      1           5  Returning_Visitor    True    False          1.0   \n",
       "8       2      2           3  Returning_Visitor   False    False          2.0   \n",
       "9       4      1           2  Returning_Visitor   False    False          3.0   \n",
       "\n",
       "   total_duration  SpecialOrNot  \n",
       "0        0.000000             0  \n",
       "1       64.000000             0  \n",
       "2        0.000000             0  \n",
       "3        2.666667             0  \n",
       "4      627.500000             0  \n",
       "5      154.216667             0  \n",
       "6        0.000000             1  \n",
       "7        0.000000             0  \n",
       "8       37.000000             1  \n",
       "9      738.000000             1  \n",
       "\n",
       "[10 rows x 21 columns]"
      ]
     },
     "execution_count": 289,
     "metadata": {},
     "output_type": "execute_result"
    }
   ],
   "source": [
    "new_df.head(10)"
   ]
  },
  {
   "cell_type": "markdown",
   "metadata": {},
   "source": [
    "## 2.3 grouping values in the categorical features\n",
    "This reduces columns from 80 to about 50,and saves up computing resources and avoids possible noises in the corner cases. "
   ]
  },
  {
   "cell_type": "code",
   "execution_count": 231,
   "metadata": {},
   "outputs": [],
   "source": [
    "operating_systems_main_groups = list(new_df[\"OperatingSystems\"].value_counts()[:5].index)\n",
    "browser_main_groups = list(new_df[\"Browser\"].value_counts()[:5].index)\n",
    "region_main_groups = list(new_df[\"Region\"].value_counts()[:5].index)\n",
    "traffic_main_groups = list(new_df[\"TrafficType\"].value_counts()[:5].index)"
   ]
  },
  {
   "cell_type": "code",
   "execution_count": 232,
   "metadata": {},
   "outputs": [],
   "source": [
    "def group(x, lst):\n",
    "    if x not in lst:\n",
    "        return \"Other\"\n",
    "    return x"
   ]
  },
  {
   "cell_type": "code",
   "execution_count": 233,
   "metadata": {},
   "outputs": [],
   "source": [
    "new_df[\"OperatingSystems\"] = new_df[\"OperatingSystems\"].apply(lambda x:group(x,operating_systems_main_groups))\n",
    "new_df[\"Browser\"] = new_df[\"Browser\"].apply(lambda x:group(x,browser_main_groups))\n",
    "new_df[\"Region\"] = new_df[\"Region\"].apply(lambda x:group(x,region_main_groups))\n",
    "new_df[\"TrafficType\"] = new_df[\"TrafficType\"].apply(lambda x:group(x,traffic_main_groups))\n"
   ]
  },
  {
   "cell_type": "code",
   "execution_count": 234,
   "metadata": {},
   "outputs": [
    {
     "data": {
      "text/html": [
       "<div>\n",
       "<style scoped>\n",
       "    .dataframe tbody tr th:only-of-type {\n",
       "        vertical-align: middle;\n",
       "    }\n",
       "\n",
       "    .dataframe tbody tr th {\n",
       "        vertical-align: top;\n",
       "    }\n",
       "\n",
       "    .dataframe thead th {\n",
       "        text-align: right;\n",
       "    }\n",
       "</style>\n",
       "<table border=\"1\" class=\"dataframe\">\n",
       "  <thead>\n",
       "    <tr style=\"text-align: right;\">\n",
       "      <th></th>\n",
       "      <th>Administrative</th>\n",
       "      <th>Administrative_Duration</th>\n",
       "      <th>Informational</th>\n",
       "      <th>Informational_Duration</th>\n",
       "      <th>ProductRelated</th>\n",
       "      <th>ProductRelated_Duration</th>\n",
       "      <th>BounceRates</th>\n",
       "      <th>ExitRates</th>\n",
       "      <th>PageValues</th>\n",
       "      <th>SpecialDay</th>\n",
       "      <th>...</th>\n",
       "      <th>OperatingSystems</th>\n",
       "      <th>Browser</th>\n",
       "      <th>Region</th>\n",
       "      <th>TrafficType</th>\n",
       "      <th>VisitorType</th>\n",
       "      <th>Weekend</th>\n",
       "      <th>Revenue</th>\n",
       "      <th>total_pages</th>\n",
       "      <th>total_duration</th>\n",
       "      <th>SpecialOrNot</th>\n",
       "    </tr>\n",
       "  </thead>\n",
       "  <tbody>\n",
       "    <tr>\n",
       "      <th>0</th>\n",
       "      <td>0.0</td>\n",
       "      <td>0.0</td>\n",
       "      <td>0</td>\n",
       "      <td>0.0</td>\n",
       "      <td>1.0</td>\n",
       "      <td>0.000000</td>\n",
       "      <td>0.20</td>\n",
       "      <td>0.20</td>\n",
       "      <td>0.0</td>\n",
       "      <td>0.0</td>\n",
       "      <td>...</td>\n",
       "      <td>1</td>\n",
       "      <td>1</td>\n",
       "      <td>1</td>\n",
       "      <td>1</td>\n",
       "      <td>Returning_Visitor</td>\n",
       "      <td>False</td>\n",
       "      <td>False</td>\n",
       "      <td>1.0</td>\n",
       "      <td>0.000000</td>\n",
       "      <td>0</td>\n",
       "    </tr>\n",
       "    <tr>\n",
       "      <th>1</th>\n",
       "      <td>0.0</td>\n",
       "      <td>0.0</td>\n",
       "      <td>0</td>\n",
       "      <td>0.0</td>\n",
       "      <td>2.0</td>\n",
       "      <td>64.000000</td>\n",
       "      <td>0.00</td>\n",
       "      <td>0.10</td>\n",
       "      <td>0.0</td>\n",
       "      <td>0.0</td>\n",
       "      <td>...</td>\n",
       "      <td>2</td>\n",
       "      <td>2</td>\n",
       "      <td>1</td>\n",
       "      <td>2</td>\n",
       "      <td>Returning_Visitor</td>\n",
       "      <td>False</td>\n",
       "      <td>False</td>\n",
       "      <td>2.0</td>\n",
       "      <td>64.000000</td>\n",
       "      <td>0</td>\n",
       "    </tr>\n",
       "    <tr>\n",
       "      <th>2</th>\n",
       "      <td>0.0</td>\n",
       "      <td>0.0</td>\n",
       "      <td>0</td>\n",
       "      <td>0.0</td>\n",
       "      <td>1.0</td>\n",
       "      <td>0.000000</td>\n",
       "      <td>0.20</td>\n",
       "      <td>0.20</td>\n",
       "      <td>0.0</td>\n",
       "      <td>0.0</td>\n",
       "      <td>...</td>\n",
       "      <td>4</td>\n",
       "      <td>1</td>\n",
       "      <td>Other</td>\n",
       "      <td>3</td>\n",
       "      <td>Returning_Visitor</td>\n",
       "      <td>False</td>\n",
       "      <td>False</td>\n",
       "      <td>1.0</td>\n",
       "      <td>0.000000</td>\n",
       "      <td>0</td>\n",
       "    </tr>\n",
       "    <tr>\n",
       "      <th>3</th>\n",
       "      <td>0.0</td>\n",
       "      <td>0.0</td>\n",
       "      <td>0</td>\n",
       "      <td>0.0</td>\n",
       "      <td>2.0</td>\n",
       "      <td>2.666667</td>\n",
       "      <td>0.05</td>\n",
       "      <td>0.14</td>\n",
       "      <td>0.0</td>\n",
       "      <td>0.0</td>\n",
       "      <td>...</td>\n",
       "      <td>3</td>\n",
       "      <td>2</td>\n",
       "      <td>2</td>\n",
       "      <td>4</td>\n",
       "      <td>Returning_Visitor</td>\n",
       "      <td>False</td>\n",
       "      <td>False</td>\n",
       "      <td>2.0</td>\n",
       "      <td>2.666667</td>\n",
       "      <td>0</td>\n",
       "    </tr>\n",
       "    <tr>\n",
       "      <th>4</th>\n",
       "      <td>0.0</td>\n",
       "      <td>0.0</td>\n",
       "      <td>0</td>\n",
       "      <td>0.0</td>\n",
       "      <td>10.0</td>\n",
       "      <td>627.500000</td>\n",
       "      <td>0.02</td>\n",
       "      <td>0.05</td>\n",
       "      <td>0.0</td>\n",
       "      <td>0.0</td>\n",
       "      <td>...</td>\n",
       "      <td>3</td>\n",
       "      <td>Other</td>\n",
       "      <td>1</td>\n",
       "      <td>4</td>\n",
       "      <td>Returning_Visitor</td>\n",
       "      <td>True</td>\n",
       "      <td>False</td>\n",
       "      <td>10.0</td>\n",
       "      <td>627.500000</td>\n",
       "      <td>0</td>\n",
       "    </tr>\n",
       "  </tbody>\n",
       "</table>\n",
       "<p>5 rows × 21 columns</p>\n",
       "</div>"
      ],
      "text/plain": [
       "   Administrative  Administrative_Duration  Informational  \\\n",
       "0             0.0                      0.0              0   \n",
       "1             0.0                      0.0              0   \n",
       "2             0.0                      0.0              0   \n",
       "3             0.0                      0.0              0   \n",
       "4             0.0                      0.0              0   \n",
       "\n",
       "   Informational_Duration  ProductRelated  ProductRelated_Duration  \\\n",
       "0                     0.0             1.0                 0.000000   \n",
       "1                     0.0             2.0                64.000000   \n",
       "2                     0.0             1.0                 0.000000   \n",
       "3                     0.0             2.0                 2.666667   \n",
       "4                     0.0            10.0               627.500000   \n",
       "\n",
       "   BounceRates  ExitRates  PageValues  SpecialDay  ... OperatingSystems  \\\n",
       "0         0.20       0.20         0.0         0.0  ...                1   \n",
       "1         0.00       0.10         0.0         0.0  ...                2   \n",
       "2         0.20       0.20         0.0         0.0  ...                4   \n",
       "3         0.05       0.14         0.0         0.0  ...                3   \n",
       "4         0.02       0.05         0.0         0.0  ...                3   \n",
       "\n",
       "  Browser Region TrafficType        VisitorType Weekend  Revenue  total_pages  \\\n",
       "0       1      1           1  Returning_Visitor   False    False          1.0   \n",
       "1       2      1           2  Returning_Visitor   False    False          2.0   \n",
       "2       1  Other           3  Returning_Visitor   False    False          1.0   \n",
       "3       2      2           4  Returning_Visitor   False    False          2.0   \n",
       "4   Other      1           4  Returning_Visitor    True    False         10.0   \n",
       "\n",
       "   total_duration  SpecialOrNot  \n",
       "0        0.000000             0  \n",
       "1       64.000000             0  \n",
       "2        0.000000             0  \n",
       "3        2.666667             0  \n",
       "4      627.500000             0  \n",
       "\n",
       "[5 rows x 21 columns]"
      ]
     },
     "execution_count": 234,
     "metadata": {},
     "output_type": "execute_result"
    }
   ],
   "source": [
    "new_df.head()"
   ]
  },
  {
   "cell_type": "markdown",
   "metadata": {},
   "source": [
    "## 2.4 One Hot Encoding\n",
    "Lable encoder vs One hot encoder"
   ]
  },
  {
   "cell_type": "code",
   "execution_count": 290,
   "metadata": {},
   "outputs": [],
   "source": [
    "# one hot encoding\n",
    "df_ohe = pd.get_dummies(new_df)"
   ]
  },
  {
   "cell_type": "code",
   "execution_count": 291,
   "metadata": {},
   "outputs": [
    {
     "data": {
      "text/plain": [
       "Index(['Administrative', 'Administrative_Duration', 'Informational',\n",
       "       'Informational_Duration', 'ProductRelated', 'ProductRelated_Duration',\n",
       "       'BounceRates', 'ExitRates', 'PageValues', 'SpecialDay', 'Weekend',\n",
       "       'Revenue', 'total_pages', 'total_duration', 'SpecialOrNot', 'Month_Aug',\n",
       "       'Month_Dec', 'Month_Feb', 'Month_Jul', 'Month_June', 'Month_Mar',\n",
       "       'Month_May', 'Month_Nov', 'Month_Oct', 'Month_Sep',\n",
       "       'OperatingSystems_1', 'OperatingSystems_2', 'OperatingSystems_3',\n",
       "       'OperatingSystems_4', 'OperatingSystems_5', 'OperatingSystems_6',\n",
       "       'OperatingSystems_7', 'OperatingSystems_8', 'Browser_1', 'Browser_2',\n",
       "       'Browser_3', 'Browser_4', 'Browser_5', 'Browser_6', 'Browser_7',\n",
       "       'Browser_8', 'Browser_9', 'Browser_10', 'Browser_11', 'Browser_12',\n",
       "       'Browser_13', 'Region_1', 'Region_2', 'Region_3', 'Region_4',\n",
       "       'Region_5', 'Region_6', 'Region_7', 'Region_8', 'Region_9',\n",
       "       'TrafficType_1', 'TrafficType_2', 'TrafficType_3', 'TrafficType_4',\n",
       "       'TrafficType_5', 'TrafficType_6', 'TrafficType_7', 'TrafficType_8',\n",
       "       'TrafficType_9', 'TrafficType_10', 'TrafficType_11', 'TrafficType_12',\n",
       "       'TrafficType_13', 'TrafficType_14', 'TrafficType_15', 'TrafficType_16',\n",
       "       'TrafficType_17', 'TrafficType_18', 'TrafficType_19', 'TrafficType_20',\n",
       "       'VisitorType_New_Visitor', 'VisitorType_Other',\n",
       "       'VisitorType_Returning_Visitor'],\n",
       "      dtype='object')"
      ]
     },
     "execution_count": 291,
     "metadata": {},
     "output_type": "execute_result"
    }
   ],
   "source": [
    "df_ohe.columns"
   ]
  },
  {
   "cell_type": "code",
   "execution_count": 292,
   "metadata": {},
   "outputs": [
    {
     "data": {
      "text/html": [
       "<div>\n",
       "<style scoped>\n",
       "    .dataframe tbody tr th:only-of-type {\n",
       "        vertical-align: middle;\n",
       "    }\n",
       "\n",
       "    .dataframe tbody tr th {\n",
       "        vertical-align: top;\n",
       "    }\n",
       "\n",
       "    .dataframe thead th {\n",
       "        text-align: right;\n",
       "    }\n",
       "</style>\n",
       "<table border=\"1\" class=\"dataframe\">\n",
       "  <thead>\n",
       "    <tr style=\"text-align: right;\">\n",
       "      <th></th>\n",
       "      <th>Administrative</th>\n",
       "      <th>Administrative_Duration</th>\n",
       "      <th>Informational</th>\n",
       "      <th>Informational_Duration</th>\n",
       "      <th>ProductRelated</th>\n",
       "      <th>ProductRelated_Duration</th>\n",
       "      <th>BounceRates</th>\n",
       "      <th>ExitRates</th>\n",
       "      <th>PageValues</th>\n",
       "      <th>SpecialDay</th>\n",
       "      <th>...</th>\n",
       "      <th>TrafficType_14</th>\n",
       "      <th>TrafficType_15</th>\n",
       "      <th>TrafficType_16</th>\n",
       "      <th>TrafficType_17</th>\n",
       "      <th>TrafficType_18</th>\n",
       "      <th>TrafficType_19</th>\n",
       "      <th>TrafficType_20</th>\n",
       "      <th>VisitorType_New_Visitor</th>\n",
       "      <th>VisitorType_Other</th>\n",
       "      <th>VisitorType_Returning_Visitor</th>\n",
       "    </tr>\n",
       "  </thead>\n",
       "  <tbody>\n",
       "    <tr>\n",
       "      <th>0</th>\n",
       "      <td>0.0</td>\n",
       "      <td>0.0</td>\n",
       "      <td>0</td>\n",
       "      <td>0.0</td>\n",
       "      <td>1.0</td>\n",
       "      <td>0.000000</td>\n",
       "      <td>0.200000</td>\n",
       "      <td>0.200000</td>\n",
       "      <td>0.0</td>\n",
       "      <td>0.0</td>\n",
       "      <td>...</td>\n",
       "      <td>0</td>\n",
       "      <td>0</td>\n",
       "      <td>0</td>\n",
       "      <td>0</td>\n",
       "      <td>0</td>\n",
       "      <td>0</td>\n",
       "      <td>0</td>\n",
       "      <td>0</td>\n",
       "      <td>0</td>\n",
       "      <td>1</td>\n",
       "    </tr>\n",
       "    <tr>\n",
       "      <th>1</th>\n",
       "      <td>0.0</td>\n",
       "      <td>0.0</td>\n",
       "      <td>0</td>\n",
       "      <td>0.0</td>\n",
       "      <td>2.0</td>\n",
       "      <td>64.000000</td>\n",
       "      <td>0.000000</td>\n",
       "      <td>0.100000</td>\n",
       "      <td>0.0</td>\n",
       "      <td>0.0</td>\n",
       "      <td>...</td>\n",
       "      <td>0</td>\n",
       "      <td>0</td>\n",
       "      <td>0</td>\n",
       "      <td>0</td>\n",
       "      <td>0</td>\n",
       "      <td>0</td>\n",
       "      <td>0</td>\n",
       "      <td>0</td>\n",
       "      <td>0</td>\n",
       "      <td>1</td>\n",
       "    </tr>\n",
       "    <tr>\n",
       "      <th>2</th>\n",
       "      <td>0.0</td>\n",
       "      <td>0.0</td>\n",
       "      <td>0</td>\n",
       "      <td>0.0</td>\n",
       "      <td>1.0</td>\n",
       "      <td>0.000000</td>\n",
       "      <td>0.200000</td>\n",
       "      <td>0.200000</td>\n",
       "      <td>0.0</td>\n",
       "      <td>0.0</td>\n",
       "      <td>...</td>\n",
       "      <td>0</td>\n",
       "      <td>0</td>\n",
       "      <td>0</td>\n",
       "      <td>0</td>\n",
       "      <td>0</td>\n",
       "      <td>0</td>\n",
       "      <td>0</td>\n",
       "      <td>0</td>\n",
       "      <td>0</td>\n",
       "      <td>1</td>\n",
       "    </tr>\n",
       "    <tr>\n",
       "      <th>3</th>\n",
       "      <td>0.0</td>\n",
       "      <td>0.0</td>\n",
       "      <td>0</td>\n",
       "      <td>0.0</td>\n",
       "      <td>2.0</td>\n",
       "      <td>2.666667</td>\n",
       "      <td>0.050000</td>\n",
       "      <td>0.140000</td>\n",
       "      <td>0.0</td>\n",
       "      <td>0.0</td>\n",
       "      <td>...</td>\n",
       "      <td>0</td>\n",
       "      <td>0</td>\n",
       "      <td>0</td>\n",
       "      <td>0</td>\n",
       "      <td>0</td>\n",
       "      <td>0</td>\n",
       "      <td>0</td>\n",
       "      <td>0</td>\n",
       "      <td>0</td>\n",
       "      <td>1</td>\n",
       "    </tr>\n",
       "    <tr>\n",
       "      <th>4</th>\n",
       "      <td>0.0</td>\n",
       "      <td>0.0</td>\n",
       "      <td>0</td>\n",
       "      <td>0.0</td>\n",
       "      <td>10.0</td>\n",
       "      <td>627.500000</td>\n",
       "      <td>0.020000</td>\n",
       "      <td>0.050000</td>\n",
       "      <td>0.0</td>\n",
       "      <td>0.0</td>\n",
       "      <td>...</td>\n",
       "      <td>0</td>\n",
       "      <td>0</td>\n",
       "      <td>0</td>\n",
       "      <td>0</td>\n",
       "      <td>0</td>\n",
       "      <td>0</td>\n",
       "      <td>0</td>\n",
       "      <td>0</td>\n",
       "      <td>0</td>\n",
       "      <td>1</td>\n",
       "    </tr>\n",
       "    <tr>\n",
       "      <th>5</th>\n",
       "      <td>0.0</td>\n",
       "      <td>0.0</td>\n",
       "      <td>0</td>\n",
       "      <td>0.0</td>\n",
       "      <td>19.0</td>\n",
       "      <td>154.216667</td>\n",
       "      <td>0.015789</td>\n",
       "      <td>0.024561</td>\n",
       "      <td>0.0</td>\n",
       "      <td>0.0</td>\n",
       "      <td>...</td>\n",
       "      <td>0</td>\n",
       "      <td>0</td>\n",
       "      <td>0</td>\n",
       "      <td>0</td>\n",
       "      <td>0</td>\n",
       "      <td>0</td>\n",
       "      <td>0</td>\n",
       "      <td>0</td>\n",
       "      <td>0</td>\n",
       "      <td>1</td>\n",
       "    </tr>\n",
       "    <tr>\n",
       "      <th>6</th>\n",
       "      <td>0.0</td>\n",
       "      <td>0.0</td>\n",
       "      <td>0</td>\n",
       "      <td>0.0</td>\n",
       "      <td>1.0</td>\n",
       "      <td>0.000000</td>\n",
       "      <td>0.200000</td>\n",
       "      <td>0.200000</td>\n",
       "      <td>0.0</td>\n",
       "      <td>0.4</td>\n",
       "      <td>...</td>\n",
       "      <td>0</td>\n",
       "      <td>0</td>\n",
       "      <td>0</td>\n",
       "      <td>0</td>\n",
       "      <td>0</td>\n",
       "      <td>0</td>\n",
       "      <td>0</td>\n",
       "      <td>0</td>\n",
       "      <td>0</td>\n",
       "      <td>1</td>\n",
       "    </tr>\n",
       "    <tr>\n",
       "      <th>7</th>\n",
       "      <td>1.0</td>\n",
       "      <td>0.0</td>\n",
       "      <td>0</td>\n",
       "      <td>0.0</td>\n",
       "      <td>0.0</td>\n",
       "      <td>0.000000</td>\n",
       "      <td>0.200000</td>\n",
       "      <td>0.200000</td>\n",
       "      <td>0.0</td>\n",
       "      <td>0.0</td>\n",
       "      <td>...</td>\n",
       "      <td>0</td>\n",
       "      <td>0</td>\n",
       "      <td>0</td>\n",
       "      <td>0</td>\n",
       "      <td>0</td>\n",
       "      <td>0</td>\n",
       "      <td>0</td>\n",
       "      <td>0</td>\n",
       "      <td>0</td>\n",
       "      <td>1</td>\n",
       "    </tr>\n",
       "    <tr>\n",
       "      <th>8</th>\n",
       "      <td>0.0</td>\n",
       "      <td>0.0</td>\n",
       "      <td>0</td>\n",
       "      <td>0.0</td>\n",
       "      <td>2.0</td>\n",
       "      <td>37.000000</td>\n",
       "      <td>0.000000</td>\n",
       "      <td>0.100000</td>\n",
       "      <td>0.0</td>\n",
       "      <td>0.8</td>\n",
       "      <td>...</td>\n",
       "      <td>0</td>\n",
       "      <td>0</td>\n",
       "      <td>0</td>\n",
       "      <td>0</td>\n",
       "      <td>0</td>\n",
       "      <td>0</td>\n",
       "      <td>0</td>\n",
       "      <td>0</td>\n",
       "      <td>0</td>\n",
       "      <td>1</td>\n",
       "    </tr>\n",
       "    <tr>\n",
       "      <th>9</th>\n",
       "      <td>0.0</td>\n",
       "      <td>0.0</td>\n",
       "      <td>0</td>\n",
       "      <td>0.0</td>\n",
       "      <td>3.0</td>\n",
       "      <td>738.000000</td>\n",
       "      <td>0.000000</td>\n",
       "      <td>0.022222</td>\n",
       "      <td>0.0</td>\n",
       "      <td>0.4</td>\n",
       "      <td>...</td>\n",
       "      <td>0</td>\n",
       "      <td>0</td>\n",
       "      <td>0</td>\n",
       "      <td>0</td>\n",
       "      <td>0</td>\n",
       "      <td>0</td>\n",
       "      <td>0</td>\n",
       "      <td>0</td>\n",
       "      <td>0</td>\n",
       "      <td>1</td>\n",
       "    </tr>\n",
       "  </tbody>\n",
       "</table>\n",
       "<p>10 rows × 78 columns</p>\n",
       "</div>"
      ],
      "text/plain": [
       "   Administrative  Administrative_Duration  Informational  \\\n",
       "0             0.0                      0.0              0   \n",
       "1             0.0                      0.0              0   \n",
       "2             0.0                      0.0              0   \n",
       "3             0.0                      0.0              0   \n",
       "4             0.0                      0.0              0   \n",
       "5             0.0                      0.0              0   \n",
       "6             0.0                      0.0              0   \n",
       "7             1.0                      0.0              0   \n",
       "8             0.0                      0.0              0   \n",
       "9             0.0                      0.0              0   \n",
       "\n",
       "   Informational_Duration  ProductRelated  ProductRelated_Duration  \\\n",
       "0                     0.0             1.0                 0.000000   \n",
       "1                     0.0             2.0                64.000000   \n",
       "2                     0.0             1.0                 0.000000   \n",
       "3                     0.0             2.0                 2.666667   \n",
       "4                     0.0            10.0               627.500000   \n",
       "5                     0.0            19.0               154.216667   \n",
       "6                     0.0             1.0                 0.000000   \n",
       "7                     0.0             0.0                 0.000000   \n",
       "8                     0.0             2.0                37.000000   \n",
       "9                     0.0             3.0               738.000000   \n",
       "\n",
       "   BounceRates  ExitRates  PageValues  SpecialDay  ...  TrafficType_14  \\\n",
       "0     0.200000   0.200000         0.0         0.0  ...               0   \n",
       "1     0.000000   0.100000         0.0         0.0  ...               0   \n",
       "2     0.200000   0.200000         0.0         0.0  ...               0   \n",
       "3     0.050000   0.140000         0.0         0.0  ...               0   \n",
       "4     0.020000   0.050000         0.0         0.0  ...               0   \n",
       "5     0.015789   0.024561         0.0         0.0  ...               0   \n",
       "6     0.200000   0.200000         0.0         0.4  ...               0   \n",
       "7     0.200000   0.200000         0.0         0.0  ...               0   \n",
       "8     0.000000   0.100000         0.0         0.8  ...               0   \n",
       "9     0.000000   0.022222         0.0         0.4  ...               0   \n",
       "\n",
       "   TrafficType_15  TrafficType_16  TrafficType_17  TrafficType_18  \\\n",
       "0               0               0               0               0   \n",
       "1               0               0               0               0   \n",
       "2               0               0               0               0   \n",
       "3               0               0               0               0   \n",
       "4               0               0               0               0   \n",
       "5               0               0               0               0   \n",
       "6               0               0               0               0   \n",
       "7               0               0               0               0   \n",
       "8               0               0               0               0   \n",
       "9               0               0               0               0   \n",
       "\n",
       "   TrafficType_19  TrafficType_20  VisitorType_New_Visitor  VisitorType_Other  \\\n",
       "0               0               0                        0                  0   \n",
       "1               0               0                        0                  0   \n",
       "2               0               0                        0                  0   \n",
       "3               0               0                        0                  0   \n",
       "4               0               0                        0                  0   \n",
       "5               0               0                        0                  0   \n",
       "6               0               0                        0                  0   \n",
       "7               0               0                        0                  0   \n",
       "8               0               0                        0                  0   \n",
       "9               0               0                        0                  0   \n",
       "\n",
       "   VisitorType_Returning_Visitor  \n",
       "0                              1  \n",
       "1                              1  \n",
       "2                              1  \n",
       "3                              1  \n",
       "4                              1  \n",
       "5                              1  \n",
       "6                              1  \n",
       "7                              1  \n",
       "8                              1  \n",
       "9                              1  \n",
       "\n",
       "[10 rows x 78 columns]"
      ]
     },
     "execution_count": 292,
     "metadata": {},
     "output_type": "execute_result"
    }
   ],
   "source": [
    "df_ohe.head(10)"
   ]
  },
  {
   "cell_type": "markdown",
   "metadata": {},
   "source": [
    "## 2.5 Feature Selection\n",
    "Remove some features that are highly colinear.\n"
   ]
  },
  {
   "cell_type": "code",
   "execution_count": 294,
   "metadata": {},
   "outputs": [
    {
     "name": "stdout",
     "output_type": "stream",
     "text": [
      "<class 'pandas.core.frame.DataFrame'>\n",
      "RangeIndex: 12330 entries, 0 to 12329\n",
      "Data columns (total 78 columns):\n",
      "Administrative                   12330 non-null float64\n",
      "Administrative_Duration          12330 non-null float64\n",
      "Informational                    12330 non-null float64\n",
      "Informational_Duration           12330 non-null float64\n",
      "ProductRelated                   12330 non-null float64\n",
      "ProductRelated_Duration          12330 non-null float64\n",
      "BounceRates                      12330 non-null float64\n",
      "ExitRates                        12330 non-null float64\n",
      "PageValues                       12330 non-null float64\n",
      "SpecialDay                       12330 non-null float64\n",
      "Weekend                          12330 non-null float64\n",
      "Revenue                          12330 non-null float64\n",
      "total_pages                      12330 non-null float64\n",
      "total_duration                   12330 non-null float64\n",
      "SpecialOrNot                     12330 non-null float64\n",
      "Month_Aug                        12330 non-null float64\n",
      "Month_Dec                        12330 non-null float64\n",
      "Month_Feb                        12330 non-null float64\n",
      "Month_Jul                        12330 non-null float64\n",
      "Month_June                       12330 non-null float64\n",
      "Month_Mar                        12330 non-null float64\n",
      "Month_May                        12330 non-null float64\n",
      "Month_Nov                        12330 non-null float64\n",
      "Month_Oct                        12330 non-null float64\n",
      "Month_Sep                        12330 non-null float64\n",
      "OperatingSystems_1               12330 non-null float64\n",
      "OperatingSystems_2               12330 non-null float64\n",
      "OperatingSystems_3               12330 non-null float64\n",
      "OperatingSystems_4               12330 non-null float64\n",
      "OperatingSystems_5               12330 non-null float64\n",
      "OperatingSystems_6               12330 non-null float64\n",
      "OperatingSystems_7               12330 non-null float64\n",
      "OperatingSystems_8               12330 non-null float64\n",
      "Browser_1                        12330 non-null float64\n",
      "Browser_2                        12330 non-null float64\n",
      "Browser_3                        12330 non-null float64\n",
      "Browser_4                        12330 non-null float64\n",
      "Browser_5                        12330 non-null float64\n",
      "Browser_6                        12330 non-null float64\n",
      "Browser_7                        12330 non-null float64\n",
      "Browser_8                        12330 non-null float64\n",
      "Browser_9                        12330 non-null float64\n",
      "Browser_10                       12330 non-null float64\n",
      "Browser_11                       12330 non-null float64\n",
      "Browser_12                       12330 non-null float64\n",
      "Browser_13                       12330 non-null float64\n",
      "Region_1                         12330 non-null float64\n",
      "Region_2                         12330 non-null float64\n",
      "Region_3                         12330 non-null float64\n",
      "Region_4                         12330 non-null float64\n",
      "Region_5                         12330 non-null float64\n",
      "Region_6                         12330 non-null float64\n",
      "Region_7                         12330 non-null float64\n",
      "Region_8                         12330 non-null float64\n",
      "Region_9                         12330 non-null float64\n",
      "TrafficType_1                    12330 non-null float64\n",
      "TrafficType_2                    12330 non-null float64\n",
      "TrafficType_3                    12330 non-null float64\n",
      "TrafficType_4                    12330 non-null float64\n",
      "TrafficType_5                    12330 non-null float64\n",
      "TrafficType_6                    12330 non-null float64\n",
      "TrafficType_7                    12330 non-null float64\n",
      "TrafficType_8                    12330 non-null float64\n",
      "TrafficType_9                    12330 non-null float64\n",
      "TrafficType_10                   12330 non-null float64\n",
      "TrafficType_11                   12330 non-null float64\n",
      "TrafficType_12                   12330 non-null float64\n",
      "TrafficType_13                   12330 non-null float64\n",
      "TrafficType_14                   12330 non-null float64\n",
      "TrafficType_15                   12330 non-null float64\n",
      "TrafficType_16                   12330 non-null float64\n",
      "TrafficType_17                   12330 non-null float64\n",
      "TrafficType_18                   12330 non-null float64\n",
      "TrafficType_19                   12330 non-null float64\n",
      "TrafficType_20                   12330 non-null float64\n",
      "VisitorType_New_Visitor          12330 non-null float64\n",
      "VisitorType_Other                12330 non-null float64\n",
      "VisitorType_Returning_Visitor    12330 non-null float64\n",
      "dtypes: float64(78)\n",
      "memory usage: 7.3 MB\n"
     ]
    }
   ],
   "source": [
    "for i in df_ohe.columns:\n",
    "    df_ohe[i] = df_ohe[i].astype(\"float64\")\n",
    "df_ohe.info()"
   ]
  },
  {
   "cell_type": "code",
   "execution_count": 295,
   "metadata": {},
   "outputs": [
    {
     "name": "stdout",
     "output_type": "stream",
     "text": [
      "<class 'numpy.ndarray'>\n",
      "77\n"
     ]
    },
    {
     "name": "stderr",
     "output_type": "stream",
     "text": [
      "/anaconda3/lib/python3.6/site-packages/statsmodels/stats/outliers_influence.py:181: RuntimeWarning: divide by zero encountered in double_scalars\n",
      "  vif = 1. / (1. - r_squared_i)\n"
     ]
    }
   ],
   "source": [
    "X = df_ohe.drop('Revenue', axis = 1).values\n",
    "print (type(X))\n",
    "print (X.shape[1])\n",
    "vif = pd.DataFrame()\n",
    "vif[\"VIF Factor\"] = [variance_inflation_factor(X, i) for i in range(X.shape[1])]\n",
    "vif[\"features\"] = df_ohe.drop(columns = ['Revenue']).columns"
   ]
  },
  {
   "cell_type": "code",
   "execution_count": 296,
   "metadata": {},
   "outputs": [
    {
     "data": {
      "text/html": [
       "<div>\n",
       "<style scoped>\n",
       "    .dataframe tbody tr th:only-of-type {\n",
       "        vertical-align: middle;\n",
       "    }\n",
       "\n",
       "    .dataframe tbody tr th {\n",
       "        vertical-align: top;\n",
       "    }\n",
       "\n",
       "    .dataframe thead th {\n",
       "        text-align: right;\n",
       "    }\n",
       "</style>\n",
       "<table border=\"1\" class=\"dataframe\">\n",
       "  <thead>\n",
       "    <tr style=\"text-align: right;\">\n",
       "      <th></th>\n",
       "      <th>VIF Factor</th>\n",
       "      <th>features</th>\n",
       "    </tr>\n",
       "  </thead>\n",
       "  <tbody>\n",
       "    <tr>\n",
       "      <th>0</th>\n",
       "      <td>inf</td>\n",
       "      <td>Administrative</td>\n",
       "    </tr>\n",
       "    <tr>\n",
       "      <th>1</th>\n",
       "      <td>inf</td>\n",
       "      <td>Administrative_Duration</td>\n",
       "    </tr>\n",
       "    <tr>\n",
       "      <th>2</th>\n",
       "      <td>inf</td>\n",
       "      <td>Informational</td>\n",
       "    </tr>\n",
       "    <tr>\n",
       "      <th>3</th>\n",
       "      <td>inf</td>\n",
       "      <td>Informational_Duration</td>\n",
       "    </tr>\n",
       "    <tr>\n",
       "      <th>4</th>\n",
       "      <td>inf</td>\n",
       "      <td>ProductRelated</td>\n",
       "    </tr>\n",
       "    <tr>\n",
       "      <th>5</th>\n",
       "      <td>inf</td>\n",
       "      <td>ProductRelated_Duration</td>\n",
       "    </tr>\n",
       "    <tr>\n",
       "      <th>6</th>\n",
       "      <td>6.805843</td>\n",
       "      <td>BounceRates</td>\n",
       "    </tr>\n",
       "    <tr>\n",
       "      <th>7</th>\n",
       "      <td>8.190958</td>\n",
       "      <td>ExitRates</td>\n",
       "    </tr>\n",
       "    <tr>\n",
       "      <th>8</th>\n",
       "      <td>1.073612</td>\n",
       "      <td>PageValues</td>\n",
       "    </tr>\n",
       "    <tr>\n",
       "      <th>9</th>\n",
       "      <td>6.665807</td>\n",
       "      <td>SpecialDay</td>\n",
       "    </tr>\n",
       "    <tr>\n",
       "      <th>10</th>\n",
       "      <td>1.077783</td>\n",
       "      <td>Weekend</td>\n",
       "    </tr>\n",
       "    <tr>\n",
       "      <th>11</th>\n",
       "      <td>inf</td>\n",
       "      <td>total_pages</td>\n",
       "    </tr>\n",
       "    <tr>\n",
       "      <th>12</th>\n",
       "      <td>inf</td>\n",
       "      <td>total_duration</td>\n",
       "    </tr>\n",
       "    <tr>\n",
       "      <th>13</th>\n",
       "      <td>7.105507</td>\n",
       "      <td>SpecialOrNot</td>\n",
       "    </tr>\n",
       "    <tr>\n",
       "      <th>14</th>\n",
       "      <td>inf</td>\n",
       "      <td>Month_Aug</td>\n",
       "    </tr>\n",
       "    <tr>\n",
       "      <th>15</th>\n",
       "      <td>inf</td>\n",
       "      <td>Month_Dec</td>\n",
       "    </tr>\n",
       "    <tr>\n",
       "      <th>16</th>\n",
       "      <td>inf</td>\n",
       "      <td>Month_Feb</td>\n",
       "    </tr>\n",
       "    <tr>\n",
       "      <th>17</th>\n",
       "      <td>inf</td>\n",
       "      <td>Month_Jul</td>\n",
       "    </tr>\n",
       "    <tr>\n",
       "      <th>18</th>\n",
       "      <td>inf</td>\n",
       "      <td>Month_June</td>\n",
       "    </tr>\n",
       "    <tr>\n",
       "      <th>19</th>\n",
       "      <td>inf</td>\n",
       "      <td>Month_Mar</td>\n",
       "    </tr>\n",
       "    <tr>\n",
       "      <th>20</th>\n",
       "      <td>inf</td>\n",
       "      <td>Month_May</td>\n",
       "    </tr>\n",
       "    <tr>\n",
       "      <th>21</th>\n",
       "      <td>inf</td>\n",
       "      <td>Month_Nov</td>\n",
       "    </tr>\n",
       "    <tr>\n",
       "      <th>22</th>\n",
       "      <td>inf</td>\n",
       "      <td>Month_Oct</td>\n",
       "    </tr>\n",
       "    <tr>\n",
       "      <th>23</th>\n",
       "      <td>inf</td>\n",
       "      <td>Month_Sep</td>\n",
       "    </tr>\n",
       "    <tr>\n",
       "      <th>24</th>\n",
       "      <td>inf</td>\n",
       "      <td>OperatingSystems_1</td>\n",
       "    </tr>\n",
       "    <tr>\n",
       "      <th>25</th>\n",
       "      <td>inf</td>\n",
       "      <td>OperatingSystems_2</td>\n",
       "    </tr>\n",
       "    <tr>\n",
       "      <th>26</th>\n",
       "      <td>inf</td>\n",
       "      <td>OperatingSystems_3</td>\n",
       "    </tr>\n",
       "    <tr>\n",
       "      <th>27</th>\n",
       "      <td>inf</td>\n",
       "      <td>OperatingSystems_4</td>\n",
       "    </tr>\n",
       "    <tr>\n",
       "      <th>28</th>\n",
       "      <td>inf</td>\n",
       "      <td>OperatingSystems_5</td>\n",
       "    </tr>\n",
       "    <tr>\n",
       "      <th>29</th>\n",
       "      <td>inf</td>\n",
       "      <td>OperatingSystems_6</td>\n",
       "    </tr>\n",
       "    <tr>\n",
       "      <th>...</th>\n",
       "      <td>...</td>\n",
       "      <td>...</td>\n",
       "    </tr>\n",
       "    <tr>\n",
       "      <th>47</th>\n",
       "      <td>inf</td>\n",
       "      <td>Region_3</td>\n",
       "    </tr>\n",
       "    <tr>\n",
       "      <th>48</th>\n",
       "      <td>inf</td>\n",
       "      <td>Region_4</td>\n",
       "    </tr>\n",
       "    <tr>\n",
       "      <th>49</th>\n",
       "      <td>inf</td>\n",
       "      <td>Region_5</td>\n",
       "    </tr>\n",
       "    <tr>\n",
       "      <th>50</th>\n",
       "      <td>inf</td>\n",
       "      <td>Region_6</td>\n",
       "    </tr>\n",
       "    <tr>\n",
       "      <th>51</th>\n",
       "      <td>inf</td>\n",
       "      <td>Region_7</td>\n",
       "    </tr>\n",
       "    <tr>\n",
       "      <th>52</th>\n",
       "      <td>inf</td>\n",
       "      <td>Region_8</td>\n",
       "    </tr>\n",
       "    <tr>\n",
       "      <th>53</th>\n",
       "      <td>inf</td>\n",
       "      <td>Region_9</td>\n",
       "    </tr>\n",
       "    <tr>\n",
       "      <th>54</th>\n",
       "      <td>inf</td>\n",
       "      <td>TrafficType_1</td>\n",
       "    </tr>\n",
       "    <tr>\n",
       "      <th>55</th>\n",
       "      <td>inf</td>\n",
       "      <td>TrafficType_2</td>\n",
       "    </tr>\n",
       "    <tr>\n",
       "      <th>56</th>\n",
       "      <td>inf</td>\n",
       "      <td>TrafficType_3</td>\n",
       "    </tr>\n",
       "    <tr>\n",
       "      <th>57</th>\n",
       "      <td>inf</td>\n",
       "      <td>TrafficType_4</td>\n",
       "    </tr>\n",
       "    <tr>\n",
       "      <th>58</th>\n",
       "      <td>inf</td>\n",
       "      <td>TrafficType_5</td>\n",
       "    </tr>\n",
       "    <tr>\n",
       "      <th>59</th>\n",
       "      <td>inf</td>\n",
       "      <td>TrafficType_6</td>\n",
       "    </tr>\n",
       "    <tr>\n",
       "      <th>60</th>\n",
       "      <td>inf</td>\n",
       "      <td>TrafficType_7</td>\n",
       "    </tr>\n",
       "    <tr>\n",
       "      <th>61</th>\n",
       "      <td>inf</td>\n",
       "      <td>TrafficType_8</td>\n",
       "    </tr>\n",
       "    <tr>\n",
       "      <th>62</th>\n",
       "      <td>inf</td>\n",
       "      <td>TrafficType_9</td>\n",
       "    </tr>\n",
       "    <tr>\n",
       "      <th>63</th>\n",
       "      <td>inf</td>\n",
       "      <td>TrafficType_10</td>\n",
       "    </tr>\n",
       "    <tr>\n",
       "      <th>64</th>\n",
       "      <td>inf</td>\n",
       "      <td>TrafficType_11</td>\n",
       "    </tr>\n",
       "    <tr>\n",
       "      <th>65</th>\n",
       "      <td>inf</td>\n",
       "      <td>TrafficType_12</td>\n",
       "    </tr>\n",
       "    <tr>\n",
       "      <th>66</th>\n",
       "      <td>inf</td>\n",
       "      <td>TrafficType_13</td>\n",
       "    </tr>\n",
       "    <tr>\n",
       "      <th>67</th>\n",
       "      <td>inf</td>\n",
       "      <td>TrafficType_14</td>\n",
       "    </tr>\n",
       "    <tr>\n",
       "      <th>68</th>\n",
       "      <td>inf</td>\n",
       "      <td>TrafficType_15</td>\n",
       "    </tr>\n",
       "    <tr>\n",
       "      <th>69</th>\n",
       "      <td>inf</td>\n",
       "      <td>TrafficType_16</td>\n",
       "    </tr>\n",
       "    <tr>\n",
       "      <th>70</th>\n",
       "      <td>inf</td>\n",
       "      <td>TrafficType_17</td>\n",
       "    </tr>\n",
       "    <tr>\n",
       "      <th>71</th>\n",
       "      <td>inf</td>\n",
       "      <td>TrafficType_18</td>\n",
       "    </tr>\n",
       "    <tr>\n",
       "      <th>72</th>\n",
       "      <td>inf</td>\n",
       "      <td>TrafficType_19</td>\n",
       "    </tr>\n",
       "    <tr>\n",
       "      <th>73</th>\n",
       "      <td>inf</td>\n",
       "      <td>TrafficType_20</td>\n",
       "    </tr>\n",
       "    <tr>\n",
       "      <th>74</th>\n",
       "      <td>inf</td>\n",
       "      <td>VisitorType_New_Visitor</td>\n",
       "    </tr>\n",
       "    <tr>\n",
       "      <th>75</th>\n",
       "      <td>inf</td>\n",
       "      <td>VisitorType_Other</td>\n",
       "    </tr>\n",
       "    <tr>\n",
       "      <th>76</th>\n",
       "      <td>inf</td>\n",
       "      <td>VisitorType_Returning_Visitor</td>\n",
       "    </tr>\n",
       "  </tbody>\n",
       "</table>\n",
       "<p>77 rows × 2 columns</p>\n",
       "</div>"
      ],
      "text/plain": [
       "    VIF Factor                       features\n",
       "0          inf                 Administrative\n",
       "1          inf        Administrative_Duration\n",
       "2          inf                  Informational\n",
       "3          inf         Informational_Duration\n",
       "4          inf                 ProductRelated\n",
       "5          inf        ProductRelated_Duration\n",
       "6     6.805843                    BounceRates\n",
       "7     8.190958                      ExitRates\n",
       "8     1.073612                     PageValues\n",
       "9     6.665807                     SpecialDay\n",
       "10    1.077783                        Weekend\n",
       "11         inf                    total_pages\n",
       "12         inf                 total_duration\n",
       "13    7.105507                   SpecialOrNot\n",
       "14         inf                      Month_Aug\n",
       "15         inf                      Month_Dec\n",
       "16         inf                      Month_Feb\n",
       "17         inf                      Month_Jul\n",
       "18         inf                     Month_June\n",
       "19         inf                      Month_Mar\n",
       "20         inf                      Month_May\n",
       "21         inf                      Month_Nov\n",
       "22         inf                      Month_Oct\n",
       "23         inf                      Month_Sep\n",
       "24         inf             OperatingSystems_1\n",
       "25         inf             OperatingSystems_2\n",
       "26         inf             OperatingSystems_3\n",
       "27         inf             OperatingSystems_4\n",
       "28         inf             OperatingSystems_5\n",
       "29         inf             OperatingSystems_6\n",
       "..         ...                            ...\n",
       "47         inf                       Region_3\n",
       "48         inf                       Region_4\n",
       "49         inf                       Region_5\n",
       "50         inf                       Region_6\n",
       "51         inf                       Region_7\n",
       "52         inf                       Region_8\n",
       "53         inf                       Region_9\n",
       "54         inf                  TrafficType_1\n",
       "55         inf                  TrafficType_2\n",
       "56         inf                  TrafficType_3\n",
       "57         inf                  TrafficType_4\n",
       "58         inf                  TrafficType_5\n",
       "59         inf                  TrafficType_6\n",
       "60         inf                  TrafficType_7\n",
       "61         inf                  TrafficType_8\n",
       "62         inf                  TrafficType_9\n",
       "63         inf                 TrafficType_10\n",
       "64         inf                 TrafficType_11\n",
       "65         inf                 TrafficType_12\n",
       "66         inf                 TrafficType_13\n",
       "67         inf                 TrafficType_14\n",
       "68         inf                 TrafficType_15\n",
       "69         inf                 TrafficType_16\n",
       "70         inf                 TrafficType_17\n",
       "71         inf                 TrafficType_18\n",
       "72         inf                 TrafficType_19\n",
       "73         inf                 TrafficType_20\n",
       "74         inf        VisitorType_New_Visitor\n",
       "75         inf              VisitorType_Other\n",
       "76         inf  VisitorType_Returning_Visitor\n",
       "\n",
       "[77 rows x 2 columns]"
      ]
     },
     "execution_count": 296,
     "metadata": {},
     "output_type": "execute_result"
    }
   ],
   "source": [
    "vif"
   ]
  },
  {
   "cell_type": "code",
   "execution_count": 297,
   "metadata": {},
   "outputs": [
    {
     "name": "stdout",
     "output_type": "stream",
     "text": [
      "[inf, inf, inf, inf, inf, inf, 6.805842518980648, 8.19095768778729, 1.0736117088878878, 6.6658069396506345, 1.0777825538455934, inf, inf, 7.105506773295368, inf, inf, inf, inf, inf, inf, inf, inf, inf, inf, inf, inf, inf, inf, inf, inf, inf, inf, inf, inf, inf, inf, inf, inf, inf, inf, inf, inf, inf, inf, inf, inf, inf, inf, inf, inf, inf, inf, inf, inf, inf, inf, inf, inf, inf, inf, inf, inf, inf, inf, inf, inf, inf, inf, inf, inf, inf, inf, inf, inf, inf, inf, inf]\n",
      "dropping 'Administrative' at index: 0\n",
      "[inf, 2.8805065657601094, inf, 270.96289226291714, inf, 6.805842518980648, 8.19095768778729, 1.0736117088878878, 6.6658069396506345, 1.0777825538455934, 298.42580715524963, inf, 7.105506773295368, inf, inf, inf, inf, inf, inf, inf, inf, inf, inf, inf, inf, inf, inf, inf, inf, inf, inf, inf, inf, inf, inf, inf, inf, inf, inf, inf, inf, inf, inf, inf, inf, inf, inf, inf, inf, inf, inf, inf, inf, inf, inf, inf, inf, inf, inf, inf, inf, inf, inf, inf, inf, inf, inf, inf, inf, inf, inf, inf, inf, inf, inf, inf]\n",
      "dropping 'Administrative_Duration' at index: 0\n",
      "[2.8805065657601086, 16.34011213822411, 270.96289226291714, 636.612216171858, 6.805842518980648, 8.19095768778729, 1.0736117088878878, 6.6658069396506345, 1.0777825538455934, 298.42580715524963, 726.0009027104485, 7.105506773295368, inf, inf, inf, inf, inf, inf, inf, inf, inf, inf, inf, inf, inf, inf, inf, inf, inf, inf, inf, inf, inf, inf, inf, inf, inf, inf, inf, inf, inf, inf, inf, inf, inf, inf, inf, inf, inf, inf, inf, inf, inf, inf, inf, inf, inf, inf, inf, inf, inf, inf, inf, inf, inf, inf, inf, inf, inf, inf, inf, inf, inf, inf, inf]\n",
      "dropping 'Month_Aug' at index: 12\n",
      "[2.8805065657601103, 16.34011213822411, 270.96289226291714, 636.612216171858, 6.805842518980653, 8.19095768778729, 1.0736117088878878, 6.6658069396506345, 1.0777825538455934, 298.42580715524963, 726.0009027104485, 7.105506773295368, 4.508249258729099, 1.4846857006891023, 1.9369646923822081, 1.639909529751241, 4.812291859442272, 6.8794581337729985, 6.282353670410845, 2.2009890733864137, 1.9719568249117707, inf, inf, inf, inf, inf, inf, inf, inf, inf, inf, inf, inf, inf, inf, inf, inf, inf, inf, inf, inf, inf, inf, inf, inf, inf, inf, inf, inf, inf, inf, inf, inf, inf, inf, inf, inf, inf, inf, inf, inf, inf, inf, inf, inf, inf, inf, inf, inf, inf, inf, inf, inf, inf]\n",
      "dropping 'OperatingSystems_1' at index: 21\n",
      "[2.8805065657601086, 16.34011213822411, 270.96289226291714, 636.612216171858, 6.805842518980653, 8.19095768778729, 1.0736117088878878, 6.6658069396506345, 1.0777825538455936, 298.42580715524963, 726.0009027104485, 7.105506773295368, 4.508249258729099, 1.4846857006891023, 1.936964692382209, 1.6399095297512405, 4.812291859442272, 6.8794581337729985, 6.282353670410845, 2.200989073386413, 1.9719568249117707, 7.850245598781629, 5.696684285824387, 1.2759775294734501, inf, 1.0513311456970011, 1.0054714063961616, 2.6487337232111843, inf, inf, inf, inf, inf, inf, inf, inf, inf, inf, inf, inf, inf, inf, inf, inf, inf, inf, inf, inf, inf, inf, inf, inf, inf, inf, inf, inf, inf, inf, inf, inf, inf, inf, inf, inf, inf, inf, inf, inf, inf, inf, inf, inf, inf]\n",
      "dropping 'OperatingSystems_5' at index: 24\n",
      "[2.8805065657601094, 16.34011213822411, 270.96289226291714, 636.612216171858, 6.805842518980648, 8.19095768778729, 1.0736117088878878, 6.6658069396506345, 1.0777825538455934, 298.42580715524963, 726.0009027104485, 7.105506773295368, 4.508249258729099, 1.4846857006891023, 1.9369646923822081, 1.6399095297512405, 4.812291859442272, 6.8794581337729985, 6.282353670410845, 2.2009890733864133, 1.9719568249117703, 7.850245598781629, 5.696684285824387, 1.2759775294734501, 1.0513311456970007, 1.0054714063961618, 2.6487337232111843, inf, inf, inf, inf, inf, inf, inf, inf, inf, inf, inf, inf, inf, inf, inf, inf, inf, inf, inf, inf, inf, inf, inf, inf, inf, inf, inf, inf, inf, inf, inf, inf, inf, inf, inf, inf, inf, inf, inf, inf, inf, inf, inf, inf, inf]\n",
      "dropping 'Browser_1' at index: 27\n",
      "[2.8805065657601086, 16.34011213822411, 270.96289226291714, 636.612216171858, 6.805842518980653, 8.19095768778729, 1.0736117088878878, 6.665806939650639, 1.0777825538455934, 298.42580715524963, 726.0009027104485, 7.105506773295368, 4.508249258729099, 1.4846857006891023, 1.9369646923822086, 1.639909529751241, 4.812291859442272, 6.8794581337729985, 6.282353670410845, 2.200989073386413, 1.9719568249117707, 7.850245598781629, 5.696684285824387, 1.2759775294734501, 1.0513311456970007, 1.0054714063961618, 2.6487337232111843, 7.192934206788348, 1.3072871913372912, 2.798060320819949, 2.0855445586288104, 1.420539897075786, 1.130457679242467, 1.1299048393199673, 1.0073065250280324, 1.4085845462371602, 1.0215126089139166, 1.0286698623946267, 3.6398657638186687, inf, inf, inf, inf, inf, inf, inf, inf, inf, inf, inf, inf, inf, inf, inf, inf, inf, inf, inf, inf, inf, inf, inf, inf, inf, inf, inf, inf, inf, inf, inf, inf]\n",
      "dropping 'Region_1' at index: 39\n",
      "[2.8805065657601086, 16.34011213822411, 270.96289226291714, 636.612216171858, 6.805842518980653, 8.19095768778729, 1.0736117088878878, 6.6658069396506345, 1.0777825538455934, 298.42580715524963, 726.0009027104485, 7.105506773295368, 4.508249258729099, 1.4846857006891023, 1.936964692382209, 1.6399095297512405, 4.812291859442272, 6.8794581337729985, 6.282353670410845, 2.200989073386413, 1.9719568249117707, 7.850245598781629, 5.696684285824387, 1.2759775294734501, 1.0513311456970007, 1.0054714063961616, 2.6487337232111843, 7.192934206788348, 1.3072871913372908, 2.79806032081995, 2.085544558628811, 1.4205398970757865, 1.130457679242467, 1.1299048393199673, 1.0073065250280324, 1.4085845462371602, 1.0215126089139166, 1.0286698623946269, 3.6398657638186718, 1.1362603949347825, 1.2190899943776878, 1.138130186184092, 1.0500520630164005, 1.1049723310584723, 1.103530785539453, 1.0667025102459196, 1.2106345526531326, inf, inf, inf, inf, inf, inf, inf, inf, inf, inf, inf, inf, inf, inf, inf, inf, inf, inf, inf, inf, inf, inf, inf]\n",
      "dropping 'TrafficType_1' at index: 47\n",
      "[2.8805065657601086, 16.34011213822411, 270.96289226291714, 636.612216171858, 6.805842518980648, 8.19095768778729, 1.0736117088878878, 6.6658069396506345, 1.0777825538455936, 298.42580715524963, 726.0009027104485, 7.105506773295368, 4.508249258729099, 1.484685700689102, 1.936964692382209, 1.639909529751241, 4.812291859442272, 6.8794581337729985, 6.282353670410845, 2.200989073386413, 1.9719568249117707, 7.850245598781629, 5.696684285824387, 1.2759775294734501, 1.051331145697001, 1.0054714063961618, 2.6487337232111843, 7.192934206788348, 1.3072871913372912, 2.79806032081995, 2.085544558628811, 1.4205398970757859, 1.130457679242467, 1.129904839319967, 1.007306525028032, 1.40858454623716, 1.0215126089139166, 1.0286698623946269, 3.6398657638186704, 1.1362603949347825, 1.219089994377688, 1.138130186184092, 1.0500520630164005, 1.1049723310584725, 1.103530785539453, 1.0667025102459193, 1.2106345526531328, 2.0599581593341276, 1.6438536237558607, 1.528508771156466, 1.2104859820980978, 1.187885335934121, 1.0187877701684631, 1.2253981687912348, 1.0476362918797504, 1.1872723809248946, 1.1726522804621353, 1.002632555600144, 1.3356798658913844, 1.0238551293329956, 1.031503015460817, 1.0047550423368206, 1.0040801532744095, 1.0094312064740274, 1.017825677446591, 1.5298873958904675, 7.58098235076577, 2.5848939174481944, 42.37170255156497]\n",
      "dropping 'total_duration' at index: 10\n",
      "[2.4494557927038896, 1.647758350510687, 110.44733450227352, 3.775619616458389, 6.795689394432331, 8.156115266843539, 1.073226610786109, 6.661864969422078, 1.0777477081135547, 116.24825564020907, 7.1051855325241835, 4.507028083499476, 1.484197533420115, 1.9355904509345672, 1.6391449243515561, 4.810743543991106, 6.8792953238247385, 6.278425247573453, 2.2004115484758735, 1.971951498894372, 7.833600323648383, 5.696456963756197, 1.2719319476175064, 1.0513143776921525, 1.0053712347404193, 2.6482428282568793, 7.192918470948682, 1.3071091358011022, 2.7979594542710076, 2.0855252204042096, 1.4199910951690426, 1.1302616670264647, 1.129901593219663, 1.0063677927858778, 1.4085102061120225, 1.0214989149790779, 1.0285016840934973, 3.6397951740028, 1.1361245356997096, 1.2189826813151545, 1.1377803701129598, 1.0499623935445264, 1.1049260693334206, 1.1033217036958476, 1.0660179714381537, 1.2102680479652554, 2.0598824369617796, 1.6409728702414133, 1.5275297123621232, 1.2098351154606075, 1.1878535590738295, 1.0186854853596243, 1.2251374472134613, 1.0476271286946088, 1.1871776007470523, 1.1726518416680518, 1.0026325515313512, 1.3356733036727608, 1.0238535442349133, 1.0315025120144645, 1.0047257784758135, 1.0040794330421363, 1.0094250924682493, 1.017822017308159, 1.5298097567185556, 7.505267462706022, 2.5831461774911824, 42.093177872804766]\n",
      "dropping 'total_pages' at index: 9\n"
     ]
    },
    {
     "name": "stdout",
     "output_type": "stream",
     "text": [
      "[1.7831583055098852, 1.6472735690600022, 4.123114809328721, 3.775067139381287, 6.743193149466142, 7.999394022490711, 1.072934956003364, 6.659847395060838, 1.0775613356054248, 7.103811955364158, 4.49996476095092, 1.4827618521304242, 1.9347991680732581, 1.6384130951113882, 4.8060333626486935, 6.875321915314567, 6.2642458368786516, 2.198435127724852, 1.9717983123543816, 7.826510402767591, 5.695758630222109, 1.2707123940625324, 1.0512865783817416, 1.005322814356163, 2.647822988587862, 7.190801661377927, 1.3070714670675134, 2.7979579164684005, 2.085029373045778, 1.4199906989551405, 1.1299471733527056, 1.129793134416244, 1.0063569956675917, 1.4083576456038436, 1.0214225624011286, 1.0284305462161627, 3.6395438042207644, 1.1357223266242504, 1.2182830101807196, 1.1373998487006327, 1.0496709610765922, 1.1047446068595181, 1.1032263472058448, 1.0654287567420615, 1.2102587059135217, 2.0562586900032347, 1.6401220889574644, 1.527149478379932, 1.2037577357233906, 1.187783199727208, 1.0185065679525096, 1.2222712293667048, 1.0474969039197326, 1.1871024430826473, 1.1726469738445433, 1.0026325498332676, 1.3356629534987836, 1.0238516069884007, 1.0314807682960607, 1.0046358144940815, 1.0040791856519815, 1.0093861257224497, 1.0178107393753983, 1.5297340616708102, 7.388820688270136, 2.577355109796752, 41.57514914774476]\n",
      "dropping 'VisitorType_Returning_Visitor' at index: 66\n",
      "[2.0654927621643475, 1.747554633144024, 9.152198121830352, 7.757584425477017, 7.783806530466064, 12.794594253554227, 1.1778524370746495, 7.291282264242039, 1.3931202763496893, 7.90507749641331, 2.713368291793249, 1.226982804745508, 1.4042548432562219, 1.30500207113661, 2.666937057514341, 4.955225649032108, 4.172680946413417, 1.5141458406658352, 1.4283782005510333, 16.813751892525485, 7.165974492928843, 1.3084112200820885, 1.0528785834918306, 1.0056171912493796, 2.664358351412341, 20.08424436488875, 1.316349174768872, 2.952416726220986, 2.152844565648629, 1.435266046495429, 1.1334241475519122, 1.1286503143620088, 1.006435231296869, 1.4218148189513478, 1.0211877467892476, 1.0290263151524883, 3.656926839567881, 1.2375349269723623, 1.4800775391996588, 1.2385388907677624, 1.0729748155884848, 1.1688057816694117, 1.1654733467455627, 1.0943216981301966, 1.2597049168803265, 2.7755058726794064, 1.817749958963608, 1.5565724211997798, 1.1861030257950798, 1.2131088886597323, 1.0198115822886353, 1.2411097748734152, 1.0488360935719472, 1.211917788774303, 1.1907903086024954, 1.0027137988263526, 1.3972351000378485, 1.0246248229395167, 1.0311050010700054, 1.0045457646721034, 1.0038432627962324, 1.0097232577652147, 1.0184065684489099, 1.5412401740638784, 1.480647297429258, 2.2387850423697206]\n",
      "dropping 'Browser_2' at index: 25\n",
      "[2.065180230209066, 1.7473245032480167, 9.14185253028734, 7.757454043740234, 7.782946559775241, 12.791066504622542, 1.1778160320607223, 7.290158576888101, 1.3929387841863545, 7.904630726194843, 2.6850423262299596, 1.225177983671404, 1.3977182653467546, 1.3002852241727405, 2.627442532385683, 4.901600858403907, 4.118741259704919, 1.5089366754461107, 1.4200054299778797, 4.0298207530765575, 2.103502157899011, 1.1972124859955733, 1.0156238934678303, 1.005465729951345, 2.5809519785491046, 1.05418409179699, 1.1595283003586296, 1.0884778954941816, 1.0349924946041844, 1.0120407203498933, 1.1240571039267189, 1.0037503731055633, 1.037628022081489, 1.0209791588206734, 1.0043450513944232, 3.5578073097146343, 1.2374124884174, 1.4798099605392103, 1.2383913710224494, 1.07289065918974, 1.1686368664184625, 1.1653211087734299, 1.0938617677325502, 1.2590361882232133, 2.770649589694513, 1.8171181615043503, 1.5547244107888856, 1.1855646072490376, 1.2123451018351057, 1.0197646348086358, 1.239098226825101, 1.0488351685695487, 1.2116029082736675, 1.189292991243417, 1.0027137711323961, 1.3953579444777349, 1.0246087300917337, 1.0309970472962133, 1.0045407110921059, 1.0038319505890754, 1.009709164665694, 1.0183202718400168, 1.5409474777847534, 1.480611556121002, 2.238698904937646]\n",
      "dropping 'ExitRates' at index: 5\n",
      "[2.065143535470991, 1.7473039896764635, 8.770922950368853, 7.756630842492755, 1.441166801498449, 1.1651560743930125, 7.2853708811248, 1.3926373319713277, 7.904249733387405, 2.363918920346552, 1.1925149135434232, 1.3236105238933658, 1.2395657218096423, 2.3095861329927954, 4.418538885983874, 3.5821932305106956, 1.438044722652352, 1.3602955889096289, 3.9212041570283644, 2.0986488803481294, 1.1910953261538701, 1.01560699083095, 1.0052536523249538, 2.5809277817613907, 1.054056298359737, 1.159527740122813, 1.0884668370691575, 1.0348435150261879, 1.0120384523463621, 1.1227734746854072, 1.0037421267152982, 1.0376240750617263, 1.0208292940168227, 1.0043449661659336, 3.5571063160604957, 1.2369965158084009, 1.4742253733848385, 1.237079762483122, 1.0727574465073422, 1.1680594849806432, 1.165320701157863, 1.0930576096322104, 1.2583801591114037, 2.7705850697727024, 1.803200179216631, 1.5537839972842473, 1.183993183609175, 1.2110874078800817, 1.0195977576836552, 1.2390977917656703, 1.0488221962379767, 1.2115090580680414, 1.1892355763474198, 1.0024858293817167, 1.3900834031670302, 1.0246037035761266, 1.0305576433508472, 1.0044870965337551, 1.003831388803001, 1.0097028170340905, 1.0182617177788045, 1.5409408744999709, 1.4438755164626305, 2.237111732140064]\n",
      "dropping 'ProductRelated' at index: 2\n",
      "[2.0442492274737787, 1.745384404783965, 2.7065126845934433, 1.4256958863506572, 1.1650003210667792, 7.281474748040134, 1.3901069486149447, 7.904201628648256, 2.3522323314656983, 1.1924144170878714, 1.3134162719216025, 1.2319226786943884, 2.307693869146162, 4.405595067851594, 3.541968670100204, 1.427589178116913, 1.3531843689391565, 3.8877006663745863, 2.092743213241937, 1.188929836100994, 1.0155925693986971, 1.0052512341393465, 2.5808329617454944, 1.0533203022468216, 1.159474592760459, 1.0883148260166284, 1.0348433339518435, 1.0120305003519896, 1.1224743826189134, 1.0035895251458307, 1.0376192949082017, 1.020536482950149, 1.0042623481556243, 3.556682870354858, 1.236964757851878, 1.4734078110863906, 1.2370748972468428, 1.0727567609326425, 1.1677358538352247, 1.1652342901981267, 1.0929268664795084, 1.25734125835014, 2.7625503899695873, 1.7969212973174997, 1.5498583686805898, 1.1839816941461487, 1.2109943663163332, 1.0195743697686186, 1.2390946405174987, 1.0486985852693644, 1.211040980400254, 1.1890552525768248, 1.0024838489836614, 1.3888618530701244, 1.024602663253294, 1.030522227528793, 1.00447794180809, 1.0038251636647813, 1.0096961136003615, 1.0182609768225028, 1.5405572806058565, 1.4395589309073331, 2.236534399902836]\n",
      "dropping 'SpecialOrNot' at index: 7\n",
      "[2.0442304027560607, 1.7452765730500581, 2.706457628634843, 1.425457856753325, 1.164877440737459, 1.4593344519873916, 1.352726999602456, 2.3518947948917424, 1.1748021196847591, 1.3132999037047595, 1.2319201462043166, 2.307241394293396, 4.288985099062281, 3.5412319515701958, 1.4273470872638991, 1.3530325009231525, 3.8873490835887665, 2.092743123271282, 1.1889287407831772, 1.0151207507384112, 1.005153290541878, 2.5807704141912486, 1.0531609910824375, 1.1592440152463734, 1.0883137388810724, 1.034814562556619, 1.0119961434346125, 1.122473952273057, 1.003589480072319, 1.0376093385132406, 1.020536090355856, 1.0041609718659996, 3.55665834834343, 1.2369439107146836, 1.4733930402938251, 1.237042627415084, 1.0727101263388537, 1.1677184495494024, 1.164876794929526, 1.09289762321831, 1.2571797204191086, 2.7624220247420848, 1.7954357375860541, 1.5498478384215182, 1.1839311704286426, 1.2107610923529821, 1.0195743678171363, 1.2389204087310455, 1.0483311405046285, 1.2109971612179689, 1.188765038966073, 1.0024837926510715, 1.3874682660177364, 1.0246017738815127, 1.0305214100349418, 1.0044232433859044, 1.0030796156452837, 1.0094410484842706, 1.016473590584799, 1.5405096142941601, 1.4395405757866586, 2.236518290330061]\n",
      "Remaining variables:\n",
      "['Informational', 'Informational_Duration', 'ProductRelated_Duration', 'BounceRates', 'PageValues', 'SpecialDay', 'Weekend', 'Month_Dec', 'Month_Feb', 'Month_Jul', 'Month_June', 'Month_Mar', 'Month_May', 'Month_Nov', 'Month_Oct', 'Month_Sep', 'OperatingSystems_2', 'OperatingSystems_3', 'OperatingSystems_4', 'OperatingSystems_6', 'OperatingSystems_7', 'OperatingSystems_8', 'Browser_3', 'Browser_4', 'Browser_5', 'Browser_6', 'Browser_7', 'Browser_8', 'Browser_9', 'Browser_10', 'Browser_11', 'Browser_12', 'Browser_13', 'Region_2', 'Region_3', 'Region_4', 'Region_5', 'Region_6', 'Region_7', 'Region_8', 'Region_9', 'TrafficType_2', 'TrafficType_3', 'TrafficType_4', 'TrafficType_5', 'TrafficType_6', 'TrafficType_7', 'TrafficType_8', 'TrafficType_9', 'TrafficType_10', 'TrafficType_11', 'TrafficType_12', 'TrafficType_13', 'TrafficType_14', 'TrafficType_15', 'TrafficType_16', 'TrafficType_17', 'TrafficType_18', 'TrafficType_19', 'TrafficType_20', 'VisitorType_New_Visitor', 'VisitorType_Other']\n"
     ]
    }
   ],
   "source": [
    "X = df_ohe.drop(columns = ['Revenue'])\n",
    "columns = X.columns.tolist()\n",
    "threshold = 5\n",
    "dropped = True\n",
    "remain_cols = columns.copy()\n",
    "while dropped:\n",
    "    dropped = False\n",
    "    vif = [variance_inflation_factor(X[remain_cols].values, ix) for ix in range(len(remain_cols))]\n",
    "    print (vif)\n",
    "    max_vif = vif.index(max(vif))\n",
    "    if (max(vif) > threshold):\n",
    "        print('dropping \\'' + remain_cols[max_vif] + '\\' at index: ' + str(max_vif))\n",
    "        remain_cols.pop(max_vif)\n",
    "        #remain_cols = remain_cols.drop(X.columns[max_vif])\n",
    "        dropped=True\n",
    "print('Remaining variables:')\n",
    "print(remain_cols)\n"
   ]
  },
  {
   "cell_type": "markdown",
   "metadata": {},
   "source": [
    "## 2.6 scaling and over sampling"
   ]
  },
  {
   "cell_type": "code",
   "execution_count": 298,
   "metadata": {},
   "outputs": [],
   "source": [
    "# prepare train, test and scale the data\n",
    "y = df_ohe['Revenue']\n",
    "X = df_ohe[remain_cols]\n",
    "X_train, X_test, y_train, y_test = train_test_split(X,y)"
   ]
  },
  {
   "cell_type": "code",
   "execution_count": 299,
   "metadata": {},
   "outputs": [],
   "source": [
    "# oversample the minority class\n",
    "from imblearn.over_sampling import SMOTE\n",
    "sm = SMOTE(random_state = 0)\n",
    "X_train,y_train = sm.fit_sample(X_train,y_train.ravel())"
   ]
  },
  {
   "cell_type": "code",
   "execution_count": 300,
   "metadata": {},
   "outputs": [
    {
     "data": {
      "text/plain": [
       "1.0    7824\n",
       "0.0    7824\n",
       "dtype: int64"
      ]
     },
     "execution_count": 300,
     "metadata": {},
     "output_type": "execute_result"
    }
   ],
   "source": [
    "pd.Series(y_train).value_counts()"
   ]
  },
  {
   "cell_type": "code",
   "execution_count": 301,
   "metadata": {},
   "outputs": [],
   "source": [
    "scaler = MinMaxScaler()\n",
    "X_train_scaled = scaler.fit_transform(X_train)\n",
    "X_test_scaled = scaler.transform(X_test)"
   ]
  },
  {
   "cell_type": "markdown",
   "metadata": {},
   "source": [
    "## 2.7 model fitting and visualization"
   ]
  },
  {
   "cell_type": "code",
   "execution_count": 302,
   "metadata": {},
   "outputs": [],
   "source": [
    "# visualizations code from https://www.kaggle.com/kageyama/lgbm-online-shopper-s-eda-and-classification\n",
    "\n",
    "def plot_confusion_matrix(truth, pred, classes, normalize=False, title=''):\n",
    "    cm = confusion_matrix(truth, pred)\n",
    "    if normalize:\n",
    "        cm = cm.astype('float') / cm.sum(axis=1)[:, np.newaxis]\n",
    "    \n",
    "    plt.figure(figsize=(6, 6))\n",
    "    plt.imshow(cm, interpolation='nearest', cmap=plt.cm.Blues)\n",
    "    plt.title('Confusion matrix', size=15)\n",
    "    plt.colorbar(fraction=0.046, pad=0.04)\n",
    "    tick_marks = np.arange(len(classes))\n",
    "    plt.xticks(tick_marks, classes, rotation=45)\n",
    "    plt.yticks(tick_marks, classes)\n",
    "\n",
    "    fmt = '.2f' if normalize else 'd'\n",
    "    thresh = cm.max() / 2.\n",
    "    for i, j in itertools.product(range(cm.shape[0]), range(cm.shape[1])):\n",
    "        plt.text(j, i, format(cm[i, j], fmt),\n",
    "                 horizontalalignment=\"center\",\n",
    "                 color=\"white\" if cm[i, j] > thresh else \"black\")\n",
    "\n",
    "    plt.ylabel('True label')\n",
    "    plt.xlabel('Predicted label')\n",
    "    plt.grid(False)\n",
    "    plt.tight_layout()"
   ]
  },
  {
   "cell_type": "code",
   "execution_count": 303,
   "metadata": {},
   "outputs": [
    {
     "name": "stderr",
     "output_type": "stream",
     "text": [
      "/anaconda3/lib/python3.6/site-packages/sklearn/model_selection/_split.py:2053: FutureWarning: You should specify a value for 'cv' instead of relying on the default value. The default value will change from 3 to 5 in version 0.22.\n",
      "  warnings.warn(CV_WARNING, FutureWarning)\n"
     ]
    },
    {
     "name": "stdout",
     "output_type": "stream",
     "text": [
      "precision:  0.5235457063711911\n",
      "recall:  0.7793814432989691\n",
      "              precision    recall  f1-score   support\n",
      "\n",
      "         0.0       0.95      0.87      0.91      2598\n",
      "         1.0       0.52      0.78      0.63       485\n",
      "\n",
      "   micro avg       0.85      0.85      0.85      3083\n",
      "   macro avg       0.74      0.82      0.77      3083\n",
      "weighted avg       0.89      0.85      0.86      3083\n",
      "\n"
     ]
    },
    {
     "data": {
      "image/png": "[encoded data removed]",
      "text/plain": [
       "<Figure size 432x432 with 2 Axes>"
      ]
     },
     "metadata": {
      "needs_background": "light"
     },
     "output_type": "display_data"
    }
   ],
   "source": [
    "logreg = LogisticRegressionCV(scoring = 'f1', max_iter = 1000)\n",
    "logreg.fit(X_train_scaled, y_train)\n",
    "y_pred = logreg.predict(X_test_scaled)\n",
    "print (\"precision: \", precision_score(y_test,y_pred))\n",
    "print (\"recall: \", recall_score(y_test,y_pred))\n",
    "print (classification_report(y_test,y_pred))\n",
    "plot_confusion_matrix(y_test,y_pred, ['False','True'])"
   ]
  },
  {
   "cell_type": "code",
   "execution_count": 306,
   "metadata": {},
   "outputs": [
    {
     "name": "stdout",
     "output_type": "stream",
     "text": [
      "precision:  0.6853658536585366\n",
      "recall:  0.5793814432989691\n",
      "              precision    recall  f1-score   support\n",
      "\n",
      "         0.0       0.92      0.95      0.94      2598\n",
      "         1.0       0.69      0.58      0.63       485\n",
      "\n",
      "   micro avg       0.89      0.89      0.89      3083\n",
      "   macro avg       0.80      0.76      0.78      3083\n",
      "weighted avg       0.89      0.89      0.89      3083\n",
      "\n"
     ]
    },
    {
     "data": {
      "image/png": "[encoded data removed]",
      "text/plain": [
       "<Figure size 432x432 with 2 Axes>"
      ]
     },
     "metadata": {
      "needs_background": "light"
     },
     "output_type": "display_data"
    }
   ],
   "source": [
    "rfc = RandomForestClassifier(n_estimators = 100)\n",
    "rfc.fit(X_train_scaled, y_train)\n",
    "y_pred = rfc.predict(X_test_scaled)\n",
    "print (\"precision: \", precision_score(y_test,y_pred))\n",
    "print (\"recall: \", recall_score(y_test,y_pred))\n",
    "print (classification_report(y_test,y_pred))\n",
    "plot_confusion_matrix(y_test,y_pred, ['False','True'])"
   ]
  },
  {
   "cell_type": "code",
   "execution_count": 308,
   "metadata": {},
   "outputs": [
    {
     "name": "stdout",
     "output_type": "stream",
     "text": [
      "precision:  0.1730698865715331\n",
      "recall:  0.9752577319587629\n",
      "              precision    recall  f1-score   support\n",
      "\n",
      "         0.0       0.97      0.13      0.23      2598\n",
      "         1.0       0.17      0.98      0.29       485\n",
      "\n",
      "   micro avg       0.26      0.26      0.26      3083\n",
      "   macro avg       0.57      0.55      0.26      3083\n",
      "weighted avg       0.84      0.26      0.24      3083\n",
      "\n",
      "              precision    recall  f1-score   support\n",
      "\n",
      "         0.0       0.97      0.13      0.23      2598\n",
      "         1.0       0.17      0.98      0.29       485\n",
      "\n",
      "   micro avg       0.26      0.26      0.26      3083\n",
      "   macro avg       0.57      0.55      0.26      3083\n",
      "weighted avg       0.84      0.26      0.24      3083\n",
      "\n"
     ]
    },
    {
     "data": {
      "image/png": "[encoded data removed]",
      "text/plain": [
       "<Figure size 432x432 with 2 Axes>"
      ]
     },
     "metadata": {
      "needs_background": "light"
     },
     "output_type": "display_data"
    }
   ],
   "source": [
    "gnb = GaussianNB()\n",
    "gnb.fit(X_train_scaled, y_train)\n",
    "y_pred = gnb.predict(X_test_scaled)\n",
    "print (\"precision: \", precision_score(y_test,y_pred))\n",
    "print (\"recall: \", recall_score(y_test,y_pred))\n",
    "print (classification_report(y_test,y_pred))\n",
    "print (classification_report(y_test,y_pred))\n",
    "plot_confusion_matrix(y_test,y_pred, ['False','True'])"
   ]
  },
  {
   "cell_type": "markdown",
   "metadata": {},
   "source": [
    "Very high recall rate - but also high false positive rate."
   ]
  },
  {
   "cell_type": "markdown",
   "metadata": {},
   "source": [
    "Using the best performing rfc model, let's see how it predicts the conversion rate on the test population:"
   ]
  },
  {
   "cell_type": "code",
   "execution_count": 307,
   "metadata": {},
   "outputs": [
    {
     "name": "stdout",
     "output_type": "stream",
     "text": [
      "the predicted conversion rate is 0.13298734998378203\n",
      "the actual conversion rate is 0.157314304249108\n"
     ]
    }
   ],
   "source": [
    "y_pred = rfc.predict(X_test_scaled)\n",
    "print (\"the predicted conversion rate is\", y_pred.mean())\n",
    "print (\"the actual conversion rate is\", y_test.mean())"
   ]
  },
  {
   "cell_type": "markdown",
   "metadata": {},
   "source": [
    "Next, we can take a closer look at the factors and how the models weighs them:"
   ]
  },
  {
   "cell_type": "code",
   "execution_count": 276,
   "metadata": {},
   "outputs": [
    {
     "name": "stdout",
     "output_type": "stream",
     "text": [
      "PageValues                50.91226441526766\n",
      "BounceRates               -2.940737297752408\n",
      "Month_Feb                 -1.7902431056884363\n",
      "Informational             1.3742000549687754\n",
      "OperatingSystems_Other    -1.0421459211591193\n",
      "ProductRelated_Duration   1.000985040395267\n",
      "Month_May                 -0.9888863479342906\n",
      "Month_Mar                 -0.9739145085533774\n",
      "Month_Dec                 -0.855380420822544\n",
      "OperatingSystems_8        0.6715567778043353\n"
     ]
    }
   ],
   "source": [
    "coef = logreg.coef_[0]\n",
    "# plt.figure(figsize=(20,20))\n",
    "# plt.barh(y=X.columns,width = coef)\n",
    "# plt.show()\n",
    "\n",
    "\n",
    "top_10 = np.argsort(-np.absolute(coef))[:10]\n",
    "for i in top_10:\n",
    "    print (\"%-25s %s\" % ((X.columns[i], coef[i])))"
   ]
  },
  {
   "cell_type": "code",
   "execution_count": 277,
   "metadata": {},
   "outputs": [
    {
     "name": "stdout",
     "output_type": "stream",
     "text": [
      "precision:  0.6923076923076923\n",
      "recall:  0.5823529411764706\n"
     ]
    },
    {
     "data": {
      "image/png": "[encoded data removed]",
      "text/plain": [
       "<Figure size 1440x1440 with 1 Axes>"
      ]
     },
     "metadata": {
      "needs_background": "light"
     },
     "output_type": "display_data"
    },
    {
     "name": "stdout",
     "output_type": "stream",
     "text": [
      "PageValues                0.4217951186461547\n",
      "ProductRelated_Duration   0.07225040362085483\n",
      "Month_Nov                 0.0659790486810444\n",
      "TrafficType_2             0.061736278817062853\n",
      "BounceRates               0.05130871710807233\n",
      "OperatingSystems_2        0.035153858342861326\n",
      "VisitorType_New_Visitor   0.031181342201151718\n",
      "OperatingSystems_3        0.02537602299398331\n",
      "Month_May                 0.02374835627009232\n",
      "TrafficType_Other         0.02184345589259243\n"
     ]
    }
   ],
   "source": [
    "rfc = RandomForestClassifier(n_estimators = 100)\n",
    "rfc.fit(X_train_scaled, y_train)\n",
    "y_pred = rfc.predict(X_test_scaled)\n",
    "print (\"precision: \", precision_score(y_test,y_pred))\n",
    "print (\"recall: \", recall_score(y_test,y_pred))\n",
    "coef = rfc.feature_importances_\n",
    "plt.figure(figsize=(20,20))\n",
    "plt.barh(y=X.columns,width = coef)\n",
    "plt.show()\n",
    "\n",
    "\n",
    "top_10 = np.argsort(-np.absolute(coef))[:10]\n",
    "for i in top_10:\n",
    "    print (\"%-25s %s\" % ((X.columns[i], coef[i])))"
   ]
  }
 ],
 "metadata": {
  "kernelspec": {
   "display_name": "Python 3",
   "language": "python",
   "name": "python3"
  },
  "language_info": {
   "codemirror_mode": {
    "name": "ipython",
    "version": 3
   },
   "file_extension": ".py",
   "mimetype": "text/x-python",
   "name": "python",
   "nbconvert_exporter": "python",
   "pygments_lexer": "ipython3",
   "version": "3.6.8"
  }
 },
 "nbformat": 4,
 "nbformat_minor": 2
}
