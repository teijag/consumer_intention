{
 "cells": [
  {
   "cell_type": "code",
   "execution_count": 181,
   "metadata": {},
   "outputs": [],
   "source": [
    "import pandas as pd\n",
    "from matplotlib import pyplot as plt\n",
    "import seaborn as sns\n",
    "import numpy as np\n",
    "from sklearn.model_selection import train_test_split\n",
    "from sklearn.preprocessing import MinMaxScaler\n",
    "from sklearn.linear_model import LogisticRegressionCV\n",
    "from sklearn.metrics import precision_score, recall_score, accuracy_score, classification_report, confusion_matrix\n",
    "from sklearn.ensemble import RandomForestClassifier\n",
    "from sklearn.naive_bayes import GaussianNB\n",
    "from sklearn.svm import LinearSVC\n",
    "import itertools\n",
    "from statsmodels.stats.outliers_influence import variance_inflation_factor\n",
    "from sklearn.model_selection import GridSearchCV\n"
   ]
  },
  {
   "cell_type": "code",
   "execution_count": 2,
   "metadata": {},
   "outputs": [],
   "source": [
    "df = pd.read_csv(\"online_shoppers_intention.csv\")"
   ]
  },
  {
   "cell_type": "markdown",
   "metadata": {},
   "source": [
    "# 1. Data overview\n",
    "\n",
    "Let's first check the basics of the dataset - the rows, columns, datatypes and null values."
   ]
  },
  {
   "cell_type": "code",
   "execution_count": 3,
   "metadata": {},
   "outputs": [
    {
     "data": {
      "text/html": [
       "<div>\n",
       "<style scoped>\n",
       "    .dataframe tbody tr th:only-of-type {\n",
       "        vertical-align: middle;\n",
       "    }\n",
       "\n",
       "    .dataframe tbody tr th {\n",
       "        vertical-align: top;\n",
       "    }\n",
       "\n",
       "    .dataframe thead th {\n",
       "        text-align: right;\n",
       "    }\n",
       "</style>\n",
       "<table border=\"1\" class=\"dataframe\">\n",
       "  <thead>\n",
       "    <tr style=\"text-align: right;\">\n",
       "      <th></th>\n",
       "      <th>Administrative</th>\n",
       "      <th>Administrative_Duration</th>\n",
       "      <th>Informational</th>\n",
       "      <th>Informational_Duration</th>\n",
       "      <th>ProductRelated</th>\n",
       "      <th>ProductRelated_Duration</th>\n",
       "      <th>BounceRates</th>\n",
       "      <th>ExitRates</th>\n",
       "      <th>PageValues</th>\n",
       "      <th>SpecialDay</th>\n",
       "      <th>Month</th>\n",
       "      <th>OperatingSystems</th>\n",
       "      <th>Browser</th>\n",
       "      <th>Region</th>\n",
       "      <th>TrafficType</th>\n",
       "      <th>VisitorType</th>\n",
       "      <th>Weekend</th>\n",
       "      <th>Revenue</th>\n",
       "    </tr>\n",
       "  </thead>\n",
       "  <tbody>\n",
       "    <tr>\n",
       "      <th>0</th>\n",
       "      <td>0</td>\n",
       "      <td>0.0</td>\n",
       "      <td>0</td>\n",
       "      <td>0.0</td>\n",
       "      <td>1</td>\n",
       "      <td>0.000000</td>\n",
       "      <td>0.20</td>\n",
       "      <td>0.20</td>\n",
       "      <td>0.0</td>\n",
       "      <td>0.0</td>\n",
       "      <td>Feb</td>\n",
       "      <td>1</td>\n",
       "      <td>1</td>\n",
       "      <td>1</td>\n",
       "      <td>1</td>\n",
       "      <td>Returning_Visitor</td>\n",
       "      <td>False</td>\n",
       "      <td>False</td>\n",
       "    </tr>\n",
       "    <tr>\n",
       "      <th>1</th>\n",
       "      <td>0</td>\n",
       "      <td>0.0</td>\n",
       "      <td>0</td>\n",
       "      <td>0.0</td>\n",
       "      <td>2</td>\n",
       "      <td>64.000000</td>\n",
       "      <td>0.00</td>\n",
       "      <td>0.10</td>\n",
       "      <td>0.0</td>\n",
       "      <td>0.0</td>\n",
       "      <td>Feb</td>\n",
       "      <td>2</td>\n",
       "      <td>2</td>\n",
       "      <td>1</td>\n",
       "      <td>2</td>\n",
       "      <td>Returning_Visitor</td>\n",
       "      <td>False</td>\n",
       "      <td>False</td>\n",
       "    </tr>\n",
       "    <tr>\n",
       "      <th>2</th>\n",
       "      <td>0</td>\n",
       "      <td>0.0</td>\n",
       "      <td>0</td>\n",
       "      <td>0.0</td>\n",
       "      <td>1</td>\n",
       "      <td>0.000000</td>\n",
       "      <td>0.20</td>\n",
       "      <td>0.20</td>\n",
       "      <td>0.0</td>\n",
       "      <td>0.0</td>\n",
       "      <td>Feb</td>\n",
       "      <td>4</td>\n",
       "      <td>1</td>\n",
       "      <td>9</td>\n",
       "      <td>3</td>\n",
       "      <td>Returning_Visitor</td>\n",
       "      <td>False</td>\n",
       "      <td>False</td>\n",
       "    </tr>\n",
       "    <tr>\n",
       "      <th>3</th>\n",
       "      <td>0</td>\n",
       "      <td>0.0</td>\n",
       "      <td>0</td>\n",
       "      <td>0.0</td>\n",
       "      <td>2</td>\n",
       "      <td>2.666667</td>\n",
       "      <td>0.05</td>\n",
       "      <td>0.14</td>\n",
       "      <td>0.0</td>\n",
       "      <td>0.0</td>\n",
       "      <td>Feb</td>\n",
       "      <td>3</td>\n",
       "      <td>2</td>\n",
       "      <td>2</td>\n",
       "      <td>4</td>\n",
       "      <td>Returning_Visitor</td>\n",
       "      <td>False</td>\n",
       "      <td>False</td>\n",
       "    </tr>\n",
       "    <tr>\n",
       "      <th>4</th>\n",
       "      <td>0</td>\n",
       "      <td>0.0</td>\n",
       "      <td>0</td>\n",
       "      <td>0.0</td>\n",
       "      <td>10</td>\n",
       "      <td>627.500000</td>\n",
       "      <td>0.02</td>\n",
       "      <td>0.05</td>\n",
       "      <td>0.0</td>\n",
       "      <td>0.0</td>\n",
       "      <td>Feb</td>\n",
       "      <td>3</td>\n",
       "      <td>3</td>\n",
       "      <td>1</td>\n",
       "      <td>4</td>\n",
       "      <td>Returning_Visitor</td>\n",
       "      <td>True</td>\n",
       "      <td>False</td>\n",
       "    </tr>\n",
       "  </tbody>\n",
       "</table>\n",
       "</div>"
      ],
      "text/plain": [
       "   Administrative  Administrative_Duration  Informational  \\\n",
       "0               0                      0.0              0   \n",
       "1               0                      0.0              0   \n",
       "2               0                      0.0              0   \n",
       "3               0                      0.0              0   \n",
       "4               0                      0.0              0   \n",
       "\n",
       "   Informational_Duration  ProductRelated  ProductRelated_Duration  \\\n",
       "0                     0.0               1                 0.000000   \n",
       "1                     0.0               2                64.000000   \n",
       "2                     0.0               1                 0.000000   \n",
       "3                     0.0               2                 2.666667   \n",
       "4                     0.0              10               627.500000   \n",
       "\n",
       "   BounceRates  ExitRates  PageValues  SpecialDay Month  OperatingSystems  \\\n",
       "0         0.20       0.20         0.0         0.0   Feb                 1   \n",
       "1         0.00       0.10         0.0         0.0   Feb                 2   \n",
       "2         0.20       0.20         0.0         0.0   Feb                 4   \n",
       "3         0.05       0.14         0.0         0.0   Feb                 3   \n",
       "4         0.02       0.05         0.0         0.0   Feb                 3   \n",
       "\n",
       "   Browser  Region  TrafficType        VisitorType  Weekend  Revenue  \n",
       "0        1       1            1  Returning_Visitor    False    False  \n",
       "1        2       1            2  Returning_Visitor    False    False  \n",
       "2        1       9            3  Returning_Visitor    False    False  \n",
       "3        2       2            4  Returning_Visitor    False    False  \n",
       "4        3       1            4  Returning_Visitor     True    False  "
      ]
     },
     "execution_count": 3,
     "metadata": {},
     "output_type": "execute_result"
    }
   ],
   "source": [
    "df.head(5)"
   ]
  },
  {
   "cell_type": "code",
   "execution_count": 4,
   "metadata": {},
   "outputs": [
    {
     "name": "stdout",
     "output_type": "stream",
     "text": [
      "<class 'pandas.core.frame.DataFrame'>\n",
      "RangeIndex: 12330 entries, 0 to 12329\n",
      "Data columns (total 18 columns):\n",
      "Administrative             12330 non-null int64\n",
      "Administrative_Duration    12330 non-null float64\n",
      "Informational              12330 non-null int64\n",
      "Informational_Duration     12330 non-null float64\n",
      "ProductRelated             12330 non-null int64\n",
      "ProductRelated_Duration    12330 non-null float64\n",
      "BounceRates                12330 non-null float64\n",
      "ExitRates                  12330 non-null float64\n",
      "PageValues                 12330 non-null float64\n",
      "SpecialDay                 12330 non-null float64\n",
      "Month                      12330 non-null object\n",
      "OperatingSystems           12330 non-null int64\n",
      "Browser                    12330 non-null int64\n",
      "Region                     12330 non-null int64\n",
      "TrafficType                12330 non-null int64\n",
      "VisitorType                12330 non-null object\n",
      "Weekend                    12330 non-null bool\n",
      "Revenue                    12330 non-null bool\n",
      "dtypes: bool(2), float64(7), int64(7), object(2)\n",
      "memory usage: 1.5+ MB\n"
     ]
    }
   ],
   "source": [
    "df.info()"
   ]
  },
  {
   "cell_type": "code",
   "execution_count": 5,
   "metadata": {},
   "outputs": [
    {
     "data": {
      "text/html": [
       "<div>\n",
       "<style scoped>\n",
       "    .dataframe tbody tr th:only-of-type {\n",
       "        vertical-align: middle;\n",
       "    }\n",
       "\n",
       "    .dataframe tbody tr th {\n",
       "        vertical-align: top;\n",
       "    }\n",
       "\n",
       "    .dataframe thead th {\n",
       "        text-align: right;\n",
       "    }\n",
       "</style>\n",
       "<table border=\"1\" class=\"dataframe\">\n",
       "  <thead>\n",
       "    <tr style=\"text-align: right;\">\n",
       "      <th></th>\n",
       "      <th>Administrative</th>\n",
       "      <th>Administrative_Duration</th>\n",
       "      <th>Informational</th>\n",
       "      <th>Informational_Duration</th>\n",
       "      <th>ProductRelated</th>\n",
       "      <th>ProductRelated_Duration</th>\n",
       "      <th>BounceRates</th>\n",
       "      <th>ExitRates</th>\n",
       "      <th>PageValues</th>\n",
       "      <th>SpecialDay</th>\n",
       "      <th>OperatingSystems</th>\n",
       "      <th>Browser</th>\n",
       "      <th>Region</th>\n",
       "      <th>TrafficType</th>\n",
       "    </tr>\n",
       "  </thead>\n",
       "  <tbody>\n",
       "    <tr>\n",
       "      <th>count</th>\n",
       "      <td>12330.000000</td>\n",
       "      <td>12330.000000</td>\n",
       "      <td>12330.000000</td>\n",
       "      <td>12330.000000</td>\n",
       "      <td>12330.000000</td>\n",
       "      <td>12330.000000</td>\n",
       "      <td>12330.000000</td>\n",
       "      <td>12330.000000</td>\n",
       "      <td>12330.000000</td>\n",
       "      <td>12330.000000</td>\n",
       "      <td>12330.000000</td>\n",
       "      <td>12330.000000</td>\n",
       "      <td>12330.000000</td>\n",
       "      <td>12330.000000</td>\n",
       "    </tr>\n",
       "    <tr>\n",
       "      <th>mean</th>\n",
       "      <td>2.315166</td>\n",
       "      <td>80.818611</td>\n",
       "      <td>0.503569</td>\n",
       "      <td>34.472398</td>\n",
       "      <td>31.731468</td>\n",
       "      <td>1194.746220</td>\n",
       "      <td>0.022191</td>\n",
       "      <td>0.043073</td>\n",
       "      <td>5.889258</td>\n",
       "      <td>0.061427</td>\n",
       "      <td>2.124006</td>\n",
       "      <td>2.357097</td>\n",
       "      <td>3.147364</td>\n",
       "      <td>4.069586</td>\n",
       "    </tr>\n",
       "    <tr>\n",
       "      <th>std</th>\n",
       "      <td>3.321784</td>\n",
       "      <td>176.779107</td>\n",
       "      <td>1.270156</td>\n",
       "      <td>140.749294</td>\n",
       "      <td>44.475503</td>\n",
       "      <td>1913.669288</td>\n",
       "      <td>0.048488</td>\n",
       "      <td>0.048597</td>\n",
       "      <td>18.568437</td>\n",
       "      <td>0.198917</td>\n",
       "      <td>0.911325</td>\n",
       "      <td>1.717277</td>\n",
       "      <td>2.401591</td>\n",
       "      <td>4.025169</td>\n",
       "    </tr>\n",
       "    <tr>\n",
       "      <th>min</th>\n",
       "      <td>0.000000</td>\n",
       "      <td>0.000000</td>\n",
       "      <td>0.000000</td>\n",
       "      <td>0.000000</td>\n",
       "      <td>0.000000</td>\n",
       "      <td>0.000000</td>\n",
       "      <td>0.000000</td>\n",
       "      <td>0.000000</td>\n",
       "      <td>0.000000</td>\n",
       "      <td>0.000000</td>\n",
       "      <td>1.000000</td>\n",
       "      <td>1.000000</td>\n",
       "      <td>1.000000</td>\n",
       "      <td>1.000000</td>\n",
       "    </tr>\n",
       "    <tr>\n",
       "      <th>25%</th>\n",
       "      <td>0.000000</td>\n",
       "      <td>0.000000</td>\n",
       "      <td>0.000000</td>\n",
       "      <td>0.000000</td>\n",
       "      <td>7.000000</td>\n",
       "      <td>184.137500</td>\n",
       "      <td>0.000000</td>\n",
       "      <td>0.014286</td>\n",
       "      <td>0.000000</td>\n",
       "      <td>0.000000</td>\n",
       "      <td>2.000000</td>\n",
       "      <td>2.000000</td>\n",
       "      <td>1.000000</td>\n",
       "      <td>2.000000</td>\n",
       "    </tr>\n",
       "    <tr>\n",
       "      <th>50%</th>\n",
       "      <td>1.000000</td>\n",
       "      <td>7.500000</td>\n",
       "      <td>0.000000</td>\n",
       "      <td>0.000000</td>\n",
       "      <td>18.000000</td>\n",
       "      <td>598.936905</td>\n",
       "      <td>0.003112</td>\n",
       "      <td>0.025156</td>\n",
       "      <td>0.000000</td>\n",
       "      <td>0.000000</td>\n",
       "      <td>2.000000</td>\n",
       "      <td>2.000000</td>\n",
       "      <td>3.000000</td>\n",
       "      <td>2.000000</td>\n",
       "    </tr>\n",
       "    <tr>\n",
       "      <th>75%</th>\n",
       "      <td>4.000000</td>\n",
       "      <td>93.256250</td>\n",
       "      <td>0.000000</td>\n",
       "      <td>0.000000</td>\n",
       "      <td>38.000000</td>\n",
       "      <td>1464.157213</td>\n",
       "      <td>0.016813</td>\n",
       "      <td>0.050000</td>\n",
       "      <td>0.000000</td>\n",
       "      <td>0.000000</td>\n",
       "      <td>3.000000</td>\n",
       "      <td>2.000000</td>\n",
       "      <td>4.000000</td>\n",
       "      <td>4.000000</td>\n",
       "    </tr>\n",
       "    <tr>\n",
       "      <th>max</th>\n",
       "      <td>27.000000</td>\n",
       "      <td>3398.750000</td>\n",
       "      <td>24.000000</td>\n",
       "      <td>2549.375000</td>\n",
       "      <td>705.000000</td>\n",
       "      <td>63973.522230</td>\n",
       "      <td>0.200000</td>\n",
       "      <td>0.200000</td>\n",
       "      <td>361.763742</td>\n",
       "      <td>1.000000</td>\n",
       "      <td>8.000000</td>\n",
       "      <td>13.000000</td>\n",
       "      <td>9.000000</td>\n",
       "      <td>20.000000</td>\n",
       "    </tr>\n",
       "  </tbody>\n",
       "</table>\n",
       "</div>"
      ],
      "text/plain": [
       "       Administrative  Administrative_Duration  Informational  \\\n",
       "count    12330.000000             12330.000000   12330.000000   \n",
       "mean         2.315166                80.818611       0.503569   \n",
       "std          3.321784               176.779107       1.270156   \n",
       "min          0.000000                 0.000000       0.000000   \n",
       "25%          0.000000                 0.000000       0.000000   \n",
       "50%          1.000000                 7.500000       0.000000   \n",
       "75%          4.000000                93.256250       0.000000   \n",
       "max         27.000000              3398.750000      24.000000   \n",
       "\n",
       "       Informational_Duration  ProductRelated  ProductRelated_Duration  \\\n",
       "count            12330.000000    12330.000000             12330.000000   \n",
       "mean                34.472398       31.731468              1194.746220   \n",
       "std                140.749294       44.475503              1913.669288   \n",
       "min                  0.000000        0.000000                 0.000000   \n",
       "25%                  0.000000        7.000000               184.137500   \n",
       "50%                  0.000000       18.000000               598.936905   \n",
       "75%                  0.000000       38.000000              1464.157213   \n",
       "max               2549.375000      705.000000             63973.522230   \n",
       "\n",
       "        BounceRates     ExitRates    PageValues    SpecialDay  \\\n",
       "count  12330.000000  12330.000000  12330.000000  12330.000000   \n",
       "mean       0.022191      0.043073      5.889258      0.061427   \n",
       "std        0.048488      0.048597     18.568437      0.198917   \n",
       "min        0.000000      0.000000      0.000000      0.000000   \n",
       "25%        0.000000      0.014286      0.000000      0.000000   \n",
       "50%        0.003112      0.025156      0.000000      0.000000   \n",
       "75%        0.016813      0.050000      0.000000      0.000000   \n",
       "max        0.200000      0.200000    361.763742      1.000000   \n",
       "\n",
       "       OperatingSystems       Browser        Region   TrafficType  \n",
       "count      12330.000000  12330.000000  12330.000000  12330.000000  \n",
       "mean           2.124006      2.357097      3.147364      4.069586  \n",
       "std            0.911325      1.717277      2.401591      4.025169  \n",
       "min            1.000000      1.000000      1.000000      1.000000  \n",
       "25%            2.000000      2.000000      1.000000      2.000000  \n",
       "50%            2.000000      2.000000      3.000000      2.000000  \n",
       "75%            3.000000      2.000000      4.000000      4.000000  \n",
       "max            8.000000     13.000000      9.000000     20.000000  "
      ]
     },
     "execution_count": 5,
     "metadata": {},
     "output_type": "execute_result"
    }
   ],
   "source": [
    "df.describe()"
   ]
  },
  {
   "cell_type": "code",
   "execution_count": 6,
   "metadata": {
    "scrolled": true
   },
   "outputs": [
    {
     "data": {
      "text/plain": [
       "Administrative             0\n",
       "Administrative_Duration    0\n",
       "Informational              0\n",
       "Informational_Duration     0\n",
       "ProductRelated             0\n",
       "ProductRelated_Duration    0\n",
       "BounceRates                0\n",
       "ExitRates                  0\n",
       "PageValues                 0\n",
       "SpecialDay                 0\n",
       "Month                      0\n",
       "OperatingSystems           0\n",
       "Browser                    0\n",
       "Region                     0\n",
       "TrafficType                0\n",
       "VisitorType                0\n",
       "Weekend                    0\n",
       "Revenue                    0\n",
       "dtype: int64"
      ]
     },
     "execution_count": 6,
     "metadata": {},
     "output_type": "execute_result"
    }
   ],
   "source": [
    "# check na values\n",
    "df.isna().sum()"
   ]
  },
  {
   "cell_type": "markdown",
   "metadata": {},
   "source": [
    "The dataset is pretty clean and ready for the next steps - let's see how each column is distributed."
   ]
  },
  {
   "cell_type": "code",
   "execution_count": 7,
   "metadata": {},
   "outputs": [
    {
     "name": "stdout",
     "output_type": "stream",
     "text": [
      "Administrative\n"
     ]
    },
    {
     "data": {
      "image/png": "[encoded data removed]",
      "text/plain": [
       "<Figure size 432x288 with 1 Axes>"
      ]
     },
     "metadata": {
      "needs_background": "light"
     },
     "output_type": "display_data"
    },
    {
     "name": "stdout",
     "output_type": "stream",
     "text": [
      "Administrative_Duration\n"
     ]
    },
    {
     "data": {
      "image/png": "[encoded data removed]",
      "text/plain": [
       "<Figure size 432x288 with 1 Axes>"
      ]
     },
     "metadata": {
      "needs_background": "light"
     },
     "output_type": "display_data"
    },
    {
     "name": "stdout",
     "output_type": "stream",
     "text": [
      "Informational\n"
     ]
    },
    {
     "data": {
      "image/png": "[encoded data removed]",
      "text/plain": [
       "<Figure size 432x288 with 1 Axes>"
      ]
     },
     "metadata": {
      "needs_background": "light"
     },
     "output_type": "display_data"
    },
    {
     "name": "stdout",
     "output_type": "stream",
     "text": [
      "Informational_Duration\n"
     ]
    },
    {
     "data": {
      "image/png": "[encoded data removed]",
      "text/plain": [
       "<Figure size 432x288 with 1 Axes>"
      ]
     },
     "metadata": {
      "needs_background": "light"
     },
     "output_type": "display_data"
    },
    {
     "name": "stdout",
     "output_type": "stream",
     "text": [
      "ProductRelated\n"
     ]
    },
    {
     "data": {
      "image/png": "[encoded data removed]",
      "text/plain": [
       "<Figure size 432x288 with 1 Axes>"
      ]
     },
     "metadata": {
      "needs_background": "light"
     },
     "output_type": "display_data"
    },
    {
     "name": "stdout",
     "output_type": "stream",
     "text": [
      "ProductRelated_Duration\n"
     ]
    },
    {
     "data": {
      "image/png": "[encoded data removed]",
      "text/plain": [
       "<Figure size 432x288 with 1 Axes>"
      ]
     },
     "metadata": {
      "needs_background": "light"
     },
     "output_type": "display_data"
    },
    {
     "name": "stdout",
     "output_type": "stream",
     "text": [
      "BounceRates\n"
     ]
    },
    {
     "data": {
      "image/png": "[encoded data removed]",
      "text/plain": [
       "<Figure size 432x288 with 1 Axes>"
      ]
     },
     "metadata": {
      "needs_background": "light"
     },
     "output_type": "display_data"
    },
    {
     "name": "stdout",
     "output_type": "stream",
     "text": [
      "ExitRates\n"
     ]
    },
    {
     "data": {
      "image/png": "[encoded data removed]",
      "text/plain": [
       "<Figure size 432x288 with 1 Axes>"
      ]
     },
     "metadata": {
      "needs_background": "light"
     },
     "output_type": "display_data"
    },
    {
     "name": "stdout",
     "output_type": "stream",
     "text": [
      "PageValues\n"
     ]
    },
    {
     "data": {
      "image/png": "[encoded data removed]",
      "text/plain": [
       "<Figure size 432x288 with 1 Axes>"
      ]
     },
     "metadata": {
      "needs_background": "light"
     },
     "output_type": "display_data"
    },
    {
     "name": "stdout",
     "output_type": "stream",
     "text": [
      "SpecialDay\n"
     ]
    },
    {
     "data": {
      "image/png": "[encoded data removed]",
      "text/plain": [
       "<Figure size 432x288 with 1 Axes>"
      ]
     },
     "metadata": {
      "needs_background": "light"
     },
     "output_type": "display_data"
    },
    {
     "name": "stdout",
     "output_type": "stream",
     "text": [
      "Month\n",
      "May     3364\n",
      "Nov     2998\n",
      "Mar     1907\n",
      "Dec     1727\n",
      "Oct      549\n",
      "Sep      448\n",
      "Aug      433\n",
      "Jul      432\n",
      "June     288\n",
      "Feb      184\n",
      "Name: Month, dtype: int64\n"
     ]
    },
    {
     "data": {
      "image/png": "[encoded data removed]",
      "text/plain": [
       "<Figure size 432x288 with 1 Axes>"
      ]
     },
     "metadata": {
      "needs_background": "light"
     },
     "output_type": "display_data"
    },
    {
     "name": "stdout",
     "output_type": "stream",
     "text": [
      "OperatingSystems\n",
      "2    6601\n",
      "1    2585\n",
      "3    2555\n",
      "4     478\n",
      "8      79\n",
      "6      19\n",
      "7       7\n",
      "5       6\n",
      "Name: OperatingSystems, dtype: int64\n"
     ]
    },
    {
     "data": {
      "image/png": "[encoded data removed]",
      "text/plain": [
       "<Figure size 432x288 with 1 Axes>"
      ]
     },
     "metadata": {
      "needs_background": "light"
     },
     "output_type": "display_data"
    },
    {
     "name": "stdout",
     "output_type": "stream",
     "text": [
      "Browser\n",
      "2     7961\n",
      "1     2462\n",
      "4      736\n",
      "5      467\n",
      "6      174\n",
      "10     163\n",
      "8      135\n",
      "3      105\n",
      "13      61\n",
      "7       49\n",
      "12      10\n",
      "11       6\n",
      "9        1\n",
      "Name: Browser, dtype: int64\n"
     ]
    },
    {
     "data": {
      "image/png": "[encoded data removed]",
      "text/plain": [
       "<Figure size 432x288 with 1 Axes>"
      ]
     },
     "metadata": {
      "needs_background": "light"
     },
     "output_type": "display_data"
    },
    {
     "name": "stdout",
     "output_type": "stream",
     "text": [
      "Region\n",
      "1    4780\n",
      "3    2403\n",
      "4    1182\n",
      "2    1136\n",
      "6     805\n",
      "7     761\n",
      "9     511\n",
      "8     434\n",
      "5     318\n",
      "Name: Region, dtype: int64\n"
     ]
    },
    {
     "data": {
      "image/png": "[encoded data removed]",
      "text/plain": [
       "<Figure size 432x288 with 1 Axes>"
      ]
     },
     "metadata": {
      "needs_background": "light"
     },
     "output_type": "display_data"
    },
    {
     "name": "stdout",
     "output_type": "stream",
     "text": [
      "TrafficType\n",
      "2     3913\n",
      "1     2451\n",
      "3     2052\n",
      "4     1069\n",
      "13     738\n",
      "10     450\n",
      "6      444\n",
      "8      343\n",
      "5      260\n",
      "11     247\n",
      "20     198\n",
      "9       42\n",
      "7       40\n",
      "15      38\n",
      "19      17\n",
      "14      13\n",
      "18      10\n",
      "16       3\n",
      "12       1\n",
      "17       1\n",
      "Name: TrafficType, dtype: int64\n"
     ]
    },
    {
     "data": {
      "image/png": "[encoded data removed]",
      "text/plain": [
       "<Figure size 432x288 with 1 Axes>"
      ]
     },
     "metadata": {
      "needs_background": "light"
     },
     "output_type": "display_data"
    },
    {
     "name": "stdout",
     "output_type": "stream",
     "text": [
      "VisitorType\n",
      "Returning_Visitor    10551\n",
      "New_Visitor           1694\n",
      "Other                   85\n",
      "Name: VisitorType, dtype: int64\n"
     ]
    },
    {
     "data": {
      "image/png": "[encoded data removed]",
      "text/plain": [
       "<Figure size 432x288 with 1 Axes>"
      ]
     },
     "metadata": {
      "needs_background": "light"
     },
     "output_type": "display_data"
    },
    {
     "name": "stdout",
     "output_type": "stream",
     "text": [
      "Weekend\n",
      "False    9462\n",
      "True     2868\n",
      "Name: Weekend, dtype: int64\n"
     ]
    },
    {
     "data": {
      "image/png": "[encoded data removed]",
      "text/plain": [
       "<Figure size 432x288 with 1 Axes>"
      ]
     },
     "metadata": {
      "needs_background": "light"
     },
     "output_type": "display_data"
    },
    {
     "name": "stdout",
     "output_type": "stream",
     "text": [
      "Revenue\n",
      "False    10422\n",
      "True      1908\n",
      "Name: Revenue, dtype: int64\n"
     ]
    },
    {
     "data": {
      "image/png": "[encoded data removed]",
      "text/plain": [
       "<Figure size 432x288 with 1 Axes>"
      ]
     },
     "metadata": {
      "needs_background": "light"
     },
     "output_type": "display_data"
    }
   ],
   "source": [
    "# type casting - bar charts for categorical columns, boxplots for numeric\n",
    "cat_col = df.columns[10:16]\n",
    "num_col = df.columns[0:10]\n",
    "bin_col = df.columns[16:18]\n",
    "for i in num_col:\n",
    "    print (i)\n",
    "    plt.boxplot(df[i])\n",
    "    plt.show()\n",
    "for i in cat_col:\n",
    "    df[i] = df[i].astype(\"category\")\n",
    "    print (i)\n",
    "    print (df[i].value_counts())\n",
    "    df[i].value_counts().plot.bar()\n",
    "    plt.show()\n",
    "for i in bin_col:\n",
    "    print (i)\n",
    "    print (df[i].value_counts())\n",
    "    df[i].value_counts().plot.bar()\n",
    "    plt.show()\n"
   ]
  },
  {
   "cell_type": "markdown",
   "metadata": {},
   "source": [
    "intersting findings: \n",
    "1. We see outliers existed in most numerical columns, especially those about page durations. It's unlikely that a person will have a session longer than hours, so we need to handle this outliers later.\n",
    "2. For most categorical variables, there're some main groups, and a small number of data spreaded out in other groups. To avoid a sparse dataset after one hot encoding, we can group the small categories into one.\n",
    "3. The positive class is about 15%. We may need to avoid using accuracy as an evaluation metrics, over-sample the minority class or do something else to handle the class imblance issue."
   ]
  },
  {
   "cell_type": "code",
   "execution_count": 180,
   "metadata": {},
   "outputs": [
    {
     "data": {
      "text/plain": [
       "<matplotlib.axes._subplots.AxesSubplot at 0x1a30815a90>"
      ]
     },
     "execution_count": 180,
     "metadata": {},
     "output_type": "execute_result"
    },
    {
     "data": {
      "image/png": "[encoded data removed]",
      "text/plain": [
       "<Figure size 576x576 with 2 Axes>"
      ]
     },
     "metadata": {
      "needs_background": "light"
     },
     "output_type": "display_data"
    }
   ],
   "source": [
    "# check correlation\n",
    "plt.figure(figsize=(8,8))\n",
    "# Generate a mask for the upper triangle\n",
    "mask = np.zeros_like(df.corr(), dtype=np.bool)\n",
    "mask[np.triu_indices_from(mask)] = True\n",
    "sns.heatmap(df.corr(),mask = mask)"
   ]
  },
  {
   "cell_type": "code",
   "execution_count": 9,
   "metadata": {},
   "outputs": [
    {
     "data": {
      "text/plain": [
       "Administrative             0.138917\n",
       "Administrative_Duration    0.093587\n",
       "Informational              0.095200\n",
       "Informational_Duration     0.070345\n",
       "ProductRelated             0.158538\n",
       "ProductRelated_Duration    0.152373\n",
       "BounceRates               -0.150673\n",
       "ExitRates                 -0.207071\n",
       "PageValues                 0.492569\n",
       "SpecialDay                -0.082305\n",
       "Weekend                    0.029295\n",
       "Revenue                    1.000000\n",
       "Name: Revenue, dtype: float64"
      ]
     },
     "execution_count": 9,
     "metadata": {},
     "output_type": "execute_result"
    }
   ],
   "source": [
    "df.corr()['Revenue']"
   ]
  },
  {
   "cell_type": "markdown",
   "metadata": {},
   "source": [
    "We can see the correlation as a bivariate analysis. The heatmap shows us:\n",
    "\n",
    "1. the visited page types are correlated with the respective duration. The 3 sets of variables are all correlated among them. \n",
    "2. PageValues is the most positively correlated to the lable, Revenue. Bounce rate and Exit rate are the most negatively correlated factors.\n",
    "\n",
    "It doesn't show us the impact of the categoical features, or how all the features interact with each other."
   ]
  },
  {
   "cell_type": "markdown",
   "metadata": {},
   "source": [
    "# 2. Modelling\n",
    "\n",
    "## 2.1 outliers"
   ]
  },
  {
   "cell_type": "code",
   "execution_count": 10,
   "metadata": {},
   "outputs": [],
   "source": [
    "new_df = df.copy()\n",
    "# assign outliers to new values - q3+1.5*iqr\n",
    "for i in [\"Administrative\",\"Administrative_Duration\",\"ProductRelated\",\"ProductRelated_Duration\"]:\n",
    "    cap = df[i].quantile(0.75)+(df[i].quantile(0.75)-df[i].quantile(0.25))\n",
    "    new_df[i]=new_df[i].apply(lambda x: min(x, cap))\n",
    "# for information and its duration, the iqr is rather small, so we can set the cap according to the visualization\n",
    "new_df[\"Informational\"] = new_df[\"Informational\"].apply(lambda x: min(x, 20))\n",
    "new_df[\"Informational_Duration\"] = new_df[\"Informational_Duration\"].apply(lambda x: min(x, 2000))\n"
   ]
  },
  {
   "cell_type": "markdown",
   "metadata": {},
   "source": [
    "## 2.2  add new features"
   ]
  },
  {
   "cell_type": "code",
   "execution_count": 11,
   "metadata": {},
   "outputs": [],
   "source": [
    "new_df[\"total_pages\"] = new_df[\"Administrative\"]+ new_df[\"ProductRelated\"] + new_df[\"Informational\"]\n",
    "new_df[\"total_duration\"] = new_df[\"Administrative_Duration\"]+ new_df[\"ProductRelated_Duration\"] + new_df[\"Informational_Duration\"]"
   ]
  },
  {
   "cell_type": "code",
   "execution_count": 12,
   "metadata": {},
   "outputs": [],
   "source": [
    "new_df[\"SpecialOrNot\"] = np.where(new_df[\"SpecialDay\"]>0,1,0)"
   ]
  },
  {
   "cell_type": "code",
   "execution_count": 13,
   "metadata": {},
   "outputs": [
    {
     "data": {
      "text/html": [
       "<div>\n",
       "<style scoped>\n",
       "    .dataframe tbody tr th:only-of-type {\n",
       "        vertical-align: middle;\n",
       "    }\n",
       "\n",
       "    .dataframe tbody tr th {\n",
       "        vertical-align: top;\n",
       "    }\n",
       "\n",
       "    .dataframe thead th {\n",
       "        text-align: right;\n",
       "    }\n",
       "</style>\n",
       "<table border=\"1\" class=\"dataframe\">\n",
       "  <thead>\n",
       "    <tr style=\"text-align: right;\">\n",
       "      <th></th>\n",
       "      <th>Administrative</th>\n",
       "      <th>Administrative_Duration</th>\n",
       "      <th>Informational</th>\n",
       "      <th>Informational_Duration</th>\n",
       "      <th>ProductRelated</th>\n",
       "      <th>ProductRelated_Duration</th>\n",
       "      <th>BounceRates</th>\n",
       "      <th>ExitRates</th>\n",
       "      <th>PageValues</th>\n",
       "      <th>SpecialDay</th>\n",
       "      <th>...</th>\n",
       "      <th>OperatingSystems</th>\n",
       "      <th>Browser</th>\n",
       "      <th>Region</th>\n",
       "      <th>TrafficType</th>\n",
       "      <th>VisitorType</th>\n",
       "      <th>Weekend</th>\n",
       "      <th>Revenue</th>\n",
       "      <th>total_pages</th>\n",
       "      <th>total_duration</th>\n",
       "      <th>SpecialOrNot</th>\n",
       "    </tr>\n",
       "  </thead>\n",
       "  <tbody>\n",
       "    <tr>\n",
       "      <th>0</th>\n",
       "      <td>0.0</td>\n",
       "      <td>0.0</td>\n",
       "      <td>0</td>\n",
       "      <td>0.0</td>\n",
       "      <td>1.0</td>\n",
       "      <td>0.000000</td>\n",
       "      <td>0.200000</td>\n",
       "      <td>0.200000</td>\n",
       "      <td>0.0</td>\n",
       "      <td>0.0</td>\n",
       "      <td>...</td>\n",
       "      <td>1</td>\n",
       "      <td>1</td>\n",
       "      <td>1</td>\n",
       "      <td>1</td>\n",
       "      <td>Returning_Visitor</td>\n",
       "      <td>False</td>\n",
       "      <td>False</td>\n",
       "      <td>1.0</td>\n",
       "      <td>0.000000</td>\n",
       "      <td>0</td>\n",
       "    </tr>\n",
       "    <tr>\n",
       "      <th>1</th>\n",
       "      <td>0.0</td>\n",
       "      <td>0.0</td>\n",
       "      <td>0</td>\n",
       "      <td>0.0</td>\n",
       "      <td>2.0</td>\n",
       "      <td>64.000000</td>\n",
       "      <td>0.000000</td>\n",
       "      <td>0.100000</td>\n",
       "      <td>0.0</td>\n",
       "      <td>0.0</td>\n",
       "      <td>...</td>\n",
       "      <td>2</td>\n",
       "      <td>2</td>\n",
       "      <td>1</td>\n",
       "      <td>2</td>\n",
       "      <td>Returning_Visitor</td>\n",
       "      <td>False</td>\n",
       "      <td>False</td>\n",
       "      <td>2.0</td>\n",
       "      <td>64.000000</td>\n",
       "      <td>0</td>\n",
       "    </tr>\n",
       "    <tr>\n",
       "      <th>2</th>\n",
       "      <td>0.0</td>\n",
       "      <td>0.0</td>\n",
       "      <td>0</td>\n",
       "      <td>0.0</td>\n",
       "      <td>1.0</td>\n",
       "      <td>0.000000</td>\n",
       "      <td>0.200000</td>\n",
       "      <td>0.200000</td>\n",
       "      <td>0.0</td>\n",
       "      <td>0.0</td>\n",
       "      <td>...</td>\n",
       "      <td>4</td>\n",
       "      <td>1</td>\n",
       "      <td>9</td>\n",
       "      <td>3</td>\n",
       "      <td>Returning_Visitor</td>\n",
       "      <td>False</td>\n",
       "      <td>False</td>\n",
       "      <td>1.0</td>\n",
       "      <td>0.000000</td>\n",
       "      <td>0</td>\n",
       "    </tr>\n",
       "    <tr>\n",
       "      <th>3</th>\n",
       "      <td>0.0</td>\n",
       "      <td>0.0</td>\n",
       "      <td>0</td>\n",
       "      <td>0.0</td>\n",
       "      <td>2.0</td>\n",
       "      <td>2.666667</td>\n",
       "      <td>0.050000</td>\n",
       "      <td>0.140000</td>\n",
       "      <td>0.0</td>\n",
       "      <td>0.0</td>\n",
       "      <td>...</td>\n",
       "      <td>3</td>\n",
       "      <td>2</td>\n",
       "      <td>2</td>\n",
       "      <td>4</td>\n",
       "      <td>Returning_Visitor</td>\n",
       "      <td>False</td>\n",
       "      <td>False</td>\n",
       "      <td>2.0</td>\n",
       "      <td>2.666667</td>\n",
       "      <td>0</td>\n",
       "    </tr>\n",
       "    <tr>\n",
       "      <th>4</th>\n",
       "      <td>0.0</td>\n",
       "      <td>0.0</td>\n",
       "      <td>0</td>\n",
       "      <td>0.0</td>\n",
       "      <td>10.0</td>\n",
       "      <td>627.500000</td>\n",
       "      <td>0.020000</td>\n",
       "      <td>0.050000</td>\n",
       "      <td>0.0</td>\n",
       "      <td>0.0</td>\n",
       "      <td>...</td>\n",
       "      <td>3</td>\n",
       "      <td>3</td>\n",
       "      <td>1</td>\n",
       "      <td>4</td>\n",
       "      <td>Returning_Visitor</td>\n",
       "      <td>True</td>\n",
       "      <td>False</td>\n",
       "      <td>10.0</td>\n",
       "      <td>627.500000</td>\n",
       "      <td>0</td>\n",
       "    </tr>\n",
       "    <tr>\n",
       "      <th>5</th>\n",
       "      <td>0.0</td>\n",
       "      <td>0.0</td>\n",
       "      <td>0</td>\n",
       "      <td>0.0</td>\n",
       "      <td>19.0</td>\n",
       "      <td>154.216667</td>\n",
       "      <td>0.015789</td>\n",
       "      <td>0.024561</td>\n",
       "      <td>0.0</td>\n",
       "      <td>0.0</td>\n",
       "      <td>...</td>\n",
       "      <td>2</td>\n",
       "      <td>2</td>\n",
       "      <td>1</td>\n",
       "      <td>3</td>\n",
       "      <td>Returning_Visitor</td>\n",
       "      <td>False</td>\n",
       "      <td>False</td>\n",
       "      <td>19.0</td>\n",
       "      <td>154.216667</td>\n",
       "      <td>0</td>\n",
       "    </tr>\n",
       "    <tr>\n",
       "      <th>6</th>\n",
       "      <td>0.0</td>\n",
       "      <td>0.0</td>\n",
       "      <td>0</td>\n",
       "      <td>0.0</td>\n",
       "      <td>1.0</td>\n",
       "      <td>0.000000</td>\n",
       "      <td>0.200000</td>\n",
       "      <td>0.200000</td>\n",
       "      <td>0.0</td>\n",
       "      <td>0.4</td>\n",
       "      <td>...</td>\n",
       "      <td>2</td>\n",
       "      <td>4</td>\n",
       "      <td>3</td>\n",
       "      <td>3</td>\n",
       "      <td>Returning_Visitor</td>\n",
       "      <td>False</td>\n",
       "      <td>False</td>\n",
       "      <td>1.0</td>\n",
       "      <td>0.000000</td>\n",
       "      <td>1</td>\n",
       "    </tr>\n",
       "    <tr>\n",
       "      <th>7</th>\n",
       "      <td>1.0</td>\n",
       "      <td>0.0</td>\n",
       "      <td>0</td>\n",
       "      <td>0.0</td>\n",
       "      <td>0.0</td>\n",
       "      <td>0.000000</td>\n",
       "      <td>0.200000</td>\n",
       "      <td>0.200000</td>\n",
       "      <td>0.0</td>\n",
       "      <td>0.0</td>\n",
       "      <td>...</td>\n",
       "      <td>1</td>\n",
       "      <td>2</td>\n",
       "      <td>1</td>\n",
       "      <td>5</td>\n",
       "      <td>Returning_Visitor</td>\n",
       "      <td>True</td>\n",
       "      <td>False</td>\n",
       "      <td>1.0</td>\n",
       "      <td>0.000000</td>\n",
       "      <td>0</td>\n",
       "    </tr>\n",
       "    <tr>\n",
       "      <th>8</th>\n",
       "      <td>0.0</td>\n",
       "      <td>0.0</td>\n",
       "      <td>0</td>\n",
       "      <td>0.0</td>\n",
       "      <td>2.0</td>\n",
       "      <td>37.000000</td>\n",
       "      <td>0.000000</td>\n",
       "      <td>0.100000</td>\n",
       "      <td>0.0</td>\n",
       "      <td>0.8</td>\n",
       "      <td>...</td>\n",
       "      <td>2</td>\n",
       "      <td>2</td>\n",
       "      <td>2</td>\n",
       "      <td>3</td>\n",
       "      <td>Returning_Visitor</td>\n",
       "      <td>False</td>\n",
       "      <td>False</td>\n",
       "      <td>2.0</td>\n",
       "      <td>37.000000</td>\n",
       "      <td>1</td>\n",
       "    </tr>\n",
       "    <tr>\n",
       "      <th>9</th>\n",
       "      <td>0.0</td>\n",
       "      <td>0.0</td>\n",
       "      <td>0</td>\n",
       "      <td>0.0</td>\n",
       "      <td>3.0</td>\n",
       "      <td>738.000000</td>\n",
       "      <td>0.000000</td>\n",
       "      <td>0.022222</td>\n",
       "      <td>0.0</td>\n",
       "      <td>0.4</td>\n",
       "      <td>...</td>\n",
       "      <td>2</td>\n",
       "      <td>4</td>\n",
       "      <td>1</td>\n",
       "      <td>2</td>\n",
       "      <td>Returning_Visitor</td>\n",
       "      <td>False</td>\n",
       "      <td>False</td>\n",
       "      <td>3.0</td>\n",
       "      <td>738.000000</td>\n",
       "      <td>1</td>\n",
       "    </tr>\n",
       "  </tbody>\n",
       "</table>\n",
       "<p>10 rows × 21 columns</p>\n",
       "</div>"
      ],
      "text/plain": [
       "   Administrative  Administrative_Duration  Informational  \\\n",
       "0             0.0                      0.0              0   \n",
       "1             0.0                      0.0              0   \n",
       "2             0.0                      0.0              0   \n",
       "3             0.0                      0.0              0   \n",
       "4             0.0                      0.0              0   \n",
       "5             0.0                      0.0              0   \n",
       "6             0.0                      0.0              0   \n",
       "7             1.0                      0.0              0   \n",
       "8             0.0                      0.0              0   \n",
       "9             0.0                      0.0              0   \n",
       "\n",
       "   Informational_Duration  ProductRelated  ProductRelated_Duration  \\\n",
       "0                     0.0             1.0                 0.000000   \n",
       "1                     0.0             2.0                64.000000   \n",
       "2                     0.0             1.0                 0.000000   \n",
       "3                     0.0             2.0                 2.666667   \n",
       "4                     0.0            10.0               627.500000   \n",
       "5                     0.0            19.0               154.216667   \n",
       "6                     0.0             1.0                 0.000000   \n",
       "7                     0.0             0.0                 0.000000   \n",
       "8                     0.0             2.0                37.000000   \n",
       "9                     0.0             3.0               738.000000   \n",
       "\n",
       "   BounceRates  ExitRates  PageValues  SpecialDay  ... OperatingSystems  \\\n",
       "0     0.200000   0.200000         0.0         0.0  ...                1   \n",
       "1     0.000000   0.100000         0.0         0.0  ...                2   \n",
       "2     0.200000   0.200000         0.0         0.0  ...                4   \n",
       "3     0.050000   0.140000         0.0         0.0  ...                3   \n",
       "4     0.020000   0.050000         0.0         0.0  ...                3   \n",
       "5     0.015789   0.024561         0.0         0.0  ...                2   \n",
       "6     0.200000   0.200000         0.0         0.4  ...                2   \n",
       "7     0.200000   0.200000         0.0         0.0  ...                1   \n",
       "8     0.000000   0.100000         0.0         0.8  ...                2   \n",
       "9     0.000000   0.022222         0.0         0.4  ...                2   \n",
       "\n",
       "  Browser Region TrafficType        VisitorType Weekend  Revenue  total_pages  \\\n",
       "0       1      1           1  Returning_Visitor   False    False          1.0   \n",
       "1       2      1           2  Returning_Visitor   False    False          2.0   \n",
       "2       1      9           3  Returning_Visitor   False    False          1.0   \n",
       "3       2      2           4  Returning_Visitor   False    False          2.0   \n",
       "4       3      1           4  Returning_Visitor    True    False         10.0   \n",
       "5       2      1           3  Returning_Visitor   False    False         19.0   \n",
       "6       4      3           3  Returning_Visitor   False    False          1.0   \n",
       "7       2      1           5  Returning_Visitor    True    False          1.0   \n",
       "8       2      2           3  Returning_Visitor   False    False          2.0   \n",
       "9       4      1           2  Returning_Visitor   False    False          3.0   \n",
       "\n",
       "   total_duration  SpecialOrNot  \n",
       "0        0.000000             0  \n",
       "1       64.000000             0  \n",
       "2        0.000000             0  \n",
       "3        2.666667             0  \n",
       "4      627.500000             0  \n",
       "5      154.216667             0  \n",
       "6        0.000000             1  \n",
       "7        0.000000             0  \n",
       "8       37.000000             1  \n",
       "9      738.000000             1  \n",
       "\n",
       "[10 rows x 21 columns]"
      ]
     },
     "execution_count": 13,
     "metadata": {},
     "output_type": "execute_result"
    }
   ],
   "source": [
    "new_df.head(10)"
   ]
  },
  {
   "cell_type": "markdown",
   "metadata": {},
   "source": [
    "## 2.3 grouping values in the categorical features\n",
    "This reduces columns from 80 to about 50,and saves up computing resources and avoids possible noises in the corner cases. "
   ]
  },
  {
   "cell_type": "code",
   "execution_count": 14,
   "metadata": {},
   "outputs": [],
   "source": [
    "operating_systems_main_groups = list(new_df[\"OperatingSystems\"].value_counts()[:5].index)\n",
    "browser_main_groups = list(new_df[\"Browser\"].value_counts()[:5].index)\n",
    "region_main_groups = list(new_df[\"Region\"].value_counts()[:5].index)\n",
    "traffic_main_groups = list(new_df[\"TrafficType\"].value_counts()[:5].index)"
   ]
  },
  {
   "cell_type": "code",
   "execution_count": 15,
   "metadata": {},
   "outputs": [],
   "source": [
    "def group(x, lst):\n",
    "    if x not in lst:\n",
    "        return \"Other\"\n",
    "    return x"
   ]
  },
  {
   "cell_type": "code",
   "execution_count": 16,
   "metadata": {},
   "outputs": [],
   "source": [
    "new_df[\"OperatingSystems\"] = new_df[\"OperatingSystems\"].apply(lambda x:group(x,operating_systems_main_groups))\n",
    "new_df[\"Browser\"] = new_df[\"Browser\"].apply(lambda x:group(x,browser_main_groups))\n",
    "new_df[\"Region\"] = new_df[\"Region\"].apply(lambda x:group(x,region_main_groups))\n",
    "new_df[\"TrafficType\"] = new_df[\"TrafficType\"].apply(lambda x:group(x,traffic_main_groups))\n"
   ]
  },
  {
   "cell_type": "code",
   "execution_count": 17,
   "metadata": {},
   "outputs": [
    {
     "data": {
      "text/html": [
       "<div>\n",
       "<style scoped>\n",
       "    .dataframe tbody tr th:only-of-type {\n",
       "        vertical-align: middle;\n",
       "    }\n",
       "\n",
       "    .dataframe tbody tr th {\n",
       "        vertical-align: top;\n",
       "    }\n",
       "\n",
       "    .dataframe thead th {\n",
       "        text-align: right;\n",
       "    }\n",
       "</style>\n",
       "<table border=\"1\" class=\"dataframe\">\n",
       "  <thead>\n",
       "    <tr style=\"text-align: right;\">\n",
       "      <th></th>\n",
       "      <th>Administrative</th>\n",
       "      <th>Administrative_Duration</th>\n",
       "      <th>Informational</th>\n",
       "      <th>Informational_Duration</th>\n",
       "      <th>ProductRelated</th>\n",
       "      <th>ProductRelated_Duration</th>\n",
       "      <th>BounceRates</th>\n",
       "      <th>ExitRates</th>\n",
       "      <th>PageValues</th>\n",
       "      <th>SpecialDay</th>\n",
       "      <th>...</th>\n",
       "      <th>OperatingSystems</th>\n",
       "      <th>Browser</th>\n",
       "      <th>Region</th>\n",
       "      <th>TrafficType</th>\n",
       "      <th>VisitorType</th>\n",
       "      <th>Weekend</th>\n",
       "      <th>Revenue</th>\n",
       "      <th>total_pages</th>\n",
       "      <th>total_duration</th>\n",
       "      <th>SpecialOrNot</th>\n",
       "    </tr>\n",
       "  </thead>\n",
       "  <tbody>\n",
       "    <tr>\n",
       "      <th>0</th>\n",
       "      <td>0.0</td>\n",
       "      <td>0.0</td>\n",
       "      <td>0</td>\n",
       "      <td>0.0</td>\n",
       "      <td>1.0</td>\n",
       "      <td>0.000000</td>\n",
       "      <td>0.20</td>\n",
       "      <td>0.20</td>\n",
       "      <td>0.0</td>\n",
       "      <td>0.0</td>\n",
       "      <td>...</td>\n",
       "      <td>1</td>\n",
       "      <td>1</td>\n",
       "      <td>1</td>\n",
       "      <td>1</td>\n",
       "      <td>Returning_Visitor</td>\n",
       "      <td>False</td>\n",
       "      <td>False</td>\n",
       "      <td>1.0</td>\n",
       "      <td>0.000000</td>\n",
       "      <td>0</td>\n",
       "    </tr>\n",
       "    <tr>\n",
       "      <th>1</th>\n",
       "      <td>0.0</td>\n",
       "      <td>0.0</td>\n",
       "      <td>0</td>\n",
       "      <td>0.0</td>\n",
       "      <td>2.0</td>\n",
       "      <td>64.000000</td>\n",
       "      <td>0.00</td>\n",
       "      <td>0.10</td>\n",
       "      <td>0.0</td>\n",
       "      <td>0.0</td>\n",
       "      <td>...</td>\n",
       "      <td>2</td>\n",
       "      <td>2</td>\n",
       "      <td>1</td>\n",
       "      <td>2</td>\n",
       "      <td>Returning_Visitor</td>\n",
       "      <td>False</td>\n",
       "      <td>False</td>\n",
       "      <td>2.0</td>\n",
       "      <td>64.000000</td>\n",
       "      <td>0</td>\n",
       "    </tr>\n",
       "    <tr>\n",
       "      <th>2</th>\n",
       "      <td>0.0</td>\n",
       "      <td>0.0</td>\n",
       "      <td>0</td>\n",
       "      <td>0.0</td>\n",
       "      <td>1.0</td>\n",
       "      <td>0.000000</td>\n",
       "      <td>0.20</td>\n",
       "      <td>0.20</td>\n",
       "      <td>0.0</td>\n",
       "      <td>0.0</td>\n",
       "      <td>...</td>\n",
       "      <td>4</td>\n",
       "      <td>1</td>\n",
       "      <td>Other</td>\n",
       "      <td>3</td>\n",
       "      <td>Returning_Visitor</td>\n",
       "      <td>False</td>\n",
       "      <td>False</td>\n",
       "      <td>1.0</td>\n",
       "      <td>0.000000</td>\n",
       "      <td>0</td>\n",
       "    </tr>\n",
       "    <tr>\n",
       "      <th>3</th>\n",
       "      <td>0.0</td>\n",
       "      <td>0.0</td>\n",
       "      <td>0</td>\n",
       "      <td>0.0</td>\n",
       "      <td>2.0</td>\n",
       "      <td>2.666667</td>\n",
       "      <td>0.05</td>\n",
       "      <td>0.14</td>\n",
       "      <td>0.0</td>\n",
       "      <td>0.0</td>\n",
       "      <td>...</td>\n",
       "      <td>3</td>\n",
       "      <td>2</td>\n",
       "      <td>2</td>\n",
       "      <td>4</td>\n",
       "      <td>Returning_Visitor</td>\n",
       "      <td>False</td>\n",
       "      <td>False</td>\n",
       "      <td>2.0</td>\n",
       "      <td>2.666667</td>\n",
       "      <td>0</td>\n",
       "    </tr>\n",
       "    <tr>\n",
       "      <th>4</th>\n",
       "      <td>0.0</td>\n",
       "      <td>0.0</td>\n",
       "      <td>0</td>\n",
       "      <td>0.0</td>\n",
       "      <td>10.0</td>\n",
       "      <td>627.500000</td>\n",
       "      <td>0.02</td>\n",
       "      <td>0.05</td>\n",
       "      <td>0.0</td>\n",
       "      <td>0.0</td>\n",
       "      <td>...</td>\n",
       "      <td>3</td>\n",
       "      <td>Other</td>\n",
       "      <td>1</td>\n",
       "      <td>4</td>\n",
       "      <td>Returning_Visitor</td>\n",
       "      <td>True</td>\n",
       "      <td>False</td>\n",
       "      <td>10.0</td>\n",
       "      <td>627.500000</td>\n",
       "      <td>0</td>\n",
       "    </tr>\n",
       "  </tbody>\n",
       "</table>\n",
       "<p>5 rows × 21 columns</p>\n",
       "</div>"
      ],
      "text/plain": [
       "   Administrative  Administrative_Duration  Informational  \\\n",
       "0             0.0                      0.0              0   \n",
       "1             0.0                      0.0              0   \n",
       "2             0.0                      0.0              0   \n",
       "3             0.0                      0.0              0   \n",
       "4             0.0                      0.0              0   \n",
       "\n",
       "   Informational_Duration  ProductRelated  ProductRelated_Duration  \\\n",
       "0                     0.0             1.0                 0.000000   \n",
       "1                     0.0             2.0                64.000000   \n",
       "2                     0.0             1.0                 0.000000   \n",
       "3                     0.0             2.0                 2.666667   \n",
       "4                     0.0            10.0               627.500000   \n",
       "\n",
       "   BounceRates  ExitRates  PageValues  SpecialDay  ... OperatingSystems  \\\n",
       "0         0.20       0.20         0.0         0.0  ...                1   \n",
       "1         0.00       0.10         0.0         0.0  ...                2   \n",
       "2         0.20       0.20         0.0         0.0  ...                4   \n",
       "3         0.05       0.14         0.0         0.0  ...                3   \n",
       "4         0.02       0.05         0.0         0.0  ...                3   \n",
       "\n",
       "  Browser Region TrafficType        VisitorType Weekend  Revenue  total_pages  \\\n",
       "0       1      1           1  Returning_Visitor   False    False          1.0   \n",
       "1       2      1           2  Returning_Visitor   False    False          2.0   \n",
       "2       1  Other           3  Returning_Visitor   False    False          1.0   \n",
       "3       2      2           4  Returning_Visitor   False    False          2.0   \n",
       "4   Other      1           4  Returning_Visitor    True    False         10.0   \n",
       "\n",
       "   total_duration  SpecialOrNot  \n",
       "0        0.000000             0  \n",
       "1       64.000000             0  \n",
       "2        0.000000             0  \n",
       "3        2.666667             0  \n",
       "4      627.500000             0  \n",
       "\n",
       "[5 rows x 21 columns]"
      ]
     },
     "execution_count": 17,
     "metadata": {},
     "output_type": "execute_result"
    }
   ],
   "source": [
    "new_df.head()"
   ]
  },
  {
   "cell_type": "markdown",
   "metadata": {},
   "source": [
    "## 2.4 One Hot Encoding\n",
    "Lable encoder vs One hot encoder"
   ]
  },
  {
   "cell_type": "code",
   "execution_count": 18,
   "metadata": {},
   "outputs": [],
   "source": [
    "# one hot encoding\n",
    "df_ohe = pd.get_dummies(new_df)"
   ]
  },
  {
   "cell_type": "code",
   "execution_count": 19,
   "metadata": {},
   "outputs": [
    {
     "data": {
      "text/plain": [
       "Index(['Administrative', 'Administrative_Duration', 'Informational',\n",
       "       'Informational_Duration', 'ProductRelated', 'ProductRelated_Duration',\n",
       "       'BounceRates', 'ExitRates', 'PageValues', 'SpecialDay', 'Weekend',\n",
       "       'Revenue', 'total_pages', 'total_duration', 'SpecialOrNot', 'Month_Aug',\n",
       "       'Month_Dec', 'Month_Feb', 'Month_Jul', 'Month_June', 'Month_Mar',\n",
       "       'Month_May', 'Month_Nov', 'Month_Oct', 'Month_Sep',\n",
       "       'OperatingSystems_1', 'OperatingSystems_2', 'OperatingSystems_3',\n",
       "       'OperatingSystems_4', 'OperatingSystems_8', 'OperatingSystems_Other',\n",
       "       'Browser_1', 'Browser_2', 'Browser_4', 'Browser_5', 'Browser_6',\n",
       "       'Browser_Other', 'Region_1', 'Region_2', 'Region_3', 'Region_4',\n",
       "       'Region_6', 'Region_Other', 'TrafficType_1', 'TrafficType_2',\n",
       "       'TrafficType_3', 'TrafficType_4', 'TrafficType_13', 'TrafficType_Other',\n",
       "       'VisitorType_New_Visitor', 'VisitorType_Other',\n",
       "       'VisitorType_Returning_Visitor'],\n",
       "      dtype='object')"
      ]
     },
     "execution_count": 19,
     "metadata": {},
     "output_type": "execute_result"
    }
   ],
   "source": [
    "df_ohe.columns"
   ]
  },
  {
   "cell_type": "code",
   "execution_count": 20,
   "metadata": {},
   "outputs": [
    {
     "data": {
      "text/html": [
       "<div>\n",
       "<style scoped>\n",
       "    .dataframe tbody tr th:only-of-type {\n",
       "        vertical-align: middle;\n",
       "    }\n",
       "\n",
       "    .dataframe tbody tr th {\n",
       "        vertical-align: top;\n",
       "    }\n",
       "\n",
       "    .dataframe thead th {\n",
       "        text-align: right;\n",
       "    }\n",
       "</style>\n",
       "<table border=\"1\" class=\"dataframe\">\n",
       "  <thead>\n",
       "    <tr style=\"text-align: right;\">\n",
       "      <th></th>\n",
       "      <th>Administrative</th>\n",
       "      <th>Administrative_Duration</th>\n",
       "      <th>Informational</th>\n",
       "      <th>Informational_Duration</th>\n",
       "      <th>ProductRelated</th>\n",
       "      <th>ProductRelated_Duration</th>\n",
       "      <th>BounceRates</th>\n",
       "      <th>ExitRates</th>\n",
       "      <th>PageValues</th>\n",
       "      <th>SpecialDay</th>\n",
       "      <th>...</th>\n",
       "      <th>Region_Other</th>\n",
       "      <th>TrafficType_1</th>\n",
       "      <th>TrafficType_2</th>\n",
       "      <th>TrafficType_3</th>\n",
       "      <th>TrafficType_4</th>\n",
       "      <th>TrafficType_13</th>\n",
       "      <th>TrafficType_Other</th>\n",
       "      <th>VisitorType_New_Visitor</th>\n",
       "      <th>VisitorType_Other</th>\n",
       "      <th>VisitorType_Returning_Visitor</th>\n",
       "    </tr>\n",
       "  </thead>\n",
       "  <tbody>\n",
       "    <tr>\n",
       "      <th>0</th>\n",
       "      <td>0.0</td>\n",
       "      <td>0.0</td>\n",
       "      <td>0</td>\n",
       "      <td>0.0</td>\n",
       "      <td>1.0</td>\n",
       "      <td>0.000000</td>\n",
       "      <td>0.200000</td>\n",
       "      <td>0.200000</td>\n",
       "      <td>0.0</td>\n",
       "      <td>0.0</td>\n",
       "      <td>...</td>\n",
       "      <td>0</td>\n",
       "      <td>1</td>\n",
       "      <td>0</td>\n",
       "      <td>0</td>\n",
       "      <td>0</td>\n",
       "      <td>0</td>\n",
       "      <td>0</td>\n",
       "      <td>0</td>\n",
       "      <td>0</td>\n",
       "      <td>1</td>\n",
       "    </tr>\n",
       "    <tr>\n",
       "      <th>1</th>\n",
       "      <td>0.0</td>\n",
       "      <td>0.0</td>\n",
       "      <td>0</td>\n",
       "      <td>0.0</td>\n",
       "      <td>2.0</td>\n",
       "      <td>64.000000</td>\n",
       "      <td>0.000000</td>\n",
       "      <td>0.100000</td>\n",
       "      <td>0.0</td>\n",
       "      <td>0.0</td>\n",
       "      <td>...</td>\n",
       "      <td>0</td>\n",
       "      <td>0</td>\n",
       "      <td>1</td>\n",
       "      <td>0</td>\n",
       "      <td>0</td>\n",
       "      <td>0</td>\n",
       "      <td>0</td>\n",
       "      <td>0</td>\n",
       "      <td>0</td>\n",
       "      <td>1</td>\n",
       "    </tr>\n",
       "    <tr>\n",
       "      <th>2</th>\n",
       "      <td>0.0</td>\n",
       "      <td>0.0</td>\n",
       "      <td>0</td>\n",
       "      <td>0.0</td>\n",
       "      <td>1.0</td>\n",
       "      <td>0.000000</td>\n",
       "      <td>0.200000</td>\n",
       "      <td>0.200000</td>\n",
       "      <td>0.0</td>\n",
       "      <td>0.0</td>\n",
       "      <td>...</td>\n",
       "      <td>1</td>\n",
       "      <td>0</td>\n",
       "      <td>0</td>\n",
       "      <td>1</td>\n",
       "      <td>0</td>\n",
       "      <td>0</td>\n",
       "      <td>0</td>\n",
       "      <td>0</td>\n",
       "      <td>0</td>\n",
       "      <td>1</td>\n",
       "    </tr>\n",
       "    <tr>\n",
       "      <th>3</th>\n",
       "      <td>0.0</td>\n",
       "      <td>0.0</td>\n",
       "      <td>0</td>\n",
       "      <td>0.0</td>\n",
       "      <td>2.0</td>\n",
       "      <td>2.666667</td>\n",
       "      <td>0.050000</td>\n",
       "      <td>0.140000</td>\n",
       "      <td>0.0</td>\n",
       "      <td>0.0</td>\n",
       "      <td>...</td>\n",
       "      <td>0</td>\n",
       "      <td>0</td>\n",
       "      <td>0</td>\n",
       "      <td>0</td>\n",
       "      <td>1</td>\n",
       "      <td>0</td>\n",
       "      <td>0</td>\n",
       "      <td>0</td>\n",
       "      <td>0</td>\n",
       "      <td>1</td>\n",
       "    </tr>\n",
       "    <tr>\n",
       "      <th>4</th>\n",
       "      <td>0.0</td>\n",
       "      <td>0.0</td>\n",
       "      <td>0</td>\n",
       "      <td>0.0</td>\n",
       "      <td>10.0</td>\n",
       "      <td>627.500000</td>\n",
       "      <td>0.020000</td>\n",
       "      <td>0.050000</td>\n",
       "      <td>0.0</td>\n",
       "      <td>0.0</td>\n",
       "      <td>...</td>\n",
       "      <td>0</td>\n",
       "      <td>0</td>\n",
       "      <td>0</td>\n",
       "      <td>0</td>\n",
       "      <td>1</td>\n",
       "      <td>0</td>\n",
       "      <td>0</td>\n",
       "      <td>0</td>\n",
       "      <td>0</td>\n",
       "      <td>1</td>\n",
       "    </tr>\n",
       "    <tr>\n",
       "      <th>5</th>\n",
       "      <td>0.0</td>\n",
       "      <td>0.0</td>\n",
       "      <td>0</td>\n",
       "      <td>0.0</td>\n",
       "      <td>19.0</td>\n",
       "      <td>154.216667</td>\n",
       "      <td>0.015789</td>\n",
       "      <td>0.024561</td>\n",
       "      <td>0.0</td>\n",
       "      <td>0.0</td>\n",
       "      <td>...</td>\n",
       "      <td>0</td>\n",
       "      <td>0</td>\n",
       "      <td>0</td>\n",
       "      <td>1</td>\n",
       "      <td>0</td>\n",
       "      <td>0</td>\n",
       "      <td>0</td>\n",
       "      <td>0</td>\n",
       "      <td>0</td>\n",
       "      <td>1</td>\n",
       "    </tr>\n",
       "    <tr>\n",
       "      <th>6</th>\n",
       "      <td>0.0</td>\n",
       "      <td>0.0</td>\n",
       "      <td>0</td>\n",
       "      <td>0.0</td>\n",
       "      <td>1.0</td>\n",
       "      <td>0.000000</td>\n",
       "      <td>0.200000</td>\n",
       "      <td>0.200000</td>\n",
       "      <td>0.0</td>\n",
       "      <td>0.4</td>\n",
       "      <td>...</td>\n",
       "      <td>0</td>\n",
       "      <td>0</td>\n",
       "      <td>0</td>\n",
       "      <td>1</td>\n",
       "      <td>0</td>\n",
       "      <td>0</td>\n",
       "      <td>0</td>\n",
       "      <td>0</td>\n",
       "      <td>0</td>\n",
       "      <td>1</td>\n",
       "    </tr>\n",
       "    <tr>\n",
       "      <th>7</th>\n",
       "      <td>1.0</td>\n",
       "      <td>0.0</td>\n",
       "      <td>0</td>\n",
       "      <td>0.0</td>\n",
       "      <td>0.0</td>\n",
       "      <td>0.000000</td>\n",
       "      <td>0.200000</td>\n",
       "      <td>0.200000</td>\n",
       "      <td>0.0</td>\n",
       "      <td>0.0</td>\n",
       "      <td>...</td>\n",
       "      <td>0</td>\n",
       "      <td>0</td>\n",
       "      <td>0</td>\n",
       "      <td>0</td>\n",
       "      <td>0</td>\n",
       "      <td>0</td>\n",
       "      <td>1</td>\n",
       "      <td>0</td>\n",
       "      <td>0</td>\n",
       "      <td>1</td>\n",
       "    </tr>\n",
       "    <tr>\n",
       "      <th>8</th>\n",
       "      <td>0.0</td>\n",
       "      <td>0.0</td>\n",
       "      <td>0</td>\n",
       "      <td>0.0</td>\n",
       "      <td>2.0</td>\n",
       "      <td>37.000000</td>\n",
       "      <td>0.000000</td>\n",
       "      <td>0.100000</td>\n",
       "      <td>0.0</td>\n",
       "      <td>0.8</td>\n",
       "      <td>...</td>\n",
       "      <td>0</td>\n",
       "      <td>0</td>\n",
       "      <td>0</td>\n",
       "      <td>1</td>\n",
       "      <td>0</td>\n",
       "      <td>0</td>\n",
       "      <td>0</td>\n",
       "      <td>0</td>\n",
       "      <td>0</td>\n",
       "      <td>1</td>\n",
       "    </tr>\n",
       "    <tr>\n",
       "      <th>9</th>\n",
       "      <td>0.0</td>\n",
       "      <td>0.0</td>\n",
       "      <td>0</td>\n",
       "      <td>0.0</td>\n",
       "      <td>3.0</td>\n",
       "      <td>738.000000</td>\n",
       "      <td>0.000000</td>\n",
       "      <td>0.022222</td>\n",
       "      <td>0.0</td>\n",
       "      <td>0.4</td>\n",
       "      <td>...</td>\n",
       "      <td>0</td>\n",
       "      <td>0</td>\n",
       "      <td>1</td>\n",
       "      <td>0</td>\n",
       "      <td>0</td>\n",
       "      <td>0</td>\n",
       "      <td>0</td>\n",
       "      <td>0</td>\n",
       "      <td>0</td>\n",
       "      <td>1</td>\n",
       "    </tr>\n",
       "  </tbody>\n",
       "</table>\n",
       "<p>10 rows × 52 columns</p>\n",
       "</div>"
      ],
      "text/plain": [
       "   Administrative  Administrative_Duration  Informational  \\\n",
       "0             0.0                      0.0              0   \n",
       "1             0.0                      0.0              0   \n",
       "2             0.0                      0.0              0   \n",
       "3             0.0                      0.0              0   \n",
       "4             0.0                      0.0              0   \n",
       "5             0.0                      0.0              0   \n",
       "6             0.0                      0.0              0   \n",
       "7             1.0                      0.0              0   \n",
       "8             0.0                      0.0              0   \n",
       "9             0.0                      0.0              0   \n",
       "\n",
       "   Informational_Duration  ProductRelated  ProductRelated_Duration  \\\n",
       "0                     0.0             1.0                 0.000000   \n",
       "1                     0.0             2.0                64.000000   \n",
       "2                     0.0             1.0                 0.000000   \n",
       "3                     0.0             2.0                 2.666667   \n",
       "4                     0.0            10.0               627.500000   \n",
       "5                     0.0            19.0               154.216667   \n",
       "6                     0.0             1.0                 0.000000   \n",
       "7                     0.0             0.0                 0.000000   \n",
       "8                     0.0             2.0                37.000000   \n",
       "9                     0.0             3.0               738.000000   \n",
       "\n",
       "   BounceRates  ExitRates  PageValues  SpecialDay  ...  Region_Other  \\\n",
       "0     0.200000   0.200000         0.0         0.0  ...             0   \n",
       "1     0.000000   0.100000         0.0         0.0  ...             0   \n",
       "2     0.200000   0.200000         0.0         0.0  ...             1   \n",
       "3     0.050000   0.140000         0.0         0.0  ...             0   \n",
       "4     0.020000   0.050000         0.0         0.0  ...             0   \n",
       "5     0.015789   0.024561         0.0         0.0  ...             0   \n",
       "6     0.200000   0.200000         0.0         0.4  ...             0   \n",
       "7     0.200000   0.200000         0.0         0.0  ...             0   \n",
       "8     0.000000   0.100000         0.0         0.8  ...             0   \n",
       "9     0.000000   0.022222         0.0         0.4  ...             0   \n",
       "\n",
       "   TrafficType_1  TrafficType_2  TrafficType_3  TrafficType_4  TrafficType_13  \\\n",
       "0              1              0              0              0               0   \n",
       "1              0              1              0              0               0   \n",
       "2              0              0              1              0               0   \n",
       "3              0              0              0              1               0   \n",
       "4              0              0              0              1               0   \n",
       "5              0              0              1              0               0   \n",
       "6              0              0              1              0               0   \n",
       "7              0              0              0              0               0   \n",
       "8              0              0              1              0               0   \n",
       "9              0              1              0              0               0   \n",
       "\n",
       "   TrafficType_Other  VisitorType_New_Visitor  VisitorType_Other  \\\n",
       "0                  0                        0                  0   \n",
       "1                  0                        0                  0   \n",
       "2                  0                        0                  0   \n",
       "3                  0                        0                  0   \n",
       "4                  0                        0                  0   \n",
       "5                  0                        0                  0   \n",
       "6                  0                        0                  0   \n",
       "7                  1                        0                  0   \n",
       "8                  0                        0                  0   \n",
       "9                  0                        0                  0   \n",
       "\n",
       "   VisitorType_Returning_Visitor  \n",
       "0                              1  \n",
       "1                              1  \n",
       "2                              1  \n",
       "3                              1  \n",
       "4                              1  \n",
       "5                              1  \n",
       "6                              1  \n",
       "7                              1  \n",
       "8                              1  \n",
       "9                              1  \n",
       "\n",
       "[10 rows x 52 columns]"
      ]
     },
     "execution_count": 20,
     "metadata": {},
     "output_type": "execute_result"
    }
   ],
   "source": [
    "df_ohe.head(10)"
   ]
  },
  {
   "cell_type": "markdown",
   "metadata": {},
   "source": [
    "## 2.5 Feature Selection\n",
    "Remove some features that are highly colinear.\n"
   ]
  },
  {
   "cell_type": "code",
   "execution_count": 21,
   "metadata": {},
   "outputs": [
    {
     "name": "stdout",
     "output_type": "stream",
     "text": [
      "<class 'pandas.core.frame.DataFrame'>\n",
      "RangeIndex: 12330 entries, 0 to 12329\n",
      "Data columns (total 52 columns):\n",
      "Administrative                   12330 non-null float64\n",
      "Administrative_Duration          12330 non-null float64\n",
      "Informational                    12330 non-null float64\n",
      "Informational_Duration           12330 non-null float64\n",
      "ProductRelated                   12330 non-null float64\n",
      "ProductRelated_Duration          12330 non-null float64\n",
      "BounceRates                      12330 non-null float64\n",
      "ExitRates                        12330 non-null float64\n",
      "PageValues                       12330 non-null float64\n",
      "SpecialDay                       12330 non-null float64\n",
      "Weekend                          12330 non-null float64\n",
      "Revenue                          12330 non-null float64\n",
      "total_pages                      12330 non-null float64\n",
      "total_duration                   12330 non-null float64\n",
      "SpecialOrNot                     12330 non-null float64\n",
      "Month_Aug                        12330 non-null float64\n",
      "Month_Dec                        12330 non-null float64\n",
      "Month_Feb                        12330 non-null float64\n",
      "Month_Jul                        12330 non-null float64\n",
      "Month_June                       12330 non-null float64\n",
      "Month_Mar                        12330 non-null float64\n",
      "Month_May                        12330 non-null float64\n",
      "Month_Nov                        12330 non-null float64\n",
      "Month_Oct                        12330 non-null float64\n",
      "Month_Sep                        12330 non-null float64\n",
      "OperatingSystems_1               12330 non-null float64\n",
      "OperatingSystems_2               12330 non-null float64\n",
      "OperatingSystems_3               12330 non-null float64\n",
      "OperatingSystems_4               12330 non-null float64\n",
      "OperatingSystems_8               12330 non-null float64\n",
      "OperatingSystems_Other           12330 non-null float64\n",
      "Browser_1                        12330 non-null float64\n",
      "Browser_2                        12330 non-null float64\n",
      "Browser_4                        12330 non-null float64\n",
      "Browser_5                        12330 non-null float64\n",
      "Browser_6                        12330 non-null float64\n",
      "Browser_Other                    12330 non-null float64\n",
      "Region_1                         12330 non-null float64\n",
      "Region_2                         12330 non-null float64\n",
      "Region_3                         12330 non-null float64\n",
      "Region_4                         12330 non-null float64\n",
      "Region_6                         12330 non-null float64\n",
      "Region_Other                     12330 non-null float64\n",
      "TrafficType_1                    12330 non-null float64\n",
      "TrafficType_2                    12330 non-null float64\n",
      "TrafficType_3                    12330 non-null float64\n",
      "TrafficType_4                    12330 non-null float64\n",
      "TrafficType_13                   12330 non-null float64\n",
      "TrafficType_Other                12330 non-null float64\n",
      "VisitorType_New_Visitor          12330 non-null float64\n",
      "VisitorType_Other                12330 non-null float64\n",
      "VisitorType_Returning_Visitor    12330 non-null float64\n",
      "dtypes: float64(52)\n",
      "memory usage: 4.9 MB\n"
     ]
    }
   ],
   "source": [
    "for i in df_ohe.columns:\n",
    "    df_ohe[i] = df_ohe[i].astype(\"float64\")\n",
    "df_ohe.info()"
   ]
  },
  {
   "cell_type": "code",
   "execution_count": 24,
   "metadata": {},
   "outputs": [
    {
     "name": "stdout",
     "output_type": "stream",
     "text": [
      "[inf, inf, inf, inf, inf, inf, 6.790224458385259, 8.169854749632975, 1.0684559926423662, 6.63077933970925, 1.0647585467762306, inf, inf, 7.071558305887024, inf, inf, inf, inf, inf, inf, inf, inf, inf, inf, inf, inf, inf, inf, inf, inf, inf, inf, inf, inf, inf, inf, inf, inf, inf, inf, inf, inf, inf, inf, inf, inf, inf, inf, inf, inf, inf]\n",
      "dropping 'Administrative' at index: 0\n",
      "[inf, 2.874444700061761, inf, 269.335488570006, inf, 6.790224458385259, 8.169854749632975, 1.0684559926423665, 6.63077933970925, 1.0647585467762302, 296.7258733137268, inf, 7.071558305887018, inf, inf, inf, inf, inf, inf, inf, inf, inf, inf, inf, inf, inf, inf, inf, inf, inf, inf, inf, inf, inf, inf, inf, inf, inf, inf, inf, inf, inf, inf, inf, inf, inf, inf, inf, inf, inf]\n",
      "dropping 'Administrative_Duration' at index: 0\n",
      "[2.874444700061761, 16.294869765836964, 269.335488570006, 635.0080254855985, 6.790224458385259, 8.169854749632975, 1.0684559926423662, 6.63077933970925, 1.0647585467762304, 296.7258733137268, 724.0899327722665, 7.071558305887018, inf, inf, inf, inf, inf, inf, inf, inf, inf, inf, inf, inf, inf, inf, inf, inf, inf, inf, inf, inf, inf, inf, inf, inf, inf, inf, inf, inf, inf, inf, inf, inf, inf, inf, inf, inf, inf]\n",
      "dropping 'Month_Aug' at index: 12\n",
      "[2.874444700061763, 16.294869765836964, 269.335488570006, 635.0080254855985, 6.790224458385259, 8.169854749632975, 1.0684559926423665, 6.63077933970925, 1.0647585467762304, 296.7258733137268, 724.0899327722665, 7.071558305887018, 4.426430240792729, 1.481428719685822, 1.9343592741643505, 1.6370628830724736, 4.7054579779953425, 6.827887323891423, 6.167806302017385, 2.1839542549379094, 1.96879617697951, inf, inf, inf, inf, inf, inf, inf, inf, inf, inf, inf, inf, inf, inf, inf, inf, inf, inf, inf, inf, inf, inf, inf, inf, inf, inf, inf]\n",
      "dropping 'OperatingSystems_1' at index: 21\n",
      "[2.874444700061762, 16.294869765836964, 269.335488570006, 635.0080254855985, 6.790224458385259, 8.169854749632975, 1.0684559926423662, 6.630779339709244, 1.0647585467762306, 296.7258733137268, 724.0899327722665, 7.071558305887024, 4.426430240792729, 1.481428719685822, 1.9343592741643505, 1.6370628830724738, 4.7054579779953425, 6.827887323891423, 6.167806302017389, 2.1839542549379094, 1.96879617697951, 6.362497856013403, 4.644361055430113, 1.2307872478463249, 1.8859622866205117, 1.0373075937706913, inf, inf, inf, inf, inf, inf, inf, inf, inf, inf, inf, inf, inf, inf, inf, inf, inf, inf, inf, inf, inf]\n",
      "dropping 'Browser_1' at index: 26\n",
      "[2.874444700061762, 16.294869765836964, 269.335488570006, 635.0080254855985, 6.790224458385259, 8.169854749632975, 1.0684559926423662, 6.63077933970925, 1.0647585467762306, 296.7258733137268, 724.0899327722665, 7.071558305887018, 4.426430240792729, 1.481428719685822, 1.9343592741643505, 1.6370628830724738, 4.7054579779953425, 6.827887323891423, 6.167806302017389, 2.1839542549379094, 1.9687961769795095, 6.362497856013403, 4.644361055430113, 1.2307872478463249, 1.8859622866205117, 1.0373075937706915, 6.090873122744485, 2.4997241468750517, 1.9040703871809908, 1.3513642303003268, 1.7006040951222987, inf, inf, inf, inf, inf, inf, inf, inf, inf, inf, inf, inf, inf, inf, inf]\n",
      "dropping 'Region_1' at index: 31\n",
      "[2.874444700061763, 16.294869765836964, 269.335488570006, 635.0080254855985, 6.790224458385259, 8.169854749632975, 1.0684559926423662, 6.63077933970925, 1.0647585467762306, 296.7258733137268, 724.0899327722665, 7.071558305887024, 4.426430240792729, 1.481428719685822, 1.9343592741643505, 1.6370628830724736, 4.7054579779953425, 6.827887323891423, 6.167806302017389, 2.1839542549379094, 1.9687961769795104, 6.362497856013403, 4.644361055430113, 1.2307872478463249, 1.8859622866205112, 1.0373075937706913, 6.090873122744485, 2.4997241468750526, 1.9040703871809908, 1.351364230300327, 1.7006040951222987, 1.133207451669003, 1.216035304001738, 1.1353500628284021, 1.1024022061376193, 1.2262720323897989, inf, inf, inf, inf, inf, inf, inf, inf, inf]\n",
      "dropping 'TrafficType_1' at index: 36\n",
      "[2.874444700061761, 16.294869765836964, 269.335488570006, 635.0080254855985, 6.790224458385259, 8.169854749632975, 1.0684559926423665, 6.63077933970925, 1.0647585467762306, 296.7258733137268, 724.0899327722665, 7.071558305887024, 4.426430240792729, 1.4814287196858225, 1.9343592741643505, 1.6370628830724738, 4.7054579779953425, 6.827887323891423, 6.167806302017389, 2.1839542549379094, 1.96879617697951, 6.362497856013407, 4.644361055430113, 1.2307872478463249, 1.8859622866205117, 1.0373075937706913, 6.090873122744485, 2.4997241468750517, 1.9040703871809908, 1.3513642303003268, 1.7006040951222987, 1.1332074516690032, 1.216035304001738, 1.1353500628284021, 1.1024022061376193, 1.2262720323897989, 2.0425078616649888, 1.6325631424430782, 1.5111912461038555, 1.3294610613769648, 1.7049046484056434, 7.356171685652973, 2.1697803568174137, 41.87631763537705]\n",
      "dropping 'total_duration' at index: 10\n",
      "[2.445045710784394, 1.6433295455963826, 109.67028079908813, 3.765708691579675, 6.780338028536606, 8.135710095023635, 1.0680944947747197, 6.626728682245222, 1.064731046143462, 115.49337604646247, 7.071204019966354, 4.425543609531956, 1.4809606938197588, 1.9330667983833951, 1.6363313536323525, 4.704347737142273, 6.827797821063518, 6.164550787852295, 2.1833760549569283, 1.9687844645810897, 6.346928985006783, 4.643835631408769, 1.2268303828494185, 1.8855420657693496, 1.0373069062395839, 6.090777177160586, 2.4996752579628567, 1.904019419882015, 1.350900149095464, 1.7005002540906153, 1.133067441508606, 1.2159243533346302, 1.1349971805602492, 1.1023469344921284, 1.2251722446645166, 2.0424702274292073, 1.6298236630256657, 1.5103309883448244, 1.3294536373257146, 1.7046857905493626, 7.286198069816044, 2.168028979280744, 41.60999651326654]\n",
      "dropping 'total_pages' at index: 9\n",
      "[1.7792587094116739, 1.6428423569332582, 4.111659211306777, 3.765113600535656, 6.727654099602632, 7.976677151786173, 1.0677954563486003, 6.624657363889203, 1.0645296309499874, 7.0698173449407165, 4.416816429682198, 1.4794419809478057, 1.9321689886273778, 1.6355573551507838, 4.698313455658541, 6.822476022507217, 6.14731526385828, 2.1815894659561237, 1.9685797941767442, 6.343220432170766, 4.6437256975980254, 1.225812156386767, 1.8853222358766262, 1.0373042782316921, 6.090313956147, 2.4995647942058477, 1.9038409179961289, 1.3508650264205588, 1.7004721534414178, 1.1327351404069914, 1.2153258539483576, 1.1346933768691287, 1.1021286394233092, 1.224675142874959, 2.0394750181824386, 1.629090263559635, 1.5100391228693604, 1.3294462794832131, 1.701752091942387, 7.147726966955595, 2.16127747529027, 41.042460098855415]\n",
      "dropping 'VisitorType_Returning_Visitor' at index: 41\n",
      "[2.0609271600475045, 1.7427906677306333, 9.128385127467517, 7.73715074595743, 7.760788545562787, 12.743617718284872, 1.1722760658120865, 7.252835935708573, 1.3763020039613176, 7.867373477211321, 2.664197819468297, 1.2246437935423358, 1.3996810363727028, 1.3004865409014819, 2.5919521817128404, 4.905664504409266, 4.093874460463576, 1.4861239070119214, 1.4126076299765409, 13.638499959183054, 5.848210477825744, 1.2638662494643191, 1.8974394370170775, 1.0397926834781344, 16.931130470991143, 2.630012895055028, 1.9611697197952958, 1.3640639240125763, 1.7539001722809844, 1.2348483285427845, 1.4773384153257738, 1.235743022233903, 1.1661093313372761, 1.4396690563909846, 2.757947380863861, 1.8085975593014691, 1.5427016155621742, 1.3908888468816385, 1.9375177570766575, 1.3931044414184275, 1.816914767575189]\n",
      "dropping 'Browser_2' at index: 24\n",
      "[2.0604805313501138, 1.742624142833344, 9.112759000423203, 7.736579074566488, 7.759037986456284, 12.736466963002652, 1.1722706856798955, 7.2519836251040335, 1.3761820371030036, 7.867033974155384, 2.626857685509641, 1.2224881660208213, 1.390838960105013, 1.2938844382188353, 2.54456878193474, 4.832859076151846, 4.018067681282356, 1.4771420921848317, 1.4006145616745405, 3.7894511374394524, 1.982676820078553, 1.186473756260567, 1.8400660094440855, 1.0170244217321678, 1.1523745262356326, 1.0854736947601145, 1.0328433714997298, 1.1513121938764812, 1.2346490957552874, 1.4767834334464198, 1.2357430076917593, 1.165783518245528, 1.438009581950802, 2.7553552510465438, 1.8068644928498603, 1.5416626619805647, 1.388231119953901, 1.9292590102711815, 1.392996356485327, 1.81688348512355]\n",
      "dropping 'ExitRates' at index: 5\n"
     ]
    },
    {
     "name": "stdout",
     "output_type": "stream",
     "text": [
      "[2.0604457563577125, 1.7425987207207772, 8.742271503768556, 7.735883308523828, 1.4350224030711665, 1.1590281887309692, 7.247393053848984, 1.3758717546155965, 7.866643694104642, 2.3097212981707083, 1.1893187821741629, 1.3150681599843639, 1.2323525933505792, 2.228593695540986, 4.336364350862545, 3.4824147702525408, 1.4045773166417166, 1.3382725479794872, 3.6888148948962374, 1.9783536245673432, 1.1807212199698318, 1.8395458481745843, 1.0169627817157092, 1.1523724328195706, 1.0854515559711575, 1.0326846937144292, 1.150864745721551, 1.2342469189510654, 1.4710639818073765, 1.2343818883550222, 1.1651543504378694, 1.437210680490758, 2.755300158256887, 1.7932802035420439, 1.5409184012344816, 1.3830394069622511, 1.9275045957045742, 1.3577131985088244, 1.8161771288929336]\n",
      "dropping 'ProductRelated' at index: 2\n",
      "[2.0394827542843843, 1.7406139269196939, 2.6973586652740997, 1.419691596819864, 1.1588714834193246, 7.243555837241812, 1.3731121863113378, 7.866582691242851, 2.297210330764805, 1.1892166403936353, 1.304748956898026, 1.2245230289779037, 2.2261162259088225, 4.322289348330989, 3.440520356617215, 1.3942858277265149, 1.3309851993837303, 3.658055399214029, 1.9738826002489862, 1.1788516322289329, 1.8394656249459713, 1.016816778810158, 1.1523037579172508, 1.0852957659685982, 1.0326846888853078, 1.1507941068612413, 1.2342027146367547, 1.4701722327278315, 1.2343725723028216, 1.1648025157867001, 1.437006394644624, 2.7473280853456616, 1.7873401124284392, 1.53700781515045, 1.3817766834101266, 1.9272004124167086, 1.3527192167457327, 1.8156255852705823]\n",
      "dropping 'SpecialOrNot' at index: 7\n",
      "[2.039443842224409, 1.7404467783304503, 2.6973061573396837, 1.4194773936486755, 1.1587471829852027, 1.4531454819837766, 1.336703568080727, 2.2967378221813894, 1.1717082125885971, 1.3046265604593343, 1.2245194620161837, 2.2253756450095246, 4.205899513738337, 3.439451212075322, 1.394018598023887, 1.3308499648107708, 3.6578630640008596, 1.973874919840525, 1.1788514518992625, 1.8394428439800694, 1.0166674330594834, 1.1520465613331592, 1.085295529972308, 1.0326499067371826, 1.1507927651346723, 1.2341844293944022, 1.4701633506182195, 1.2343323457161244, 1.1647842830891293, 1.4366491556805154, 2.7472388502362564, 1.7858691759143468, 1.5370026859239996, 1.3803360839689085, 1.9271195931955623, 1.3527051403287764, 1.815595585303105]\n",
      "Remaining variables:\n",
      "['Informational', 'Informational_Duration', 'ProductRelated_Duration', 'BounceRates', 'PageValues', 'SpecialDay', 'Weekend', 'Month_Dec', 'Month_Feb', 'Month_Jul', 'Month_June', 'Month_Mar', 'Month_May', 'Month_Nov', 'Month_Oct', 'Month_Sep', 'OperatingSystems_2', 'OperatingSystems_3', 'OperatingSystems_4', 'OperatingSystems_8', 'OperatingSystems_Other', 'Browser_4', 'Browser_5', 'Browser_6', 'Browser_Other', 'Region_2', 'Region_3', 'Region_4', 'Region_6', 'Region_Other', 'TrafficType_2', 'TrafficType_3', 'TrafficType_4', 'TrafficType_13', 'TrafficType_Other', 'VisitorType_New_Visitor', 'VisitorType_Other']\n"
     ]
    }
   ],
   "source": [
    "X = df_ohe.drop(columns = ['Revenue'])\n",
    "columns = X.columns.tolist()\n",
    "threshold = 5\n",
    "dropped = True\n",
    "remain_cols = columns.copy()\n",
    "while dropped:\n",
    "    dropped = False\n",
    "    vif = [variance_inflation_factor(X[remain_cols].values, ix) for ix in range(len(remain_cols))]\n",
    "    print (vif)\n",
    "    max_vif = vif.index(max(vif))\n",
    "    if (max(vif) > threshold):\n",
    "        print('dropping \\'' + remain_cols[max_vif] + '\\' at index: ' + str(max_vif))\n",
    "        remain_cols.pop(max_vif)\n",
    "        #remain_cols = remain_cols.drop(X.columns[max_vif])\n",
    "        dropped=True\n",
    "print('Remaining variables:')\n",
    "print(remain_cols)\n"
   ]
  },
  {
   "cell_type": "markdown",
   "metadata": {},
   "source": [
    "## 2.6 splitting train test set and scaling"
   ]
  },
  {
   "cell_type": "code",
   "execution_count": 34,
   "metadata": {},
   "outputs": [],
   "source": [
    "# prepare train, test and scale the data\n",
    "y = df_ohe['Revenue']\n",
    "X = df_ohe[remain_cols]\n",
    "X_train, X_test, y_train, y_test = train_test_split(X,y)"
   ]
  },
  {
   "cell_type": "code",
   "execution_count": 35,
   "metadata": {},
   "outputs": [],
   "source": [
    "scaler = MinMaxScaler()\n",
    "X_train_scaled = scaler.fit_transform(X_train)\n",
    "X_test_scaled = scaler.transform(X_test)"
   ]
  },
  {
   "cell_type": "markdown",
   "metadata": {},
   "source": [
    "## 2.7 model fitting"
   ]
  },
  {
   "cell_type": "code",
   "execution_count": 36,
   "metadata": {},
   "outputs": [],
   "source": [
    "# visualizations code from https://www.kaggle.com/kageyama/lgbm-online-shopper-s-eda-and-classification\n",
    "\n",
    "def plot_confusion_matrix(truth, pred, classes, normalize=False, title=''):\n",
    "    cm = confusion_matrix(truth, pred)\n",
    "    if normalize:\n",
    "        cm = cm.astype('float') / cm.sum(axis=1)[:, np.newaxis]\n",
    "    \n",
    "    plt.figure(figsize=(6, 6))\n",
    "    plt.imshow(cm, interpolation='nearest', cmap=plt.cm.Blues)\n",
    "    plt.title('Confusion matrix', size=15)\n",
    "    plt.colorbar(fraction=0.046, pad=0.04)\n",
    "    tick_marks = np.arange(len(classes))\n",
    "    plt.xticks(tick_marks, classes, rotation=45)\n",
    "    plt.yticks(tick_marks, classes)\n",
    "\n",
    "    fmt = '.2f' if normalize else 'd'\n",
    "    thresh = cm.max() / 2.\n",
    "    for i, j in itertools.product(range(cm.shape[0]), range(cm.shape[1])):\n",
    "        plt.text(j, i, format(cm[i, j], fmt),\n",
    "                 horizontalalignment=\"center\",\n",
    "                 color=\"white\" if cm[i, j] > thresh else \"black\")\n",
    "\n",
    "    plt.ylabel('True label')\n",
    "    plt.xlabel('Predicted label')\n",
    "    plt.grid(False)\n",
    "    plt.tight_layout()"
   ]
  },
  {
   "cell_type": "code",
   "execution_count": 39,
   "metadata": {},
   "outputs": [
    {
     "name": "stdout",
     "output_type": "stream",
     "text": [
      "precision:  0.2788393489030432\n",
      "recall:  0.8259958071278826\n",
      "              precision    recall  f1-score   support\n",
      "\n",
      "         0.0       0.95      0.61      0.74      2606\n",
      "         1.0       0.28      0.83      0.42       477\n",
      "\n",
      "   micro avg       0.64      0.64      0.64      3083\n",
      "   macro avg       0.61      0.72      0.58      3083\n",
      "weighted avg       0.85      0.64      0.69      3083\n",
      "\n"
     ]
    },
    {
     "data": {
      "image/png": "[encoded data removed]",
      "text/plain": [
       "<Figure size 432x432 with 2 Axes>"
      ]
     },
     "metadata": {
      "needs_background": "light"
     },
     "output_type": "display_data"
    }
   ],
   "source": [
    "# Gaussian NB is a generative model, so we don't oversample here.\n",
    "gnb = GaussianNB()\n",
    "gnb.fit(X_train_scaled, y_train)\n",
    "y_pred = gnb.predict(X_test_scaled)\n",
    "print (\"precision: \", precision_score(y_test,y_pred))\n",
    "print (\"recall: \", recall_score(y_test,y_pred))\n",
    "print (classification_report(y_test,y_pred))\n",
    "plot_confusion_matrix(y_test,y_pred, ['False','True'])"
   ]
  },
  {
   "cell_type": "markdown",
   "metadata": {},
   "source": [
    "Very high recall rate - but also high false positive rate."
   ]
  },
  {
   "cell_type": "code",
   "execution_count": 41,
   "metadata": {},
   "outputs": [
    {
     "data": {
      "text/plain": [
       "1.0    7816\n",
       "0.0    7816\n",
       "dtype: int64"
      ]
     },
     "execution_count": 41,
     "metadata": {},
     "output_type": "execute_result"
    }
   ],
   "source": [
    "# oversample the minority class - for logreg and rfc, oversampling of the training data give them more positive incidence to learn\n",
    "from imblearn.over_sampling import SMOTE\n",
    "sm = SMOTE(random_state = 0)\n",
    "X_train_scaled,y_train = sm.fit_sample(X_train_scaled,y_train.ravel())\n",
    "pd.Series(y_train).value_counts()"
   ]
  },
  {
   "cell_type": "code",
   "execution_count": 44,
   "metadata": {},
   "outputs": [
    {
     "name": "stderr",
     "output_type": "stream",
     "text": [
      "/anaconda3/lib/python3.6/site-packages/sklearn/model_selection/_split.py:2053: FutureWarning: You should specify a value for 'cv' instead of relying on the default value. The default value will change from 3 to 5 in version 0.22.\n",
      "  warnings.warn(CV_WARNING, FutureWarning)\n"
     ]
    },
    {
     "name": "stdout",
     "output_type": "stream",
     "text": [
      "precision:  0.5440956651718983\n",
      "recall:  0.7631027253668763\n",
      "              precision    recall  f1-score   support\n",
      "\n",
      "         0.0       0.95      0.88      0.92      2606\n",
      "         1.0       0.54      0.76      0.64       477\n",
      "\n",
      "   micro avg       0.86      0.86      0.86      3083\n",
      "   macro avg       0.75      0.82      0.78      3083\n",
      "weighted avg       0.89      0.86      0.87      3083\n",
      "\n"
     ]
    },
    {
     "data": {
      "image/png": "[encoded data removed]",
      "text/plain": [
       "<Figure size 432x432 with 2 Axes>"
      ]
     },
     "metadata": {
      "needs_background": "light"
     },
     "output_type": "display_data"
    }
   ],
   "source": [
    "logreg = LogisticRegressionCV(scoring = 'f1', max_iter = 1000)\n",
    "logreg.fit(X_train_scaled, y_train)\n",
    "y_pred = logreg.predict(X_test_scaled)\n",
    "print (\"precision: \", precision_score(y_test,y_pred))\n",
    "print (\"recall: \", recall_score(y_test,y_pred))\n",
    "print (classification_report(y_test,y_pred))\n",
    "plot_confusion_matrix(y_test,y_pred, ['False','True'])"
   ]
  },
  {
   "cell_type": "code",
   "execution_count": 45,
   "metadata": {},
   "outputs": [
    {
     "name": "stdout",
     "output_type": "stream",
     "text": [
      "precision:  0.6299638989169675\n",
      "recall:  0.7316561844863732\n",
      "              precision    recall  f1-score   support\n",
      "\n",
      "         0.0       0.95      0.92      0.94      2606\n",
      "         1.0       0.63      0.73      0.68       477\n",
      "\n",
      "   micro avg       0.89      0.89      0.89      3083\n",
      "   macro avg       0.79      0.83      0.81      3083\n",
      "weighted avg       0.90      0.89      0.90      3083\n",
      "\n"
     ]
    },
    {
     "data": {
      "image/png": "[encoded data removed]",
      "text/plain": [
       "<Figure size 432x432 with 2 Axes>"
      ]
     },
     "metadata": {
      "needs_background": "light"
     },
     "output_type": "display_data"
    }
   ],
   "source": [
    "rfc = RandomForestClassifier(n_estimators = 100)\n",
    "rfc.fit(X_train_scaled, y_train)\n",
    "y_pred = rfc.predict(X_test_scaled)\n",
    "print (\"precision: \", precision_score(y_test,y_pred))\n",
    "print (\"recall: \", recall_score(y_test,y_pred))\n",
    "print (classification_report(y_test,y_pred))\n",
    "plot_confusion_matrix(y_test,y_pred, ['False','True'])"
   ]
  },
  {
   "cell_type": "markdown",
   "metadata": {},
   "source": [
    "Using the best performing rfc model, let's see how it predicts the conversion rate on the test population:"
   ]
  },
  {
   "cell_type": "code",
   "execution_count": 46,
   "metadata": {},
   "outputs": [
    {
     "name": "stdout",
     "output_type": "stream",
     "text": [
      "the predicted conversion rate is 0.17969510217320792\n",
      "the actual conversion rate is 0.15471942912747325\n"
     ]
    }
   ],
   "source": [
    "y_pred = rfc.predict(X_test_scaled)\n",
    "print (\"the predicted conversion rate is\", y_pred.mean())\n",
    "print (\"the actual conversion rate is\", y_test.mean())"
   ]
  },
  {
   "cell_type": "markdown",
   "metadata": {},
   "source": [
    "## 2.8 Model tuning"
   ]
  },
  {
   "cell_type": "code",
   "execution_count": 190,
   "metadata": {},
   "outputs": [
    {
     "name": "stderr",
     "output_type": "stream",
     "text": [
      "/anaconda3/lib/python3.6/site-packages/sklearn/model_selection/_split.py:2053: FutureWarning: You should specify a value for 'cv' instead of relying on the default value. The default value will change from 3 to 5 in version 0.22.\n",
      "  warnings.warn(CV_WARNING, FutureWarning)\n",
      "[Parallel(n_jobs=1)]: Using backend SequentialBackend with 1 concurrent workers.\n"
     ]
    },
    {
     "name": "stdout",
     "output_type": "stream",
     "text": [
      "Fitting 3 folds for each of 112 candidates, totalling 336 fits\n"
     ]
    },
    {
     "name": "stderr",
     "output_type": "stream",
     "text": [
      "[Parallel(n_jobs=1)]: Done 336 out of 336 | elapsed:  5.8min finished\n"
     ]
    },
    {
     "name": "stdout",
     "output_type": "stream",
     "text": [
      "0.9358167492411688\n",
      "{'criterion': 'gini', 'max_depth': 30, 'max_features': 'sqrt', 'n_estimators': 90}\n"
     ]
    }
   ],
   "source": [
    "rfc = RandomForestClassifier()\n",
    "param_to_tune = {\n",
    "    \"max_depth\": [25,30,35,40],\n",
    "    'n_estimators': [40,50,60,70,80,90,100],\n",
    "    'criterion':['gini','entropy'],\n",
    "    'max_features' : ['auto', 'sqrt'],\n",
    "}\n",
    "cv = GridSearchCV(rfc,param_grid = param_to_tune, scoring='f1', verbose = 1)\n",
    "cv.fit(X_train_scaled, y_train)\n",
    "best_rfc = cv.best_estimator_\n",
    "print (cv.best_score_)\n",
    "print (cv.best_params_)"
   ]
  },
  {
   "cell_type": "code",
   "execution_count": 191,
   "metadata": {},
   "outputs": [
    {
     "name": "stdout",
     "output_type": "stream",
     "text": [
      "0.9358167492411688\n",
      "{'criterion': 'gini', 'max_depth': 30, 'max_features': 'sqrt', 'n_estimators': 90}\n"
     ]
    }
   ],
   "source": [
    "best_rfc = cv.best_estimator_\n",
    "print (cv.best_score_)\n",
    "print (cv.best_params_)"
   ]
  },
  {
   "cell_type": "code",
   "execution_count": 192,
   "metadata": {},
   "outputs": [
    {
     "name": "stdout",
     "output_type": "stream",
     "text": [
      "precision:  0.6554934823091247\n",
      "recall:  0.7025948103792415\n",
      "              precision    recall  f1-score   support\n",
      "\n",
      "         0.0       0.94      0.93      0.93      2582\n",
      "         1.0       0.66      0.70      0.68       501\n",
      "\n",
      "   micro avg       0.89      0.89      0.89      3083\n",
      "   macro avg       0.80      0.82      0.81      3083\n",
      "weighted avg       0.90      0.89      0.89      3083\n",
      "\n"
     ]
    },
    {
     "data": {
      "image/png": "[encoded data removed]",
      "text/plain": [
       "<Figure size 432x432 with 2 Axes>"
      ]
     },
     "metadata": {
      "needs_background": "light"
     },
     "output_type": "display_data"
    }
   ],
   "source": [
    "y_pred = best_rfc.predict(X_test_scaled)\n",
    "print (\"precision: \", precision_score(y_test,y_pred))\n",
    "print (\"recall: \", recall_score(y_test,y_pred))\n",
    "print (classification_report(y_test,y_pred))\n",
    "plot_confusion_matrix(y_test,y_pred, ['False','True'])"
   ]
  },
  {
   "cell_type": "markdown",
   "metadata": {},
   "source": [
    "Next, we can take a closer look at the factors and how the models weighs them:"
   ]
  },
  {
   "cell_type": "code",
   "execution_count": 47,
   "metadata": {},
   "outputs": [
    {
     "name": "stdout",
     "output_type": "stream",
     "text": [
      "PageValues                54.125334991161985\n",
      "Month_Feb                 -4.004724898278861\n",
      "BounceRates               -2.7936687548275123\n",
      "Browser_6                 -1.6413133947822756\n",
      "VisitorType_Other         -1.3744679940543683\n",
      "Informational             1.3658560627843968\n",
      "Month_May                 -1.26280793216913\n",
      "ProductRelated_Duration   1.150256791062243\n",
      "TrafficType_13            -0.9318137639997802\n",
      "Month_June                -0.9152552538712176\n"
     ]
    }
   ],
   "source": [
    "coef = logreg.coef_[0]\n",
    "# plt.figure(figsize=(20,20))\n",
    "# plt.barh(y=X.columns,width = coef)\n",
    "# plt.show()\n",
    "\n",
    "\n",
    "top_10 = np.argsort(-np.absolute(coef))[:10]\n",
    "for i in top_10:\n",
    "    print (\"%-25s %s\" % ((X.columns[i], coef[i])))"
   ]
  },
  {
   "cell_type": "code",
   "execution_count": 193,
   "metadata": {},
   "outputs": [
    {
     "data": {
      "image/png": "[encoded data removed]",
      "text/plain": [
       "<Figure size 720x720 with 1 Axes>"
      ]
     },
     "metadata": {
      "needs_background": "light"
     },
     "output_type": "display_data"
    },
    {
     "name": "stdout",
     "output_type": "stream",
     "text": [
      "PageValues                0.4630535486320969\n",
      "ProductRelated_Duration   0.11540482740023705\n",
      "BounceRates               0.07440396045317675\n",
      "Informational             0.04789635633609089\n",
      "Month_Nov                 0.03399948065549778\n",
      "Informational_Duration    0.0302658802513831\n",
      "TrafficType_2             0.022828254718821613\n",
      "VisitorType_New_Visitor   0.021675621487196914\n",
      "OperatingSystems_2        0.021670405552655474\n",
      "Weekend                   0.017355041472490573\n"
     ]
    }
   ],
   "source": [
    "#rfc = RandomForestClassifier(n_estimators = 100)\n",
    "#rfc.fit(X_train_scaled, y_train)\n",
    "y_pred = best_rfc.predict(X_test_scaled)\n",
    "#print (\"precision: \", precision_score(y_test,y_pred))\n",
    "#print (\"recall: \", recall_score(y_test,y_pred))\n",
    "coef =  best_rfc.feature_importances_\n",
    "plt.figure(figsize=(10,10))\n",
    "plt.barh(y=X.columns,width = coef)\n",
    "plt.show()\n",
    "\n",
    "\n",
    "top_10 = np.argsort(-np.absolute(coef))[:10]\n",
    "for i in top_10:\n",
    "    print (\"%-25s %s\" % ((X.columns[i], coef[i])))"
   ]
  },
  {
   "cell_type": "code",
   "execution_count": null,
   "metadata": {},
   "outputs": [],
   "source": []
  }
 ],
 "metadata": {
  "kernelspec": {
   "display_name": "Python 3",
   "language": "python",
   "name": "python3"
  },
  "language_info": {
   "codemirror_mode": {
    "name": "ipython",
    "version": 3
   },
   "file_extension": ".py",
   "mimetype": "text/x-python",
   "name": "python",
   "nbconvert_exporter": "python",
   "pygments_lexer": "ipython3",
   "version": "3.6.8"
  }
 },
 "nbformat": 4,
 "nbformat_minor": 2
}
